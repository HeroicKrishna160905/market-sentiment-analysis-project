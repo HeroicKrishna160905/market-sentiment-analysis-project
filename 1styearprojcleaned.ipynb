{
 "cells": [
  {
   "cell_type": "markdown",
   "id": "31978074-67f7-4ea7-9d59-48497008e98d",
   "metadata": {
    "jp-MarkdownHeadingCollapsed": true
   },
   "source": [
    "# Google news extractn"
   ]
  },
  {
   "cell_type": "code",
   "execution_count": null,
   "id": "34c9d54a-1839-4516-b783-1634bf289295",
   "metadata": {},
   "outputs": [],
   "source": [
    "import feedparser\n",
    "import pandas as pd\n",
    "from urllib.parse import urlparse\n",
    "\n",
    "# googlenews rss feed for stock market news \n",
    "rss_url = \"https://news.google.com/rss/search?q=stock+market&hl=en-US&gl=US&ceid=US:en\"\n",
    "\n",
    "# Parse rss feed\n",
    "feed = feedparser.parse(rss_url)\n",
    "\n",
    "# Extract headlines, links, sources, and dates\n",
    "news_data = []\n",
    "for entry in feed.entries:\n",
    "    parsed_url = urlparse(entry.link)\n",
    "    source_site = parsed_url.netloc  # Extract domain name (source site)\n",
    "    \n",
    "    # get publication date (if available)\n",
    "    published_date = entry.get(\"published\", \"No date available\")\n",
    "\n",
    "    news_data.append({\n",
    "        \"Headline\": entry.title,\n",
    "        \"Link\": entry.link,\n",
    "        \"Source\": source_site,\n",
    "        \"Published Date\": published_date\n",
    "    })\n",
    "\n",
    "#dataframeconversn\n",
    "news_df = pd.DataFrame(news_data)\n",
    "\n",
    "#csvsave\n",
    "news_df.to_csv(\"google_news_data.csv\", index=False)\n",
    "\n",
    "#summary\n",
    "print(f\"Total articles extracted: {len(news_df)}\")\n",
    "print(\"Unique sources found:\", news_df['Source'].nunique())\n",
    "print(news_df['Source'].value_counts())  # count of articles per source\n",
    "print(news_df.head())"
   ]
  },
  {
   "cell_type": "markdown",
   "id": "b07561f1-047a-4797-b09c-e07a9cb648ae",
   "metadata": {},
   "source": [
    "# Twtr scrapping"
   ]
  },
  {
   "cell_type": "code",
   "execution_count": null,
   "id": "a73b8d8b-0a65-435e-bcd6-0e401b28a185",
   "metadata": {},
   "outputs": [],
   "source": [
    "import time\n",
    "import datetime\n",
    "from collections import Counter\n",
    "import pandas as pd\n",
    "from selenium import webdriver\n",
    "from selenium.webdriver.chrome.service import Service\n",
    "from selenium.webdriver.chrome.options import Options\n",
    "from selenium.webdriver.common.by import By\n",
    "from webdriver_manager.chrome import ChromeDriverManager\n",
    "from plyer import notification\n",
    "\n",
    "# Setup chromedriver\n",
    "chrome_options = Options()\n",
    "chrome_options.add_argument(\"--disable-gpu\")\n",
    "chrome_options.add_argument(\"--window-size=1920,1080\")\n",
    "service = Service(ChromeDriverManager().install())\n",
    "driver = webdriver.Chrome(service=service, options=chrome_options)\n",
    "\n",
    "# basis of twitter data extraction\n",
    "influential_accounts = [\n",
    "    \"KobeissiLetter\", \"Barchart\", \"fxhedgers\", \"unusual_whales\",\n",
    "    \"TaviCosta\", \"LynAldenContact\", \"macroalf\", \"SawyerMerritt\",\n",
    "    \"WatcherGuru\", \"TheTerminal_\", \"StockMKTNewz\", \"leadlagreport\",\n",
    "    \"GameofTrades_\", \"zerohedge\", \"charliebilello\", \"federalreserve\", \"Stocktwits\"\n",
    "]\n",
    "\n",
    "market_keywords = [\n",
    "    \"stock market\", \"crash\", \"sell-off\", \"recession\", \"inflation\",\n",
    "    \"interest rates\", \"liquidity\", \"quantitative tightening\", \"Federal Reserve\",\n",
    "    \"volatility\", \"unemployment\", \"GDP\", \"housing market\", \"oil prices\"\n",
    "]\n",
    "\n",
    "def send_desktop_notification(title, message):\n",
    "    notification.notify(\n",
    "        title=title,\n",
    "        message=message,\n",
    "        timeout=10\n",
    "    )\n",
    "\n",
    "#scrapetweets based on search query\n",
    "def scrape_twitter(query):\n",
    "    twitter_url = f\"https://twitter.com/search?q={query.replace(' ', '%20')}&src=typed_query&f=live\"\n",
    "    driver.get(twitter_url)\n",
    "    time.sleep(5)\n",
    "\n",
    "    tweets_data = []\n",
    "    last_height = driver.execute_script(\"return document.body.scrollHeight\")\n",
    "    scroll_attempts = 0\n",
    "    start_time = datetime.datetime.now()\n",
    "    timeout = 60\n",
    "\n",
    "    while (datetime.datetime.now() - start_time).seconds < timeout:\n",
    "        old_tweets = len(tweets_data)\n",
    "        driver.execute_script(\"window.scrollBy(0, 2000);\")\n",
    "        time.sleep(1.5)\n",
    "        tweets = driver.find_elements(By.CSS_SELECTOR, \"article[data-testid='tweet']\")\n",
    "\n",
    "        for tweet in tweets:\n",
    "            try:\n",
    "                content = tweet.find_element(By.XPATH, \".//div[@lang]\").text\n",
    "                timestamp = tweet.find_element(By.XPATH, \".//time\").get_attribute(\"datetime\")\n",
    "                tweets_data.append({\"timestamp\": timestamp, \"content\": content})\n",
    "            except:\n",
    "                continue\n",
    "\n",
    "        new_height = driver.execute_script(\"return document.body.scrollHeight\")\n",
    "        if new_height == last_height:\n",
    "            scroll_attempts += 1\n",
    "            if scroll_attempts >= 5:\n",
    "                break\n",
    "        else:\n",
    "            scroll_attempts = 0\n",
    "        last_height = new_height\n",
    "\n",
    "    return tweets_data\n",
    "\n",
    "# csv data save\n",
    "def save_tweet_data():\n",
    "    all_tweets = []\n",
    "    for account in influential_accounts:\n",
    "        all_tweets.extend(scrape_twitter(f\"from:{account}\"))\n",
    "    \n",
    "    \n",
    "    tweets_df = pd.DataFrame(all_tweets)\n",
    "    tweets_df.to_csv(\"scraped_tweet_data.csv\", index=False)\n",
    "    print(\"Tweet data saved to scraped_tweet_data.csv\")\n",
    "\n",
    "\n",
    "# funcn for detect keyword frequency in scraped data\n",
    "def detect_keyword_frequency(tweets, keywords):\n",
    "    # Ensure all tweet content is a string before joining\n",
    "    all_text = \" \".join([str(tweet[\"content\"]) for tweet in tweets if isinstance(tweet[\"content\"], str)])\n",
    "    word_counts = Counter(all_text.lower().split())\n",
    "    return {word: word_counts[word] for word in keywords if word in word_counts}\n",
    "\n",
    "\n",
    "# Monitor market\n",
    "def monitor_market():\n",
    "    # Save tweet data\n",
    "    save_tweet_data()\n",
    "\n",
    "    # savetweetdata\n",
    "    tweets_df = pd.read_csv(\"scraped_tweet_data.csv\")\n",
    "    all_tweets = [{\"timestamp\": row[\"timestamp\"], \"content\": row[\"content\"]} for index, row in tweets_df.iterrows()]\n",
    "\n",
    "    # Detect keyword frequency\n",
    "    keyword_frequencies = detect_keyword_frequency(all_tweets, market_keywords)\n",
    "    df = pd.DataFrame({\"Keyword\": keyword_frequencies.keys(), \"Frequency\": keyword_frequencies.values()})\n",
    "    df.to_csv(\"twitter_market_sentiment_alerts.csv\", index=False)\n",
    "    \n",
    "    if any(count >= 5 for count in keyword_frequencies.values()):\n",
    "        send_desktop_notification(\"Market Alert!\", str(keyword_frequencies))\n",
    "\n",
    "    print(\"Data saved to twitter_market_sentiment_alerts.csv\")\n",
    "    print(\"Keyword Alerts:\", keyword_frequencies)\n",
    "\n",
    "monitor_market()\n",
    "driver.quit()\n"
   ]
  },
  {
   "cell_type": "markdown",
   "id": "0b2396f1-5e08-482a-9f8c-e72e8a91c28e",
   "metadata": {},
   "source": [
    "# news data cleaning"
   ]
  },
  {
   "cell_type": "code",
   "execution_count": null,
   "id": "bd007297-222d-4c48-8e70-4975acd453c7",
   "metadata": {},
   "outputs": [],
   "source": [
    "import pandas as pd\n",
    "import re\n",
    "import nltk\n",
    "from nltk.corpus import stopwords\n",
    "from nltk.tokenize import word_tokenize\n",
    "from nltk.stem import WordNetLemmatizer\n",
    "\n",
    "\n",
    "\n",
    "df = pd.read_csv(\"google_news_data.csv\")\n",
    "\n",
    "# fordroppinanyduplicates\n",
    "df = df.drop_duplicates(subset=[\"Headline\"])\n",
    "\n",
    "# Removemissinvalues\n",
    "df = df.dropna()\n",
    "\n",
    "# Convertolowercase\n",
    "df[\"Headline\"] = df[\"Headline\"].str.lower()\n",
    "\n",
    "# Funcn for clean text\n",
    "def clean_text(text):\n",
    "    text = re.sub(r'\\W', ' ', text)  # Removespecialcharacters\n",
    "    text = re.sub(r'\\s+', ' ', text)  # Removeextraspaces\n",
    "    return text.strip()\n",
    "\n",
    "df[\"Headline\"] = df[\"Headline\"].apply(clean_text)\n",
    "\n",
    "# Tokenization & Stopword Removal\n",
    "stop_words = set(stopwords.words(\"english\"))\n",
    "df[\"Tokens\"] = df[\"Headline\"].apply(lambda x: [word for word in word_tokenize(x) if word not in stop_words])\n",
    "\n",
    "# Lemmatization\n",
    "lemmatizer = WordNetLemmatizer()\n",
    "df[\"Lemmatized\"] = df[\"Tokens\"].apply(lambda x: [lemmatizer.lemmatize(word) for word in x])\n",
    "\n",
    "# Savecleanupdata\n",
    "df.to_csv(\"cleaned_google_news.csv\", index=False)\n",
    "\n",
    "\n",
    "print(df.head())"
   ]
  },
  {
   "cell_type": "markdown",
   "id": "238881b0-4649-4d35-a2ac-53cf3fb5bf88",
   "metadata": {
    "jp-MarkdownHeadingCollapsed": true
   },
   "source": [
    "# sentiment analysis of google data"
   ]
  },
  {
   "cell_type": "code",
   "execution_count": null,
   "id": "25d23e65-32c4-43f0-9e62-f96205b58e43",
   "metadata": {},
   "outputs": [],
   "source": [
    "import pandas as pd\n",
    "from nltk.sentiment import SentimentIntensityAnalyzer\n",
    "from textblob import TextBlob\n",
    "\n",
    "news_df = pd.read_csv(\"cleaned_google_news.csv\")\n",
    "\n",
    "# Initialize Sentiment Analyzer\n",
    "sia = SentimentIntensityAnalyzer()\n",
    "\n",
    "def get_vader_sentiment(text):\n",
    "    \"\"\"Compute VADER sentiment score.\"\"\"\n",
    "    return sia.polarity_scores(text)['compound']\n",
    "\n",
    "def get_textblob_sentiment(text):\n",
    "    \"\"\"Compute TextBlob sentiment score.\"\"\"\n",
    "    return TextBlob(text).sentiment.polarity\n",
    "\n",
    "# ApplyVADER\n",
    "news_df[\"VADER_Sentiment\"] = news_df[\"Headline\"].apply(get_vader_sentiment)\n",
    "news_df[\"TextBlob_Sentiment\"] = news_df[\"Headline\"].apply(get_textblob_sentiment)\n",
    "\n",
    "# AverageSentmnt\n",
    "news_df[\"Avg_Sentiment\"] = (news_df[\"VADER_Sentiment\"] + news_df[\"TextBlob_Sentiment\"]) / 2\n",
    "\n",
    "# CategorizingSentiment\n",
    "news_df[\"Sentiment_Label\"] = news_df[\"Avg_Sentiment\"].apply(lambda x: \"Positive\" if x > 0.05 else (\"Negative\" if x < -0.05 else \"Neutral\"))\n",
    "\n",
    "# Save \n",
    "news_df.to_csv(\"google_news_sentiment.csv\", index=False)\n",
    "\n",
    "print(\"Sentiment analysis completed and saved to google_news_sentiment.csv\")"
   ]
  },
  {
   "cell_type": "markdown",
   "id": "73f19ab1-6ef7-43df-9135-5d81ca815721",
   "metadata": {
    "jp-MarkdownHeadingCollapsed": true
   },
   "source": [
    "# Twitter data sentiment analysis"
   ]
  },
  {
   "cell_type": "code",
   "execution_count": null,
   "id": "5d729ca7-9ded-4e46-bbc1-56e7acfd1b15",
   "metadata": {},
   "outputs": [],
   "source": [
    "import pandas as pd\n",
    "from vaderSentiment.vaderSentiment import SentimentIntensityAnalyzer\n",
    "\n",
    "# Initialize sentiment analyzer\n",
    "analyzer = SentimentIntensityAnalyzer()\n",
    "\n",
    "#gettingoursentiment scores\n",
    "def get_sentiment_score(text):\n",
    "    # Using VADER\n",
    "    sentiment = analyzer.polarity_scores(text)\n",
    "    return sentiment['compound']  #compound score is overall sentiment\n",
    "\n",
    "#load data\n",
    "scraped_tweet_df = pd.read_csv(\"scraped_tweet_data.csv\")\n",
    "\n",
    "#calculate sentiment scores \n",
    "scraped_tweet_df['sentiment_score'] = scraped_tweet_df['content'].apply(lambda x: get_sentiment_score(str(x)))\n",
    "\n",
    "# Save \n",
    "scraped_tweet_df.to_csv(\"scraped_tweet_data_with_sentiment.csv\", index=False)\n",
    "\n",
    "print(\"Sentiment analysis complete for scraped tweets. Results saved to 'scraped_tweet_data_with_sentiment.csv'.\")\n"
   ]
  },
  {
   "cell_type": "markdown",
   "id": "302c91e5-621d-4f7d-a439-53ec9d97affd",
   "metadata": {
    "jp-MarkdownHeadingCollapsed": true
   },
   "source": [
    "# Against Market Google and twiiter\n"
   ]
  },
  {
   "cell_type": "markdown",
   "id": "d982f4f6-6616-4af9-9a5f-89486d00fd91",
   "metadata": {},
   "source": [
    "#daily google news vs market"
   ]
  },
  {
   "cell_type": "code",
   "execution_count": null,
   "id": "ebf5a9b5-cf3d-493e-b174-3289398b162e",
   "metadata": {},
   "outputs": [],
   "source": [
    "import pandas as pd\n",
    "import yfinance as yf\n",
    "from datetime import datetime\n",
    "\n",
    "#loaddata\n",
    "sentiment_df = pd.read_csv(\"google_news_sentiment.csv\")\n",
    "\n",
    "#convertpublishdate to datetime format\n",
    "sentiment_df[\"Published Date\"] = pd.to_datetime(sentiment_df[\"Published Date\"], utc=True)\n",
    "\n",
    "#get historical sp500 data\n",
    "ticker = \"^GSPC\"  # S&P 500 index\n",
    "start_date = sentiment_df[\"Published Date\"].min().strftime(\"%Y-%m-%d\")\n",
    "end_date = sentiment_df[\"Published Date\"].max().strftime(\"%Y-%m-%d\")\n",
    "sp500_data = yf.download(ticker, start=start_date, end=end_date)\n",
    "\n",
    "#flatten multindex columns if req\n",
    "if isinstance(sp500_data.columns, pd.MultiIndex):\n",
    "    sp500_data.columns = sp500_data.columns.get_level_values(0)\n",
    "\n",
    "# Debug print for sp 500 data\n",
    "print(\"Raw S&P500 Data Columns:\", sp500_data.columns)\n",
    "print(\"Raw S&P500 Data Index Names:\", sp500_data.index.names)\n",
    "\n",
    "# aggregate sentiment scores by date\n",
    "sentiment_daily = sentiment_df.groupby(sentiment_df[\"Published Date\"].dt.date)[\"Avg_Sentiment\"].mean()\n",
    "sentiment_daily.index = pd.to_datetime(sentiment_daily.index)\n",
    "\n",
    "#debug print for daily sentiment\n",
    "print(\"Sentiment Daily Index Names:\", getattr(sentiment_daily.index, 'names', None))\n",
    "print(\"First few rows of sentiment_daily:\")\n",
    "print(sentiment_daily.head())\n",
    "\n",
    "# convert sp500_data index to datetime with UTC, then to date objects\n",
    "sp500_data.index = pd.to_datetime(sp500_data.index, utc=True).date\n",
    "\n",
    "#calc daily change\n",
    "sp500_data[\"Price Change %\"] = sp500_data[\"Close\"].pct_change()\n",
    "\n",
    "#reset index to bring the date index into a column\n",
    "sp500_data = sp500_data.reset_index()\n",
    "\n",
    "# the date column might be named \"index\" if the index had no name\n",
    "if \"index\" in sp500_data.columns:\n",
    "    sp500_data = sp500_data.rename(columns={\"index\": \"Date\"})\n",
    "\n",
    "# Convert'Date' column to date objects and set as index\n",
    "sp500_data[\"Date\"] = pd.to_datetime(sp500_data[\"Date\"]).dt.date\n",
    "sp500_data.set_index(\"Date\", inplace=True)\n",
    "\n",
    "# Debug print for sp500_data\n",
    "print(\"First few rows of sp500_data:\")\n",
    "print(sp500_data.head())\n",
    "\n",
    "#merge the datasets on their date index\n",
    "merged_df = pd.merge(sp500_data, sentiment_daily, left_index=True, right_index=True, how=\"inner\")\n",
    "\n",
    "#corr-------------------------------\n",
    "correlation = merged_df[[\"Close\", \"Avg_Sentiment\"]].corr()\n",
    "\n",
    "# Displaydata merged\n",
    "print(\"Merged Data (first few rows):\")\n",
    "print(merged_df.head())\n",
    "print(\"Correlation between Close and Avg_Sentiment:\")\n",
    "print(correlation)\n",
    "\n",
    "#########################\n",
    "merged_df.to_csv(\"sentiment_vs_market_google.csv\")\n",
    "print(\"Analysis saved to 'sentiment_vs_market_google.csv'\")"
   ]
  },
  {
   "cell_type": "markdown",
   "id": "a1ccd994-07ca-4011-b2ec-c854c89e6224",
   "metadata": {},
   "source": [
    "#hourly"
   ]
  },
  {
   "cell_type": "code",
   "execution_count": null,
   "id": "77101514-5200-43dd-9e89-a2a658417766",
   "metadata": {},
   "outputs": [],
   "source": [
    "import pandas as pd\n",
    "import yfinance as yf\n",
    "from pandas.tseries.offsets import BDay\n",
    "from datetime import datetime, time\n",
    "\n",
    "\n",
    "sentiment_df = pd.read_csv(\"google_news_sentiment.csv\")\n",
    "\n",
    "#cnvert to Eastern Time (market timezone)\n",
    "sentiment_df[\"Published Date\"] = pd.to_datetime(sentiment_df[\"Published Date\"], utc=True).dt.tz_convert('America/New_York')\n",
    "\n",
    "#extractinmarket data with pre/post-market\n",
    "ticker = \"^GSPC\"\n",
    "start_date = sentiment_df[\"Published Date\"].min().strftime(\"%Y-%m-%d\")\n",
    "end_date = (sentiment_df[\"Published Date\"].max() + BDay(1)).strftime(\"%Y-%m-%d\")\n",
    "\n",
    "#1h data including pre/post-market\n",
    "sp500_data = yf.download(ticker, start=start_date, end=end_date, interval='1h', prepost=True)\n",
    "\n",
    "#cnvert market data index to Eastern Time\n",
    "sp500_data.index = sp500_data.index.tz_convert('America/New_York')\n",
    "\n",
    "#ensuring correct column namesfor multi-indexed\n",
    "if isinstance(sp500_data.columns, pd.MultiIndex):\n",
    "    sp500_data.columns = sp500_data.columns.droplevel(1)  # Fix column names\n",
    "\n",
    "#defining market hours\n",
    "market_open = time(9, 30)\n",
    "market_close = time(16, 0)\n",
    "\n",
    "def adjust_sentiment_time(ts):\n",
    "    \"\"\"Shift after-hours sentiment to next market open\"\"\"\n",
    "    ts = pd.Timestamp(ts).tz_convert('America/New_York')\n",
    "    \n",
    "    if (ts.time() > market_close) or (ts.time() < market_open) or (ts.weekday() >= 5):\n",
    "        next_open = ts + BDay(1)\n",
    "        return next_open.normalize() + pd.Timedelta(hours=9, minutes=30)\n",
    "    elif ts.time() < market_open:\n",
    "        return ts.normalize() + pd.Timedelta(hours=9, minutes=30)\n",
    "    return ts\n",
    "\n",
    "#applyin time adjustment to sentiment data\n",
    "sentiment_df[\"Adjusted Hour\"] = sentiment_df[\"Published Date\"].apply(adjust_sentiment_time)\n",
    "\n",
    "#cvnrt to proper timezone-aware datetime (FIXED)\n",
    "sentiment_df[\"Adjusted Hour\"] = pd.to_datetime(sentiment_df[\"Adjusted Hour\"]).dt.tz_convert('America/New_York')\n",
    "\n",
    "# aggregate sentiment to adjusted hours\n",
    "sentiment_hourly = sentiment_df.groupby(pd.Grouper(key=\"Adjusted Hour\", freq='h'))[\"Avg_Sentiment\"].mean()\n",
    "\n",
    "# Calculate price changes forward-looking\n",
    "sp500_data[\"Next Hour Change %\"] = sp500_data[\"Close\"].pct_change().shift(-1)\n",
    "\n",
    "#merge data using **nearest** timestamps to avoid null values\n",
    "merged_df = pd.merge_asof(\n",
    "    sp500_data[[\"Close\", \"Next Hour Change %\"]].sort_index(),\n",
    "    sentiment_hourly.sort_index(),\n",
    "    left_index=True,\n",
    "    right_index=True,\n",
    "    direction=\"backward\"\n",
    ")\n",
    "\n",
    "# Drop NaNs\n",
    "merged_df.dropna(inplace=True)\n",
    "\n",
    "# Filter to market hours only\n",
    "merged_df.index = merged_df.index.tz_convert('America/New_York').tz_localize(None)\n",
    "merged_df = merged_df.between_time(market_open, market_close)\n",
    "\n",
    "# Calc correlation\n",
    "correlation = merged_df[[\"Next Hour Change %\", \"Avg_Sentiment\"]].corr()\n",
    "\n",
    "# Sort for latest data first, that is descend.\n",
    "merged_df = merged_df.sort_index(ascending=False)\n",
    "\n",
    "print(\"hourly_sentiment_vs_market_google:\")\n",
    "print(correlation)\n",
    "print(\"\\nSample Data:\")\n",
    "print(merged_df.head())\n",
    "\n",
    "#savingg\n",
    "merged_df.to_csv(\"hourly_sentiment_vs_market_google.csv\")\n"
   ]
  },
  {
   "cell_type": "markdown",
   "id": "411515b0-ed5a-42b3-92d2-5ae0bbeb69a8",
   "metadata": {},
   "source": [
    "#twitter hourly"
   ]
  },
  {
   "cell_type": "code",
   "execution_count": null,
   "id": "26f5f0ea-5b3a-43b1-8797-d5a53d982158",
   "metadata": {},
   "outputs": [],
   "source": [
    "import pandas as pd\n",
    "import yfinance as yf\n",
    "from pandas.tseries.offsets import BDay\n",
    "from datetime import datetime, time\n",
    "\n",
    "\n",
    "tweet_sentiment_df = pd.read_csv(\"scraped_tweet_data_with_sentiment.csv\")\n",
    "\n",
    "# Cnvert to Est time zone\n",
    "tweet_sentiment_df[\"timestamp\"] = pd.to_datetime(tweet_sentiment_df[\"timestamp\"], utc=True).dt.tz_convert('America/New_York')\n",
    "\n",
    "#market data for the last 60 days\n",
    "ticker = \"^GSPC\"  # S&P 500 index as an example\n",
    "end_date = datetime.now()  #current date==end date\n",
    "start_date = end_date - pd.Timedelta(days=60)  #days limit\n",
    "\n",
    "#1h data including pre/post-market\n",
    "sp500_data = yf.download(ticker, start=start_date, end=end_date, interval='1h', prepost=True)\n",
    "\n",
    "#chnge market data index to eastern Timeee\n",
    "sp500_data.index = sp500_data.index.tz_convert('America/New_York')\n",
    "\n",
    "#correct column names for multi-indexed\n",
    "if isinstance(sp500_data.columns, pd.MultiIndex):\n",
    "    sp500_data.columns = sp500_data.columns.droplevel(1)  # fix colomn names\n",
    "\n",
    "#market hours\n",
    "market_open = time(9, 30)\n",
    "market_close = time(16, 0)\n",
    "\n",
    "def adjust_sentiment_time(ts):\n",
    "    \"\"\"Shift after-hours sentiment to next market open\"\"\"\n",
    "    ts = pd.Timestamp(ts).tz_convert('America/New_York')\n",
    "    \n",
    "    if (ts.time() > market_close) or (ts.time() < market_open) or (ts.weekday() >= 5):\n",
    "        next_open = ts + BDay(1)\n",
    "        return next_open.normalize() + pd.Timedelta(hours=9, minutes=30)\n",
    "    elif ts.time() < market_open:\n",
    "        return ts.normalize() + pd.Timedelta(hours=9, minutes=30)\n",
    "    return ts\n",
    "\n",
    "# Apply timeadjustment to sentiment data\n",
    "tweet_sentiment_df[\"Adjusted Hour\"] = tweet_sentiment_df[\"timestamp\"].apply(adjust_sentiment_time)\n",
    "\n",
    "# Convert to proper timezone-aware datetime (FIXED)\n",
    "tweet_sentiment_df[\"Adjusted Hour\"] = pd.to_datetime(tweet_sentiment_df[\"Adjusted Hour\"]).dt.tz_convert('America/New_York')\n",
    "\n",
    "#agg sent to adjusted hrs\n",
    "sentiment_hourly = tweet_sentiment_df.groupby(pd.Grouper(key=\"Adjusted Hour\", freq='h'))[\"sentiment_score\"].mean()\n",
    "\n",
    "#price changes forward-looking (next hour)\n",
    "sp500_data[\"Next Hour Change %\"] = sp500_data[\"Close\"].pct_change().shift(-1)\n",
    "\n",
    "#merge to nearest for avoiding null\n",
    "merged_df = pd.merge_asof(\n",
    "    sp500_data[[\"Close\", \"Next Hour Change %\"]].sort_index(),\n",
    "    sentiment_hourly.sort_index(),\n",
    "    left_index=True,\n",
    "    right_index=True,\n",
    "    direction=\"backward\"\n",
    ")\n",
    "\n",
    "#dropnulls\n",
    "merged_df.dropna(inplace=True)\n",
    "\n",
    "#filterformakrkethours\n",
    "merged_df.index = merged_df.index.tz_convert('America/New_York').tz_localize(None)\n",
    "merged_df = merged_df.between_time(market_open, market_close)\n",
    "\n",
    "#corr cal.\n",
    "correlation = merged_df[[\"Next Hour Change %\", \"sentiment_score\"]].corr()\n",
    "\n",
    "#latest sort\n",
    "merged_df = merged_df.sort_index(ascending=False)\n",
    "\n",
    "# Print correlation and sample data\n",
    "print(\"hourly_sentiment_vs_market_tweets:\")\n",
    "print(correlation)\n",
    "print(\"\\nSample Data:\")\n",
    "print(merged_df.head())\n",
    "\n",
    "# Save\n",
    "merged_df.to_csv(\"hourly_sentiment_vs_market_tweets.csv\")\n",
    "print(\"Analysis saved to 'hourly_sentiment_vs_market_tweets.csv'\")\n"
   ]
  },
  {
   "cell_type": "markdown",
   "id": "67297517-f25d-49ca-86dd-263139d2d7a7",
   "metadata": {},
   "source": [
    "#dailybasis"
   ]
  },
  {
   "cell_type": "code",
   "execution_count": null,
   "id": "1c500e6b-b7fa-41ec-a440-c93ca3bf9af3",
   "metadata": {},
   "outputs": [],
   "source": [
    "import pandas as pd\n",
    "import yfinance as yf\n",
    "from datetime import datetime, timedelta\n",
    "\n",
    "\n",
    "tweet_sentiment_df = pd.read_csv(\"scraped_tweet_data_with_sentiment.csv\")\n",
    "\n",
    "# convert timestamp to datetime format\n",
    "tweet_sentiment_df[\"timestamp\"] = pd.to_datetime(tweet_sentiment_df[\"timestamp\"], utc=True)\n",
    "\n",
    "# Get historical S&P 500\n",
    "ticker = \"^GSPC\"  # S&P 500 index \n",
    "start_date = tweet_sentiment_df[\"timestamp\"].min().strftime(\"%Y-%m-%d\")\n",
    "end_date = tweet_sentiment_df[\"timestamp\"].max().strftime(\"%Y-%m-%d\")\n",
    "\n",
    "\n",
    "sp500_data = yf.download(ticker, start=start_date, end=end_date)\n",
    "\n",
    "#pint sp500 data\n",
    "print(sp500_data.columns)\n",
    "\n",
    "#converttt index to datetime\n",
    "sp500_data.index = pd.to_datetime(sp500_data.index, utc=True)\n",
    "\n",
    "#cal. daily percentage change\n",
    "sp500_data[\"Price Change %\"] = sp500_data[\"Close\"].pct_change() * 100  # Percentage change in stock price\n",
    "\n",
    "#Aggregate tweet sentiment scores by date (mean sentiment per day)\n",
    "sentiment_daily = tweet_sentiment_df.groupby(tweet_sentiment_df[\"timestamp\"].dt.date)[\"sentiment_score\"].mean()\n",
    "\n",
    "# Convert sentimentdaily index to datetime format\n",
    "sentiment_daily.index = pd.to_datetime(sentiment_daily.index, utc=True)\n",
    "\n",
    "#-----------Merging sentiment data with market data---------------------\n",
    "# Flatten multiIndx by resetting it for sp 500 data\n",
    "sp500_data = sp500_data.reset_index()\n",
    "\n",
    "# rename columns to remove MultiIndex\n",
    "sp500_data.columns = ['Date'] + [col[0] for col in sp500_data.columns[1:]]\n",
    "\n",
    "#convertt 'Date' to datetime and set as index for sp500 data\n",
    "sp500_data[\"Date\"] = pd.to_datetime(sp500_data[\"Date\"]).dt.date\n",
    "sp500_data.set_index(\"Date\", inplace=True)\n",
    "\n",
    "# Ensuring our sentiment data index in the correct format (datetime.date)\n",
    "sentiment_daily.index = pd.to_datetime(sentiment_daily.index).date\n",
    "\n",
    "# Mergedatasets on the 'Date' index\n",
    "merged_df = pd.merge(sp500_data, sentiment_daily, left_index=True, right_index=True, how=\"inner\")\n",
    "\n",
    "#corr compute------------------\n",
    "correlation = merged_df[[\"Close\", \"sentiment_score\"]].corr()\n",
    "\n",
    "# Display corr and data\n",
    "print(merged_df.head())\n",
    "print(\"Correlation between sentiment and market price change:\")\n",
    "print(correlation)\n",
    "\n",
    "#saving our data obtained\n",
    "merged_df.to_csv(\"sentiment_vs_market_tweets.csv\")\n",
    "print(\"Analysis saved to 'sentiment_vs_market_tweets.csv'\")"
   ]
  },
  {
   "cell_type": "markdown",
   "id": "66feb065-83ca-4265-96be-05f99f6c2098",
   "metadata": {
    "jp-MarkdownHeadingCollapsed": true
   },
   "source": [
    "# dashboard"
   ]
  },
  {
   "cell_type": "code",
   "execution_count": null,
   "id": "29d59b69-175c-4f7a-9f45-3df191da8854",
   "metadata": {},
   "outputs": [],
   "source": [
    "import pandas as pd\n",
    "import matplotlib.pyplot as plt\n",
    "import seaborn as sns\n",
    "\n",
    "\n",
    "\n",
    "\n",
    "google_news_sentiment = pd.read_csv(\"google_news_sentiment.csv\")\n",
    "#cnvrt \"Published Date\" to datetime\n",
    "google_news_sentiment[\"Published Date\"] = pd.to_datetime(google_news_sentiment[\"Published Date\"], errors='coerce')\n",
    "\n",
    "# load hourly google vs market data\n",
    "hourly_sentiment_vs_market_google = pd.read_csv(\"hourly_sentiment_vs_market_google.csv\")\n",
    "hourly_sentiment_vs_market_google[\"Datetime\"] = pd.to_datetime(hourly_sentiment_vs_market_google[\"Datetime\"], errors='coerce')\n",
    "# Rename sentiment column to google news setiment\n",
    "hourly_sentiment_vs_market_google.rename(columns={\"Avg_Sentiment\": \"Google_News_Sentiment\"}, inplace=True)\n",
    "\n",
    "#Hourly Sentiment vs. Market Data for Twitter\n",
    "hourly_sentiment_vs_market_tweets = pd.read_csv(\"hourly_sentiment_vs_market_tweets.csv\")\n",
    "hourly_sentiment_vs_market_tweets[\"Datetime\"] = pd.to_datetime(hourly_sentiment_vs_market_tweets[\"Datetime\"], errors='coerce')\n",
    "# Rename sentiment column to twitter sentimnt\n",
    "hourly_sentiment_vs_market_tweets.rename(columns={\"sentiment_score\": \"Twitter_Sentiment\"}, inplace=True)\n",
    "\n",
    "#load scraped tweet data with sentmnt\n",
    "scraped_tweet_sentiment = pd.read_csv(\"scraped_tweet_data_with_sentiment.csv\")\n",
    "scraped_tweet_sentiment[\"timestamp\"] = pd.to_datetime(scraped_tweet_sentiment[\"timestamp\"], errors='coerce')\n",
    "\n",
    "# Load daily google sentmnt vs market data\n",
    "#the first column is the date index. Parse dates and use that as index.\n",
    "high_corr_google_sentiment = pd.read_csv(\"sentiment_vs_market_google.csv\", index_col=0, parse_dates=True)\n",
    "high_corr_google_sentiment.rename(columns={\"Avg_Sentiment\": \"Google_High_Corr_Sentiment\"}, inplace=True)\n",
    "\n",
    "\n",
    "##-------------- Merge Hourly Sentiment Data----------\n",
    "\n",
    "\n",
    "# mergehourly sentiment from Google News and Twitter on the \"Datetime\" column (outer join)\n",
    "merged_hourly_sentiment = pd.merge(hourly_sentiment_vs_market_google, \n",
    "                                   hourly_sentiment_vs_market_tweets[[\"Datetime\", \"Twitter_Sentiment\"]],\n",
    "                                   on=\"Datetime\", \n",
    "                                   how=\"outer\")\n",
    "\n",
    "# Sort bydatetime\n",
    "merged_hourly_sentiment = merged_hourly_sentiment.sort_values(by=\"Datetime\")\n",
    "\n",
    "# fillin missing market data (\"Close\" and \"Next Hour Change %\") with forward then backward fill\n",
    "merged_hourly_sentiment[\"Close\"].fillna(method=\"ffill\", inplace=True)\n",
    "merged_hourly_sentiment[\"Close\"].fillna(method=\"bfill\", inplace=True)\n",
    "merged_hourly_sentiment[\"Next Hour Change %\"].fillna(method=\"ffill\", inplace=True)\n",
    "merged_hourly_sentiment[\"Next Hour Change %\"].fillna(method=\"bfill\", inplace=True)\n",
    "\n",
    "# -------------------------------\n",
    "# aggregate daily sent.data\n",
    "\n",
    "\n",
    "# Create a Date column from the Datetime column\n",
    "merged_hourly_sentiment[\"Date\"] = merged_hourly_sentiment[\"Datetime\"].dt.date\n",
    "\n",
    "# Aggregate daily values:\n",
    "# - For sentiment: take the mean of Google News and Twitter sentiments\n",
    "# - For market: take the last closing price and sum the next hour % change as a proxy for daily change\n",
    "daily_sentiment = merged_hourly_sentiment.groupby(\"Date\").agg({\n",
    "    \"Google_News_Sentiment\": \"mean\",\n",
    "    \"Twitter_Sentiment\": \"mean\",\n",
    "    \"Close\": \"last\",\n",
    "    \"Next Hour Change %\": \"sum\"\n",
    "}).reset_index()\n",
    "\n",
    "# Ensure the Date column is in datetime format\n",
    "daily_sentiment[\"Date\"] = pd.to_datetime(daily_sentiment[\"Date\"])\n",
    "\n",
    "\n",
    "#-------------------Merge with High-Correlation Google Sentiment Data\n",
    "\n",
    "\n",
    "# Merge the high-correlation Google sentiment into our daily data using the Date as key.\n",
    "daily_sentiment_merged = daily_sentiment.merge(\n",
    "    high_corr_google_sentiment[[\"Google_High_Corr_Sentiment\"]],\n",
    "    left_on=\"Date\", \n",
    "    right_index=True, \n",
    "    how=\"left\"\n",
    ")\n",
    "\n",
    "# Fill any remaining missing values for high-correlation sentiment\n",
    "daily_sentiment_merged[\"Google_High_Corr_Sentiment\"].fillna(method=\"ffill\", inplace=True)\n",
    "daily_sentiment_merged[\"Google_High_Corr_Sentiment\"].fillna(method=\"bfill\", inplace=True)\n",
    "\n",
    "#  Save merged daily sentiment data to CSV for later use\n",
    "daily_sentiment_merged.to_csv(\"daily_sentiment_merged.csv\", index=False)\n"
   ]
  },
  {
   "cell_type": "code",
   "execution_count": 1,
   "id": "fbc230ee-8bb5-43b7-bfb3-1b0a6f21c4c1",
   "metadata": {
    "scrolled": true
   },
   "outputs": [
    {
     "data": {
      "text/html": [
       "\n",
       "        <iframe\n",
       "            width=\"100%\"\n",
       "            height=\"650\"\n",
       "            src=\"http://127.0.0.1:8050/\"\n",
       "            frameborder=\"0\"\n",
       "            allowfullscreen\n",
       "            \n",
       "        ></iframe>\n",
       "        "
      ],
      "text/plain": [
       "<IPython.lib.display.IFrame at 0x20a95d978c0>"
      ]
     },
     "metadata": {},
     "output_type": "display_data"
    }
   ],
   "source": [
    "import dash\n",
    "from dash import dcc, html\n",
    "from dash.dependencies import Input, Output\n",
    "import plotly.graph_objects as go\n",
    "import plotly.express as px\n",
    "import pandas as pd\n",
    "\n",
    "\n",
    " #Load\n",
    "\n",
    "daily_sentiment_merged = pd.read_csv(\"daily_sentiment_merged.csv\")\n",
    "daily_sentiment_merged[\"Date\"] = pd.to_datetime(daily_sentiment_merged[\"Date\"])\n",
    "\n",
    "\n",
    " #Create dashapp layout\n",
    "\n",
    "app = dash.Dash(__name__)\n",
    "\n",
    "app.layout = html.Div([\n",
    "    html.H1(\"Market Sentiment Dashboard\"),\n",
    "    html.Div([\n",
    "        html.Label(\"Select Date Range:\"),\n",
    "        dcc.DatePickerRange(\n",
    "            id=\"date-picker\",\n",
    "            min_date_allowed=daily_sentiment_merged[\"Date\"].min().date(),\n",
    "            max_date_allowed=daily_sentiment_merged[\"Date\"].max().date(),\n",
    "            start_date=daily_sentiment_merged[\"Date\"].min().date(),\n",
    "            end_date=daily_sentiment_merged[\"Date\"].max().date()\n",
    "        )\n",
    "    ], style={\"margin\": \"20px\"}),\n",
    "\n",
    "    dcc.Graph(id=\"sentiment-trend\"),\n",
    "    dcc.Graph(id=\"dual-axis-plot\"),\n",
    "    dcc.Graph(id=\"scatter-plot\"),\n",
    "    dcc.Graph(id=\"sentiment-histogram\"),\n",
    "    dcc.Graph(id=\"heatmap\")\n",
    "])\n",
    "\n",
    "\n",
    "#callback to Update Graphs\n",
    "\n",
    "@app.callback(\n",
    "    [Output(\"sentiment-trend\", \"figure\"),\n",
    "     Output(\"dual-axis-plot\", \"figure\"),\n",
    "     Output(\"scatter-plot\", \"figure\"),\n",
    "     Output(\"sentiment-histogram\", \"figure\"),\n",
    "     Output(\"heatmap\", \"figure\")],\n",
    "    [Input(\"date-picker\", \"start_date\"),\n",
    "     Input(\"date-picker\", \"end_date\")]\n",
    ")\n",
    "def update_graphs(start_date, end_date):\n",
    "    #filter dataframe based on selected date range\n",
    "    mask = (daily_sentiment_merged[\"Date\"] >= start_date) & (daily_sentiment_merged[\"Date\"] <= end_date)\n",
    "    filtered_df = daily_sentiment_merged.loc[mask]\n",
    "    \n",
    "    # --- Graph : Daily Sentiment Trends\n",
    "    fig1 = go.Figure()\n",
    "    fig1.add_trace(go.Scatter(\n",
    "        x=filtered_df[\"Date\"],\n",
    "        y=filtered_df[\"Google_News_Sentiment\"],\n",
    "        mode='lines+markers',\n",
    "        name='Google News Sentiment',\n",
    "        line=dict(color='blue')\n",
    "    ))\n",
    "    fig1.add_trace(go.Scatter(\n",
    "        x=filtered_df[\"Date\"],\n",
    "        y=filtered_df[\"Twitter_Sentiment\"],\n",
    "        mode='lines+markers',\n",
    "        name='Twitter Sentiment',\n",
    "        line=dict(color='orange')\n",
    "    ))\n",
    "    fig1.update_layout(\n",
    "        title=\"Daily Sentiment Trends\",\n",
    "        xaxis_title=\"Date\",\n",
    "        yaxis_title=\"Sentiment Score\",\n",
    "        hovermode=\"x unified\"\n",
    "    )\n",
    "    \n",
    "    # --------------- Graph: dual-Axis Plot: sentiment vs. Market \n",
    "    fig2 = go.Figure()\n",
    "    fig2.add_trace(go.Scatter(\n",
    "        x=filtered_df[\"Date\"],\n",
    "        y=filtered_df[\"Google_News_Sentiment\"],\n",
    "        mode='lines+markers',\n",
    "        name='Google News Sentiment',\n",
    "        line=dict(color='blue')\n",
    "    ))\n",
    "    fig2.add_trace(go.Scatter(\n",
    "        x=filtered_df[\"Date\"],\n",
    "        y=filtered_df[\"Twitter_Sentiment\"],\n",
    "        mode='lines+markers',\n",
    "        name='Twitter Sentiment',\n",
    "        line=dict(color='orange')\n",
    "    ))\n",
    "    fig2.add_trace(go.Scatter(\n",
    "        x=filtered_df[\"Date\"],\n",
    "        y=filtered_df[\"Next Hour Change %\"],\n",
    "        mode='lines+markers',\n",
    "        name='Market Change %',\n",
    "        line=dict(color='red'),\n",
    "        yaxis=\"y2\"\n",
    "    ))\n",
    "    fig2.update_layout(\n",
    "        title=\"Daily Sentiment vs. Market Movement\",\n",
    "        xaxis_title=\"Date\",\n",
    "        yaxis=dict(title=\"Sentiment Score\", titlefont=dict(color=\"blue\"), tickfont=dict(color=\"blue\")),\n",
    "        yaxis2=dict(title=\"Market Change %\", overlaying=\"y\", side=\"right\", \n",
    "                    titlefont=dict(color=\"red\"), tickfont=dict(color=\"red\")),\n",
    "        hovermode=\"x unified\"\n",
    "    )\n",
    "    \n",
    "    # --\\------- Graph : Scatter Plot:google high corr vs. Market Change \n",
    "    fig3 = go.Figure()\n",
    "    fig3.add_trace(go.Scatter(\n",
    "        x=filtered_df[\"Google_High_Corr_Sentiment\"],\n",
    "        y=filtered_df[\"Next Hour Change %\"],\n",
    "        mode='markers',\n",
    "        marker=dict(color='green', size=10),\n",
    "        name=\"Google_High_Corr_Sentiment vs Market Change\"\n",
    "    ))\n",
    "    fig3.update_layout(\n",
    "        title=\"Scatter Plot: Google_High_Corr_Sentiment vs. Market Change %\",\n",
    "        xaxis_title=\"Google_High_Corr_Sentiment\",\n",
    "        yaxis_title=\"Market Change %\",\n",
    "        hovermode=\"closest\"\n",
    "    )\n",
    "    \n",
    "    # ----------------- Graph : Histogram: sentiment score distrbtn\n",
    "    fig4 = go.Figure()\n",
    "    fig4.add_trace(go.Histogram(\n",
    "        x=filtered_df[\"Google_News_Sentiment\"],\n",
    "        nbinsx=20,\n",
    "        name=\"Google News Sentiment\",\n",
    "        marker_color='blue',\n",
    "        opacity=0.7\n",
    "    ))\n",
    "    fig4.add_trace(go.Histogram(\n",
    "        x=filtered_df[\"Twitter_Sentiment\"],\n",
    "        nbinsx=20,\n",
    "        name=\"Twitter Sentiment\",\n",
    "        marker_color='orange',\n",
    "        opacity=0.7\n",
    "    ))\n",
    "    fig4.update_layout(\n",
    "        title=\"Histogram: Sentiment Score Distributions\",\n",
    "        xaxis_title=\"Sentiment Score\",\n",
    "        yaxis_title=\"Count\",\n",
    "        barmode=\"overlay\",\n",
    "        hovermode=\"closest\"\n",
    "    )\n",
    "    \n",
    "    # ------------------- Graph : Correlation Heatmap\n",
    "    # computin the correlation matrix for selected columns\n",
    "    corr_cols = [\"Google_News_Sentiment\", \"Twitter_Sentiment\", \"Next Hour Change %\", \"Google_High_Corr_Sentiment\"]\n",
    "    corr_matrix = filtered_df[corr_cols].corr()\n",
    "    fig5 = px.imshow(corr_matrix,\n",
    "                     text_auto=True,\n",
    "                     color_continuous_scale='RdBu',\n",
    "                     title=\"Correlation Heatmap: Sentiment vs Market Movement\")\n",
    "    fig5.update_layout(hovermode=\"closest\")\n",
    "    \n",
    "    return fig1, fig2, fig3, fig4, fig5\n",
    "\n",
    "\n",
    "#Run dAshApp\n",
    "\n",
    "if __name__ == '__main__':\n",
    "    app.run(debug=True)\n"
   ]
  },
  {
   "cell_type": "markdown",
   "id": "4b4a6ce5-dc0f-419e-91c6-7de2bf11b3b3",
   "metadata": {
    "jp-MarkdownHeadingCollapsed": true
   },
   "source": [
    "# SEC Fillings from FRED"
   ]
  },
  {
   "cell_type": "code",
   "execution_count": null,
   "id": "1fa429bf-c75e-4dd7-bee9-caa705154549",
   "metadata": {},
   "outputs": [],
   "source": [
    "import requests\n",
    "import time\n",
    "import pandas as pd\n",
    "from datetime import datetime\n",
    "\n",
    "#List of CIKs for multiple companies\n",
    "CIK_LIST = [\n",
    "    \"0000320193\", \"0000789019\", \"0001652044\", \"0001018724\", \"0001045810\",\n",
    "    \"0001326801\", \"0001067983\", \"0001318605\", \"0000731766\", \"0000034088\",\n",
    "    \"0000200406\", \"0000019617\", \"0001403161\", \"0000080424\", \"0001141391\",\n",
    "    \"0000354950\", \"0000093410\", \"0000310158\", \"0001551152\", \"0000059478\",\n",
    "    \"0000021344\", \"0000077476\", \"0001730168\", \"0001744489\", \"0000078003\",\n",
    "    \"0000070858\", \"0000858877\", \"0000796343\", \"0001065280\", \"0001108524\",\n",
    "    \"0001166691\", \"0001341439\", \"0000063908\", \"0000909832\", \"0000050863\",\n",
    "    \"0000732712\", \"0000732717\", \"0000001800\", \"0000097745\", \"0000313546\",\n",
    "    \"0000320187\", \"0000318154\", \"0000097476\", \"0001283699\", \"0000773840\",\n",
    "    \"0001613103\", \"0000804328\", \"0000100885\", \"0000018230\", \"0000886982\"\n",
    "    \n",
    "    \n",
    "]\n",
    "\n",
    "#sec api \n",
    "SEC_API_URL_TEMPLATE = \"https://data.sec.gov/api/xbrl/companyfacts/CIK{CIK}.json\"\n",
    "\n",
    "#headers to avoid being blocked\n",
    "HEADERS = {\n",
    "    \"User-Agent\": \"krishnabarai (karishna.barai@email.com)\",  \n",
    "    \"Accept-Encoding\": \"gzip, deflate\",\n",
    "    \"Accept\": \"application/json\",\n",
    "    \"Connection\": \"keep-alive\",\n",
    "}\n",
    "\n",
    "#function to fetch data for a specific company\n",
    "def get_sec_data(cik):\n",
    "    SEC_API_URL = SEC_API_URL_TEMPLATE.format(CIK=cik)\n",
    "    print(f\" Fetching data for CIK: {cik}\")\n",
    "    time.sleep(5)  #to prevent rate limits\n",
    "\n",
    "    response = requests.get(SEC_API_URL, headers=HEADERS)\n",
    "\n",
    "    if response.status_code == 403:\n",
    "        print(\" SEC is blocking us! Try using a VPN or waiting.\")\n",
    "        return None\n",
    "    elif response.status_code != 200:\n",
    "        print(f\" Unexpected status code: {response.status_code}\")\n",
    "        return None\n",
    "    return response.json()\n",
    "\n",
    "#a list to store all filings data\n",
    "all_filings_data = []\n",
    "\n",
    "#Iterate over all CIKs in the list\n",
    "for cik in CIK_LIST:\n",
    "    sec_data = get_sec_data(cik)\n",
    "    \n",
    "    if sec_data:\n",
    "        us_gaap_filings = sec_data.get(\"facts\", {}).get(\"us-gaap\", {})\n",
    "        dei_filings = sec_data.get(\"facts\", {}).get(\"dei\", {})\n",
    "        \n",
    "        # Extract data from 'us-gaap' section\n",
    "        for key, value in us_gaap_filings.items():\n",
    "            text_to_save = str(value.get('units', '')) + str(value.get('val', ''))\n",
    "            all_filings_data.append({\n",
    "                \"timestamp\": datetime.now().strftime(\"%Y-%m-%d %H:%M:%S\"),\n",
    "                \"cik\": cik,\n",
    "                \"section\": \"us-gaap\",\n",
    "                \"key\": key,\n",
    "                \"units\": value.get('units', ''),\n",
    "                \"value\": value.get('val', ''),\n",
    "                \"text\": text_to_save\n",
    "            })\n",
    "        \n",
    "        #extract data from 'dei' section\n",
    "        for key, value in dei_filings.items():\n",
    "            text_to_save = str(value.get('units', '')) + str(value.get('val', ''))\n",
    "            all_filings_data.append({\n",
    "                \"timestamp\": datetime.now().strftime(\"%Y-%m-%d %H:%M:%S\"),\n",
    "                \"cik\": cik,\n",
    "                \"section\": \"dei\",\n",
    "                \"key\": key,\n",
    "                \"units\": value.get('units', ''),\n",
    "                \"value\": value.get('val', ''),\n",
    "                \"text\": text_to_save\n",
    "            })\n",
    "    \n",
    "    print(f\"Data for CIK {cik} processed.\")\n",
    "\n",
    "# Save csv\n",
    "df = pd.DataFrame(all_filings_data)\n",
    "df.to_csv(\"sec_earnings_transcripts.csv\", mode='a', header=False, index=False)\n",
    "\n",
    "print(f\" All data saved to 'sec_earnings_transcripts.csv'. Total filings collected: {len(all_filings_data)}.\")\n"
   ]
  },
  {
   "cell_type": "code",
   "execution_count": null,
   "id": "f377c545-cabe-490f-9d7a-24ddd3bf91b7",
   "metadata": {},
   "outputs": [],
   "source": [
    "#alerts"
   ]
  },
  {
   "cell_type": "code",
   "execution_count": null,
   "id": "98618484-5405-4f65-b50e-97f72ea15e63",
   "metadata": {},
   "outputs": [],
   "source": [
    "import pandas as pd\n",
    "import ast\n",
    "import numpy as np\n",
    "\n",
    "#optimized config\n",
    "RISK_CONFIG = {\n",
    "    'value_thresholds': {\n",
    "        'default': 4_886_000_000,  # 75th %ile\n",
    "        'AccountsPayable': 8_000_000_000,\n",
    "        'Revenue': 15_000_000_000,\n",
    "        'Cash': 5_000_000_000\n",
    "    },\n",
    "    \n",
    "    'drop_thresholds': {\n",
    "        'min_quarters': 3,  #Req 3 consec drops\n",
    "        'pct_drop': 0.5,    #50% drop from baseline\n",
    "        'min_abs_drop': 1_000_000_000  # $1bill min\n",
    "    },\n",
    "    \n",
    "    'negative_value': {\n",
    "        'lower_bound': -1_000_000_000,  # Ignore values < -$1B as data errors\n",
    "        'whitelist': ['TaxAssets', 'DeferredRevenue']\n",
    "    }\n",
    "}\n",
    "\n",
    "# loadata\n",
    "df = pd.read_csv(\"sec_earnings_transcripts.csv\", \n",
    "                header=None,\n",
    "                names=['Timestamp', 'CIK', 'Taxonomy', 'Account',\n",
    "                       'USD_Data1', 'Unnamed', 'USD_Data2'])\n",
    "\n",
    "# historical tracking with trend analysis\n",
    "history = {}\n",
    "\n",
    "def analyze_risks(row):\n",
    "    try:\n",
    "        account = row['Account']\n",
    "        data = ast.literal_eval(row['USD_Data1'])\n",
    "        values = [item['val'] for item in data['USD']]\n",
    "        \n",
    "        if not values:\n",
    "            return None\n",
    "            \n",
    "        current_val = values[-1]\n",
    "        key = (row['CIK'], account)\n",
    "        prev_vals = history.get(key, [])\n",
    "        \n",
    "        alerts = []\n",
    "        \n",
    "        #High Value Check\n",
    "        threshold = RISK_CONFIG['value_thresholds'].get(account, RISK_CONFIG['value_thresholds']['default'])\n",
    "        if current_val > threshold:\n",
    "            alerts.append(f'high_value (${current_val/1e9:.1f}B > ${threshold/1e9:.1f}B)')\n",
    "            \n",
    "        #Valid Negative Value Check\n",
    "        if (current_val < RISK_CONFIG['negative_value']['lower_bound'] or \n",
    "            (current_val < 0 and account not in RISK_CONFIG['negative_value']['whitelist'])):\n",
    "            alerts.append(f'invalid_negative (${current_val/1e6:.1f}M)')\n",
    "            \n",
    "        #Significant Drop Analysis\n",
    "        if len(prev_vals) >= RISK_CONFIG['drop_thresholds']['min_quarters']:\n",
    "            baseline = np.mean(prev_vals[:-RISK_CONFIG['drop_thresholds']['min_quarters']])\n",
    "            current_avg = np.mean(prev_vals[-RISK_CONFIG['drop_thresholds']['min_quarters']:])\n",
    "            \n",
    "            pct_drop = (baseline - current_avg)/baseline if baseline != 0 else 0\n",
    "            abs_drop = baseline - current_avg\n",
    "            \n",
    "            if (pct_drop >= RISK_CONFIG['drop_thresholds']['pct_drop'] and \n",
    "                abs_drop >= RISK_CONFIG['drop_thresholds']['min_abs_drop']):\n",
    "                alerts.append(f'sustained_drop ({pct_drop:.0%} over {RISK_CONFIG[\"drop_thresholds\"][\"min_quarters\"]}q)')\n",
    "        \n",
    "        # Update history (keep 8 quarters)\n",
    "        history[key] = (prev_vals + [current_val])[-8:]\n",
    "        \n",
    "        return {\n",
    "            'CIK': row['CIK'],\n",
    "            'Account': account,\n",
    "            'Value': current_val,\n",
    "            'Alerts': ' | '.join(alerts) if alerts else None\n",
    "        }\n",
    "        \n",
    "    except Exception as e:\n",
    "        return {'CIK': row['CIK'], 'Error': str(e), 'Alerts': None}\n",
    "\n",
    "#Process and filter\n",
    "results = df.apply(analyze_risks, axis=1)\n",
    "alerts_df = pd.DataFrame([r for r in results if r and r.get('Alerts')])\n",
    "\n",
    "print(f\"Final Alert Count: {len(alerts_df)}\")\n",
    "print(\"Alert Distribution:\")\n",
    "print(alerts_df['Alerts'].value_counts().head(10))\n",
    "\n",
    "alerts_df.to_csv(\"strategic_sec_alerts.csv\", index=False)        #  okk whatever this wil be the final code"
   ]
  },
  {
   "cell_type": "code",
   "execution_count": null,
   "id": "75a12a74-8662-48ff-8497-152464a9a5cf",
   "metadata": {},
   "outputs": [],
   "source": [
    "#vislztn"
   ]
  },
  {
   "cell_type": "code",
   "execution_count": 3,
   "id": "5f84c947-9758-470e-b0fd-10d845edc45a",
   "metadata": {},
   "outputs": [
    {
     "data": {
      "text/html": [
       "\n",
       "        <iframe\n",
       "            width=\"100%\"\n",
       "            height=\"650\"\n",
       "            src=\"http://127.0.0.1:8050/\"\n",
       "            frameborder=\"0\"\n",
       "            allowfullscreen\n",
       "            \n",
       "        ></iframe>\n",
       "        "
      ],
      "text/plain": [
       "<IPython.lib.display.IFrame at 0x1ff9b0c3b60>"
      ]
     },
     "metadata": {},
     "output_type": "display_data"
    }
   ],
   "source": [
    "import pandas as pd\n",
    "import plotly.express as px\n",
    "from dash import Dash, dcc, html, Input, Output\n",
    "\n",
    "#load and clean data\n",
    "alerts = pd.read_csv(\"strategic_sec_alerts.csv\")\n",
    "alerts['Value'] = pd.to_numeric(alerts['Value'], errors='coerce').dropna()\n",
    "\n",
    "#Value Distribution (Violin Plot)\n",
    "violin_fig = px.violin(alerts,\n",
    "                      y='Value',\n",
    "                      box=True,\n",
    "                      title='Financial Value Distribution',\n",
    "                      hover_data=['Account', 'CIK'],\n",
    "                      log_y=True)\n",
    "\n",
    "#Account-wise Alert Count (Bar Chart)\n",
    "bar_fig = px.bar(alerts['Account'].value_counts().reset_index(),\n",
    "               x='Account',\n",
    "               y='count',\n",
    "               title='Alerts by Account Type',\n",
    "               labels={'count': 'Number of Alerts'},\n",
    "              color='Account')\n",
    "\n",
    "#Alert Type Breakdown (Pie Chart)\n",
    "pie_fig = px.pie(alerts['Alerts'].value_counts().reset_index(),\n",
    "                names='Alerts',\n",
    "                values='count',\n",
    "                title='Alert Type Distribution',\n",
    "                hole=0.3)\n",
    "\n",
    "# create dashboard\n",
    "app = Dash(__name__)\n",
    "\n",
    "app.layout = html.Div([\n",
    "    html.H1(\"SEC Risk Alert Dashboard\", style={'textAlign': 'center', 'padding': '20px'}),\n",
    "    \n",
    "    html.Div([\n",
    "        dcc.Graph(figure=violin_fig, style={'width': '80%', 'display': 'inline-block'}),\n",
    "        dcc.Graph(figure=bar_fig, style={'width': '80%', 'display': 'inline-block'})\n",
    "    ]),\n",
    "    \n",
    "    html.Div([\n",
    "        dcc.Graph(figure=pie_fig, style={'height': '700px'})\n",
    "    ]),\n",
    "    \n",
    "    html.Div([\n",
    "        dcc.Dropdown(\n",
    "            id='account-filter',\n",
    "            options=[{'label': acc, 'value': acc} for acc in alerts['Account'].unique()],\n",
    "            value=alerts['Account'].iloc[0],\n",
    "            clearable=False,\n",
    "            style={'width': '60%', 'margin': '20px auto'}\n",
    "        ),\n",
    "        dcc.Graph(id='account-details')\n",
    "    ])\n",
    "])\n",
    "\n",
    "@app.callback(\n",
    "    Output('account-details', 'figure'),\n",
    "    Input('account-filter', 'value')\n",
    ")\n",
    "def update_account_view(selected_account):\n",
    "    filtered = alerts[alerts['Account'] == selected_account]\n",
    "    return px.scatter(filtered,\n",
    "                    x='Value',\n",
    "                    y='Alerts',\n",
    "                    color='Alerts',\n",
    "                    size='Value',\n",
    "                    title=f'{selected_account} - Detailed View',\n",
    "                    hover_data=['CIK'])\n",
    "\n",
    "if __name__ == '__main__':\n",
    "    app.run(debug=True, port=8050)"
   ]
  },
  {
   "cell_type": "markdown",
   "id": "f4cb377e-0171-401b-a45d-024c7bc1ce05",
   "metadata": {
    "jp-MarkdownHeadingCollapsed": true
   },
   "source": [
    "# MACRO DATA"
   ]
  },
  {
   "cell_type": "code",
   "execution_count": null,
   "id": "7fc52018-bbb1-40d0-9fa3-4e8b3ea07131",
   "metadata": {},
   "outputs": [],
   "source": [
    "import pandas as pd\n",
    "import pandas_datareader.data as web\n",
    "import datetime\n",
    "\n",
    "FRED_API_KEY = '5c52774c0b67b60a452745a9eb370165'  \n",
    "\n",
    "# Expanded list of 50+ key macroeconomic indicators\n",
    "MACRO_SERIES = {\n",
    "    # GDP and Components\n",
    "    'GDP': 'GDP',\n",
    "    'GDPC1': 'GDPC1',  # Real GDP\n",
    "    'GDPPOT': 'GDPPOT',  # Potential GDP\n",
    "    'PCEC': 'PCEC',  # Personal Consumption Expenditures\n",
    "    \n",
    "    # Employment\n",
    "    'UNRATE': 'UNRATE',  # Unemployment Rate\n",
    "    'PAYEMS': 'PAYEMS',  # Nonfarm Payrolls\n",
    "    'CE16OV': 'CE16OV',  # Civilian Employment\n",
    "    'U6RATE': 'U6RATE',  # Underemployment Rate\n",
    "    \n",
    "    # Inflation\n",
    "    'CPIAUCSL': 'CPIAUCSL',  # CPI All Items\n",
    "    'PCEPI': 'PCEPI',  # PCE Price Index\n",
    "    'PPIACO': 'PPIACO',  # Producer Price Index\n",
    "    \n",
    "    # Interest Rates\n",
    "    'FEDFUNDS': 'FEDFUNDS',  # Federal Funds Rate\n",
    "    'DGS10': 'DGS10',  # 10-Year Treasury Yield\n",
    "    'DGS2': 'DGS2',  # 2-Year Treasury Yield\n",
    "    \n",
    "    # Housing\n",
    "    'HOUST': 'HOUST',  # Housing Starts\n",
    "    'CSUSHPINSA': 'CSUSHPINSA',  # Case-Shiller Home Price Index\n",
    "    'MSPUS': 'MSPUS',  # Median Sales Price of Houses\n",
    "    \n",
    "    # Manufacturing\n",
    "    'INDPRO': 'INDPRO',  # Industrial Production\n",
    "    'TCU': 'TCU',  # Capacity Utilization\n",
    "    'NEWORDER': 'NEWORDER',  # Manufacturers' New Orders\n",
    "    \n",
    "    # Consumer\n",
    "    'RRSFS': 'RRSFS',  # Retail Sales\n",
    "    'UMCSENT': 'UMCSENT',  # Consumer Sentiment\n",
    "    \n",
    "    # Trade\n",
    "    'BOPGSTB': 'BOPGSTB',  # Trade Balance\n",
    "    'EXPGS': 'EXPGS',  # Exports\n",
    "    'IMPGS': 'IMPGS',  # Imports\n",
    "    \n",
    "    # Financial Markets\n",
    "    'DJIA': 'DJIA',  # Dow Jones\n",
    "    'SP500': 'SP500',  # S&P 500\n",
    "    'VIXCLS': 'VIXCLS',  # VIX Index\n",
    "    \n",
    "    # Commodities\n",
    "    'DCOILWTICO': 'DCOILWTICO',  # Oil Prices\n",
    "    'GOLDAMGBD228NLBM': 'GOLDAMGBD228NLBM',  # Gold Prices\n",
    "    \n",
    "    # Government Finance\n",
    "    'FYFSD': 'FYFSD',  # Federal Surplus/Deficit\n",
    "    'GFDEBTN': 'GFDEBTN',  # Federal Debt\n",
    "    \n",
    "    # Banking\n",
    "    'TOTCI': 'TOTCI',  # Commercial & Industrial Loans\n",
    "    'M2SL': 'M2SL',  # Money Supply M2\n",
    "    \n",
    "    # International\n",
    "    'DTWEXBGS': 'DTWEXBGS',  # US Dollar Index\n",
    "    'DEXUSEU': 'DEXUSEU',  # USD/EUR Exchange Rate\n",
    "    'DEXCHUS': 'DEXCHUS',  # USD/CNY Exchange Rate\n",
    "    \n",
    "    # Leading Indicators\n",
    "    'USSLIND': 'USSLIND',  # Leading Economic Index\n",
    "    'T10Y2Y': 'T10Y2Y',  # 10Y-2Y Yield Spread\n",
    "}\n",
    "\n",
    "def fetch_fred_data(series_dict, start_date='1970-01-01'):\n",
    "    \"\"\"Fetch macroeconomic data from FRED with error handling\"\"\"\n",
    "    end_date = datetime.datetime.now().strftime('%Y-%m-%d')\n",
    "    df = pd.DataFrame()\n",
    "    fetched_series = []\n",
    "    \n",
    "    for name, code in series_dict.items():\n",
    "        try:\n",
    "            series = web.DataReader(code, 'fred', start_date, end_date)\n",
    "            if not series.empty:\n",
    "                #resample to monthly and forward fill missing values\n",
    "                series = series.resample('M').last().ffill()\n",
    "                df = pd.concat([df, series], axis=1)\n",
    "                fetched_series.append((name, code))\n",
    "                print(f\" Success: {name} ({code})\")\n",
    "            else:\n",
    "                print(f\" Empty data: {name} ({code})\")\n",
    "        except Exception as e:\n",
    "            print(f\" Failed: {name} ({code}) - {str(e)}\")\n",
    "    \n",
    "    # Create meaningful column names from fetched series only\n",
    "    df.columns = [f\"{name}_{code}\" for name, code in fetched_series]\n",
    "    \n",
    "    # forward fill missing values and drop remaining NAs\n",
    "    return df.ffill().dropna()\n",
    "\n",
    "def save_macro_data(file_name='macro_data.csv'):\n",
    "    \"\"\"Save macro data to CSV with progress tracking\"\"\"\n",
    "    print(\" Fetching macroeconomic data from FRED...\")\n",
    "    macro_df = fetch_fred_data(MACRO_SERIES)\n",
    "    \n",
    "    # Add derived metrics\n",
    "    macro_df['GDP_Growth_QoQ'] = macro_df['GDP_GDP'].pct_change(periods=1) * 100\n",
    "    macro_df['CPI_YoY'] = macro_df['CPIAUCSL_CPIAUCSL'].pct_change(periods=12) * 100\n",
    "    \n",
    "    #saveed\n",
    "    macro_df.to_csv(file_name)\n",
    "    \n",
    "    print(f\"\\n Successfully saved {len(macro_df.columns)} indicators\")\n",
    "    print(f\" Date Range: {macro_df.index.min()} to {macro_df.index.max()}\")\n",
    "    print(f\" Total Series: {len(macro_df.columns)}\")\n",
    "    print(f\"File saved as: {file_name}\")\n",
    "\n",
    "if __name__ == '__main__':\n",
    "    save_macro_data()"
   ]
  },
  {
   "cell_type": "code",
   "execution_count": null,
   "id": "c2db2775-a854-4385-ad77-cb5b0ab1602f",
   "metadata": {},
   "outputs": [],
   "source": [
    "#VISULAZTN"
   ]
  },
  {
   "cell_type": "code",
   "execution_count": 4,
   "id": "3f25d577-de5f-462a-8b6a-1abb8e78bb07",
   "metadata": {},
   "outputs": [
    {
     "data": {
      "application/vnd.plotly.v1+json": {
       "config": {
        "plotlyServerURL": "https://plot.ly"
       },
       "data": [
        {
         "mode": "lines+markers",
         "name": "GDP Growth QoQ",
         "type": "scatter",
         "x": [
          "2015-05-31T00:00:00",
          "2015-06-30T00:00:00",
          "2015-07-31T00:00:00",
          "2015-08-31T00:00:00",
          "2015-09-30T00:00:00",
          "2015-10-31T00:00:00",
          "2015-11-30T00:00:00",
          "2015-12-31T00:00:00",
          "2016-01-31T00:00:00",
          "2016-02-29T00:00:00",
          "2016-03-31T00:00:00",
          "2016-04-30T00:00:00",
          "2016-05-31T00:00:00",
          "2016-06-30T00:00:00",
          "2016-07-31T00:00:00",
          "2016-08-31T00:00:00",
          "2016-09-30T00:00:00",
          "2016-10-31T00:00:00",
          "2016-11-30T00:00:00",
          "2016-12-31T00:00:00",
          "2017-01-31T00:00:00",
          "2017-02-28T00:00:00",
          "2017-03-31T00:00:00",
          "2017-04-30T00:00:00",
          "2017-05-31T00:00:00",
          "2017-06-30T00:00:00",
          "2017-07-31T00:00:00",
          "2017-08-31T00:00:00",
          "2017-09-30T00:00:00",
          "2017-10-31T00:00:00",
          "2017-11-30T00:00:00",
          "2017-12-31T00:00:00",
          "2018-01-31T00:00:00",
          "2018-02-28T00:00:00",
          "2018-03-31T00:00:00",
          "2018-04-30T00:00:00",
          "2018-05-31T00:00:00",
          "2018-06-30T00:00:00",
          "2018-07-31T00:00:00",
          "2018-08-31T00:00:00",
          "2018-09-30T00:00:00",
          "2018-10-31T00:00:00",
          "2018-11-30T00:00:00",
          "2018-12-31T00:00:00",
          "2019-01-31T00:00:00",
          "2019-02-28T00:00:00",
          "2019-03-31T00:00:00",
          "2019-04-30T00:00:00",
          "2019-05-31T00:00:00",
          "2019-06-30T00:00:00",
          "2019-07-31T00:00:00",
          "2019-08-31T00:00:00",
          "2019-09-30T00:00:00",
          "2019-10-31T00:00:00",
          "2019-11-30T00:00:00",
          "2019-12-31T00:00:00",
          "2020-01-31T00:00:00",
          "2020-02-29T00:00:00",
          "2020-03-31T00:00:00",
          "2020-04-30T00:00:00",
          "2020-05-31T00:00:00",
          "2020-06-30T00:00:00",
          "2020-07-31T00:00:00",
          "2020-08-31T00:00:00",
          "2020-09-30T00:00:00",
          "2020-10-31T00:00:00",
          "2020-11-30T00:00:00",
          "2020-12-31T00:00:00",
          "2021-01-31T00:00:00",
          "2021-02-28T00:00:00",
          "2021-03-31T00:00:00",
          "2021-04-30T00:00:00",
          "2021-05-31T00:00:00",
          "2021-06-30T00:00:00",
          "2021-07-31T00:00:00",
          "2021-08-31T00:00:00",
          "2021-09-30T00:00:00",
          "2021-10-31T00:00:00",
          "2021-11-30T00:00:00",
          "2021-12-31T00:00:00",
          "2022-01-31T00:00:00",
          "2022-02-28T00:00:00",
          "2022-03-31T00:00:00",
          "2022-04-30T00:00:00",
          "2022-05-31T00:00:00",
          "2022-06-30T00:00:00",
          "2022-07-31T00:00:00",
          "2022-08-31T00:00:00",
          "2022-09-30T00:00:00",
          "2022-10-31T00:00:00",
          "2022-11-30T00:00:00",
          "2022-12-31T00:00:00",
          "2023-01-31T00:00:00",
          "2023-02-28T00:00:00",
          "2023-03-31T00:00:00",
          "2023-04-30T00:00:00",
          "2023-05-31T00:00:00",
          "2023-06-30T00:00:00",
          "2023-07-31T00:00:00",
          "2023-08-31T00:00:00",
          "2023-09-30T00:00:00",
          "2023-10-31T00:00:00",
          "2023-11-30T00:00:00",
          "2023-12-31T00:00:00",
          "2024-01-31T00:00:00",
          "2024-02-29T00:00:00",
          "2024-03-31T00:00:00",
          "2024-04-30T00:00:00",
          "2024-05-31T00:00:00",
          "2024-06-30T00:00:00",
          "2024-07-31T00:00:00",
          "2024-08-31T00:00:00",
          "2024-09-30T00:00:00",
          "2024-10-31T00:00:00",
          "2024-11-30T00:00:00",
          "2024-12-31T00:00:00",
          "2025-01-31T00:00:00",
          "2025-02-28T00:00:00",
          "2025-03-31T00:00:00",
          "2025-04-30T00:00:00"
         ],
         "xaxis": "x",
         "y": [
          0,
          0,
          0.6665396046255267,
          0,
          0,
          0.1821089071150528,
          0,
          0,
          0.4925160035425868,
          0,
          0,
          1.002751116502476,
          0,
          0,
          0.9669724325451324,
          0,
          0,
          1.0413579595735856,
          0,
          0,
          0.9990110207356516,
          0,
          0,
          0.8223978692209144,
          0,
          0,
          1.3064286431928362,
          0,
          0,
          1.74935299283816,
          0,
          0,
          1.4546275386922547,
          0,
          0,
          1.241401687567234,
          0,
          0,
          1.0583496008340187,
          0,
          0,
          0.5728090128579888,
          0,
          0,
          0.9261603967555488,
          0,
          0,
          1.35630648553402,
          0,
          0,
          1.4918867416103376,
          0,
          0,
          0.994816497968376,
          0,
          0,
          -0.937208618325347,
          0,
          0,
          -8.248533194352248,
          0,
          0,
          8.77385524997587,
          0,
          0,
          1.7718420824115677,
          0,
          0,
          2.664516780661108,
          0,
          0,
          3.142845503333147,
          0,
          0,
          2.3669531861223447,
          0,
          0,
          3.574313693203868,
          0,
          0,
          1.7695940894952855,
          0,
          0,
          2.3410212396815844,
          0,
          0,
          1.806648747949624,
          0,
          0,
          1.7595379356380336,
          0,
          0,
          1.6087287492382971,
          0,
          0,
          1.0655727234351486,
          0,
          0,
          1.8718054303199727,
          0,
          0,
          1.1773225374974494,
          0,
          0,
          1.1559613438429706,
          0,
          0,
          1.3717302036967638,
          0,
          0,
          1.2344609386162777,
          0,
          0,
          1.187918371437613,
          0,
          0,
          0,
          0,
          0,
          0
         ],
         "yaxis": "y"
        },
        {
         "line": {
          "color": "red",
          "dash": "dash"
         },
         "mode": "lines",
         "name": "Zero Line",
         "type": "scatter",
         "x": [
          "2015-05-31T00:00:00",
          "2025-04-30T00:00:00"
         ],
         "xaxis": "x",
         "y": [
          0,
          0
         ],
         "yaxis": "y"
        },
        {
         "line": {
          "color": "orange"
         },
         "mode": "lines+markers",
         "name": "CPI YoY",
         "type": "scatter",
         "x": [
          "2016-04-30T00:00:00",
          "2016-05-31T00:00:00",
          "2016-06-30T00:00:00",
          "2016-07-31T00:00:00",
          "2016-08-31T00:00:00",
          "2016-09-30T00:00:00",
          "2016-10-31T00:00:00",
          "2016-11-30T00:00:00",
          "2016-12-31T00:00:00",
          "2017-01-31T00:00:00",
          "2017-02-28T00:00:00",
          "2017-03-31T00:00:00",
          "2017-04-30T00:00:00",
          "2017-05-31T00:00:00",
          "2017-06-30T00:00:00",
          "2017-07-31T00:00:00",
          "2017-08-31T00:00:00",
          "2017-09-30T00:00:00",
          "2017-10-31T00:00:00",
          "2017-11-30T00:00:00",
          "2017-12-31T00:00:00",
          "2018-01-31T00:00:00",
          "2018-02-28T00:00:00",
          "2018-03-31T00:00:00",
          "2018-04-30T00:00:00",
          "2018-05-31T00:00:00",
          "2018-06-30T00:00:00",
          "2018-07-31T00:00:00",
          "2018-08-31T00:00:00",
          "2018-09-30T00:00:00",
          "2018-10-31T00:00:00",
          "2018-11-30T00:00:00",
          "2018-12-31T00:00:00",
          "2019-01-31T00:00:00",
          "2019-02-28T00:00:00",
          "2019-03-31T00:00:00",
          "2019-04-30T00:00:00",
          "2019-05-31T00:00:00",
          "2019-06-30T00:00:00",
          "2019-07-31T00:00:00",
          "2019-08-31T00:00:00",
          "2019-09-30T00:00:00",
          "2019-10-31T00:00:00",
          "2019-11-30T00:00:00",
          "2019-12-31T00:00:00",
          "2020-01-31T00:00:00",
          "2020-02-29T00:00:00",
          "2020-03-31T00:00:00",
          "2020-04-30T00:00:00",
          "2020-05-31T00:00:00",
          "2020-06-30T00:00:00",
          "2020-07-31T00:00:00",
          "2020-08-31T00:00:00",
          "2020-09-30T00:00:00",
          "2020-10-31T00:00:00",
          "2020-11-30T00:00:00",
          "2020-12-31T00:00:00",
          "2021-01-31T00:00:00",
          "2021-02-28T00:00:00",
          "2021-03-31T00:00:00",
          "2021-04-30T00:00:00",
          "2021-05-31T00:00:00",
          "2021-06-30T00:00:00",
          "2021-07-31T00:00:00",
          "2021-08-31T00:00:00",
          "2021-09-30T00:00:00",
          "2021-10-31T00:00:00",
          "2021-11-30T00:00:00",
          "2021-12-31T00:00:00",
          "2022-01-31T00:00:00",
          "2022-02-28T00:00:00",
          "2022-03-31T00:00:00",
          "2022-04-30T00:00:00",
          "2022-05-31T00:00:00",
          "2022-06-30T00:00:00",
          "2022-07-31T00:00:00",
          "2022-08-31T00:00:00",
          "2022-09-30T00:00:00",
          "2022-10-31T00:00:00",
          "2022-11-30T00:00:00",
          "2022-12-31T00:00:00",
          "2023-01-31T00:00:00",
          "2023-02-28T00:00:00",
          "2023-03-31T00:00:00",
          "2023-04-30T00:00:00",
          "2023-05-31T00:00:00",
          "2023-06-30T00:00:00",
          "2023-07-31T00:00:00",
          "2023-08-31T00:00:00",
          "2023-09-30T00:00:00",
          "2023-10-31T00:00:00",
          "2023-11-30T00:00:00",
          "2023-12-31T00:00:00",
          "2024-01-31T00:00:00",
          "2024-02-29T00:00:00",
          "2024-03-31T00:00:00",
          "2024-04-30T00:00:00",
          "2024-05-31T00:00:00",
          "2024-06-30T00:00:00",
          "2024-07-31T00:00:00",
          "2024-08-31T00:00:00",
          "2024-09-30T00:00:00",
          "2024-10-31T00:00:00",
          "2024-11-30T00:00:00",
          "2024-12-31T00:00:00",
          "2025-01-31T00:00:00",
          "2025-02-28T00:00:00",
          "2025-03-31T00:00:00",
          "2025-04-30T00:00:00"
         ],
         "xaxis": "x2",
         "y": [
          1.1726257503534845,
          1.0784764621246223,
          1.0792865347959424,
          0.8683633430518256,
          1.0553158595656864,
          1.5486446201652182,
          1.685924966243646,
          1.6843334719788938,
          2.0507989115119862,
          2.510393348257112,
          2.8103616813294208,
          2.44119623655914,
          2.176223471915395,
          1.856343166761976,
          1.640565809959127,
          1.7251073506566073,
          1.92812155729698,
          2.1805652303711787,
          2.020757753132485,
          2.172493864295566,
          2.129930719552253,
          2.151318868063945,
          2.263468931091861,
          2.3309497646499366,
          2.4709963021052994,
          2.781921607842497,
          2.8075506935940187,
          2.854124785561929,
          2.642923856874257,
          2.332055105808828,
          2.492032470218053,
          2.147328577667773,
          2.0023809043401064,
          1.4875893578291333,
          1.5188615351321877,
          1.8831863513063984,
          2.000583470209061,
          1.7959105553606136,
          1.671194894390049,
          1.826331335037068,
          1.7376412106666406,
          1.6844977040391562,
          1.7339736996186297,
          2.092290394862917,
          2.3195274699624457,
          2.599767976845202,
          2.34131667975952,
          1.4940399642909163,
          0.3130472940411133,
          0.1982013035848551,
          0.7166562831830481,
          0.9968647625897996,
          1.2810698495523851,
          1.3910228912373812,
          1.2303863428671624,
          1.1757452138405844,
          1.3204191315779434,
          1.3553199782346148,
          1.667502410800381,
          2.623645747764214,
          4.137373453318349,
          4.926466563983079,
          5.317418943207719,
          5.269167647240969,
          5.181323173271246,
          5.363523425270289,
          6.226591220771449,
          6.865559520296194,
          7.159457345112474,
          7.578082463000535,
          7.949220898953979,
          8.540780148538584,
          8.235161744022502,
          8.530051713089225,
          8.999298141923106,
          8.447778206754553,
          8.216255059541266,
          8.205751582451759,
          7.757261470809462,
          7.131380368978291,
          6.410831677385809,
          6.340296309929161,
          5.957648712766894,
          4.931348641757127,
          4.946947488062325,
          4.125314539356473,
          3.0592533347792994,
          3.28032820234625,
          3.718635867760756,
          3.6950823322234423,
          3.2465375076767167,
          3.139855644977696,
          3.322200208829762,
          3.1079425939238847,
          3.16642120765831,
          3.4690014354717524,
          3.3540471111874304,
          3.238866396761142,
          2.9700853998204435,
          2.9384633061405374,
          2.610914032233836,
          2.432541464144644,
          2.5714034967967203,
          2.7141684004842848,
          2.872366268806581,
          2.999412512831112,
          2.814270373156869,
          2.4568497342257523,
          2.1593145398318248
         ],
         "yaxis": "y2"
        },
        {
         "line": {
          "color": "green"
         },
         "mode": "lines+markers",
         "name": "Unemployment Rate",
         "type": "scatter",
         "x": [
          "2015-04-30T00:00:00",
          "2015-05-31T00:00:00",
          "2015-06-30T00:00:00",
          "2015-07-31T00:00:00",
          "2015-08-31T00:00:00",
          "2015-09-30T00:00:00",
          "2015-10-31T00:00:00",
          "2015-11-30T00:00:00",
          "2015-12-31T00:00:00",
          "2016-01-31T00:00:00",
          "2016-02-29T00:00:00",
          "2016-03-31T00:00:00",
          "2016-04-30T00:00:00",
          "2016-05-31T00:00:00",
          "2016-06-30T00:00:00",
          "2016-07-31T00:00:00",
          "2016-08-31T00:00:00",
          "2016-09-30T00:00:00",
          "2016-10-31T00:00:00",
          "2016-11-30T00:00:00",
          "2016-12-31T00:00:00",
          "2017-01-31T00:00:00",
          "2017-02-28T00:00:00",
          "2017-03-31T00:00:00",
          "2017-04-30T00:00:00",
          "2017-05-31T00:00:00",
          "2017-06-30T00:00:00",
          "2017-07-31T00:00:00",
          "2017-08-31T00:00:00",
          "2017-09-30T00:00:00",
          "2017-10-31T00:00:00",
          "2017-11-30T00:00:00",
          "2017-12-31T00:00:00",
          "2018-01-31T00:00:00",
          "2018-02-28T00:00:00",
          "2018-03-31T00:00:00",
          "2018-04-30T00:00:00",
          "2018-05-31T00:00:00",
          "2018-06-30T00:00:00",
          "2018-07-31T00:00:00",
          "2018-08-31T00:00:00",
          "2018-09-30T00:00:00",
          "2018-10-31T00:00:00",
          "2018-11-30T00:00:00",
          "2018-12-31T00:00:00",
          "2019-01-31T00:00:00",
          "2019-02-28T00:00:00",
          "2019-03-31T00:00:00",
          "2019-04-30T00:00:00",
          "2019-05-31T00:00:00",
          "2019-06-30T00:00:00",
          "2019-07-31T00:00:00",
          "2019-08-31T00:00:00",
          "2019-09-30T00:00:00",
          "2019-10-31T00:00:00",
          "2019-11-30T00:00:00",
          "2019-12-31T00:00:00",
          "2020-01-31T00:00:00",
          "2020-02-29T00:00:00",
          "2020-03-31T00:00:00",
          "2020-04-30T00:00:00",
          "2020-05-31T00:00:00",
          "2020-06-30T00:00:00",
          "2020-07-31T00:00:00",
          "2020-08-31T00:00:00",
          "2020-09-30T00:00:00",
          "2020-10-31T00:00:00",
          "2020-11-30T00:00:00",
          "2020-12-31T00:00:00",
          "2021-01-31T00:00:00",
          "2021-02-28T00:00:00",
          "2021-03-31T00:00:00",
          "2021-04-30T00:00:00",
          "2021-05-31T00:00:00",
          "2021-06-30T00:00:00",
          "2021-07-31T00:00:00",
          "2021-08-31T00:00:00",
          "2021-09-30T00:00:00",
          "2021-10-31T00:00:00",
          "2021-11-30T00:00:00",
          "2021-12-31T00:00:00",
          "2022-01-31T00:00:00",
          "2022-02-28T00:00:00",
          "2022-03-31T00:00:00",
          "2022-04-30T00:00:00",
          "2022-05-31T00:00:00",
          "2022-06-30T00:00:00",
          "2022-07-31T00:00:00",
          "2022-08-31T00:00:00",
          "2022-09-30T00:00:00",
          "2022-10-31T00:00:00",
          "2022-11-30T00:00:00",
          "2022-12-31T00:00:00",
          "2023-01-31T00:00:00",
          "2023-02-28T00:00:00",
          "2023-03-31T00:00:00",
          "2023-04-30T00:00:00",
          "2023-05-31T00:00:00",
          "2023-06-30T00:00:00",
          "2023-07-31T00:00:00",
          "2023-08-31T00:00:00",
          "2023-09-30T00:00:00",
          "2023-10-31T00:00:00",
          "2023-11-30T00:00:00",
          "2023-12-31T00:00:00",
          "2024-01-31T00:00:00",
          "2024-02-29T00:00:00",
          "2024-03-31T00:00:00",
          "2024-04-30T00:00:00",
          "2024-05-31T00:00:00",
          "2024-06-30T00:00:00",
          "2024-07-31T00:00:00",
          "2024-08-31T00:00:00",
          "2024-09-30T00:00:00",
          "2024-10-31T00:00:00",
          "2024-11-30T00:00:00",
          "2024-12-31T00:00:00",
          "2025-01-31T00:00:00",
          "2025-02-28T00:00:00",
          "2025-03-31T00:00:00",
          "2025-04-30T00:00:00"
         ],
         "xaxis": "x3",
         "y": [
          5.4,
          5.6,
          5.3,
          5.2,
          5.1,
          5,
          5,
          5.1,
          5,
          4.8,
          4.9,
          5,
          5.1,
          4.8,
          4.9,
          4.8,
          4.9,
          5,
          4.9,
          4.7,
          4.7,
          4.7,
          4.6,
          4.4,
          4.4,
          4.4,
          4.3,
          4.3,
          4.4,
          4.3,
          4.2,
          4.2,
          4.1,
          4,
          4.1,
          4,
          4,
          3.8,
          4,
          3.8,
          3.8,
          3.7,
          3.8,
          3.8,
          3.9,
          4,
          3.8,
          3.8,
          3.7,
          3.6,
          3.6,
          3.7,
          3.6,
          3.5,
          3.6,
          3.6,
          3.6,
          3.6,
          3.5,
          4.4,
          14.8,
          13.2,
          11,
          10.2,
          8.4,
          7.8,
          6.9,
          6.7,
          6.7,
          6.4,
          6.2,
          6.1,
          6.1,
          5.8,
          5.9,
          5.4,
          5.1,
          4.7,
          4.5,
          4.2,
          3.9,
          4,
          3.8,
          3.7,
          3.7,
          3.6,
          3.6,
          3.5,
          3.6,
          3.5,
          3.6,
          3.6,
          3.5,
          3.5,
          3.6,
          3.5,
          3.4,
          3.6,
          3.6,
          3.5,
          3.7,
          3.8,
          3.9,
          3.7,
          3.8,
          3.7,
          3.9,
          3.9,
          3.9,
          4,
          4.1,
          4.2,
          4.2,
          4.1,
          4.1,
          4.2,
          4.1,
          4,
          4.1,
          4.1,
          4.1
         ],
         "yaxis": "y3"
        }
       ],
       "layout": {
        "annotations": [
         {
          "font": {
           "size": 16
          },
          "showarrow": false,
          "text": "GDP Growth Rate (QoQ)",
          "x": 0.5,
          "xanchor": "center",
          "xref": "paper",
          "y": 1,
          "yanchor": "bottom",
          "yref": "paper"
         },
         {
          "font": {
           "size": 16
          },
          "showarrow": false,
          "text": "CPI Inflation Rate (YoY)",
          "x": 0.5,
          "xanchor": "center",
          "xref": "paper",
          "y": 0.6111111111111112,
          "yanchor": "bottom",
          "yref": "paper"
         },
         {
          "font": {
           "size": 16
          },
          "showarrow": false,
          "text": "Unemployment Rate",
          "x": 0.5,
          "xanchor": "center",
          "xref": "paper",
          "y": 0.22222222222222224,
          "yanchor": "bottom",
          "yref": "paper"
         }
        ],
        "height": 900,
        "template": {
         "data": {
          "bar": [
           {
            "error_x": {
             "color": "#2a3f5f"
            },
            "error_y": {
             "color": "#2a3f5f"
            },
            "marker": {
             "line": {
              "color": "#E5ECF6",
              "width": 0.5
             },
             "pattern": {
              "fillmode": "overlay",
              "size": 10,
              "solidity": 0.2
             }
            },
            "type": "bar"
           }
          ],
          "barpolar": [
           {
            "marker": {
             "line": {
              "color": "#E5ECF6",
              "width": 0.5
             },
             "pattern": {
              "fillmode": "overlay",
              "size": 10,
              "solidity": 0.2
             }
            },
            "type": "barpolar"
           }
          ],
          "carpet": [
           {
            "aaxis": {
             "endlinecolor": "#2a3f5f",
             "gridcolor": "white",
             "linecolor": "white",
             "minorgridcolor": "white",
             "startlinecolor": "#2a3f5f"
            },
            "baxis": {
             "endlinecolor": "#2a3f5f",
             "gridcolor": "white",
             "linecolor": "white",
             "minorgridcolor": "white",
             "startlinecolor": "#2a3f5f"
            },
            "type": "carpet"
           }
          ],
          "choropleth": [
           {
            "colorbar": {
             "outlinewidth": 0,
             "ticks": ""
            },
            "type": "choropleth"
           }
          ],
          "contour": [
           {
            "colorbar": {
             "outlinewidth": 0,
             "ticks": ""
            },
            "colorscale": [
             [
              0,
              "#0d0887"
             ],
             [
              0.1111111111111111,
              "#46039f"
             ],
             [
              0.2222222222222222,
              "#7201a8"
             ],
             [
              0.3333333333333333,
              "#9c179e"
             ],
             [
              0.4444444444444444,
              "#bd3786"
             ],
             [
              0.5555555555555556,
              "#d8576b"
             ],
             [
              0.6666666666666666,
              "#ed7953"
             ],
             [
              0.7777777777777778,
              "#fb9f3a"
             ],
             [
              0.8888888888888888,
              "#fdca26"
             ],
             [
              1,
              "#f0f921"
             ]
            ],
            "type": "contour"
           }
          ],
          "contourcarpet": [
           {
            "colorbar": {
             "outlinewidth": 0,
             "ticks": ""
            },
            "type": "contourcarpet"
           }
          ],
          "heatmap": [
           {
            "colorbar": {
             "outlinewidth": 0,
             "ticks": ""
            },
            "colorscale": [
             [
              0,
              "#0d0887"
             ],
             [
              0.1111111111111111,
              "#46039f"
             ],
             [
              0.2222222222222222,
              "#7201a8"
             ],
             [
              0.3333333333333333,
              "#9c179e"
             ],
             [
              0.4444444444444444,
              "#bd3786"
             ],
             [
              0.5555555555555556,
              "#d8576b"
             ],
             [
              0.6666666666666666,
              "#ed7953"
             ],
             [
              0.7777777777777778,
              "#fb9f3a"
             ],
             [
              0.8888888888888888,
              "#fdca26"
             ],
             [
              1,
              "#f0f921"
             ]
            ],
            "type": "heatmap"
           }
          ],
          "heatmapgl": [
           {
            "colorbar": {
             "outlinewidth": 0,
             "ticks": ""
            },
            "colorscale": [
             [
              0,
              "#0d0887"
             ],
             [
              0.1111111111111111,
              "#46039f"
             ],
             [
              0.2222222222222222,
              "#7201a8"
             ],
             [
              0.3333333333333333,
              "#9c179e"
             ],
             [
              0.4444444444444444,
              "#bd3786"
             ],
             [
              0.5555555555555556,
              "#d8576b"
             ],
             [
              0.6666666666666666,
              "#ed7953"
             ],
             [
              0.7777777777777778,
              "#fb9f3a"
             ],
             [
              0.8888888888888888,
              "#fdca26"
             ],
             [
              1,
              "#f0f921"
             ]
            ],
            "type": "heatmapgl"
           }
          ],
          "histogram": [
           {
            "marker": {
             "pattern": {
              "fillmode": "overlay",
              "size": 10,
              "solidity": 0.2
             }
            },
            "type": "histogram"
           }
          ],
          "histogram2d": [
           {
            "colorbar": {
             "outlinewidth": 0,
             "ticks": ""
            },
            "colorscale": [
             [
              0,
              "#0d0887"
             ],
             [
              0.1111111111111111,
              "#46039f"
             ],
             [
              0.2222222222222222,
              "#7201a8"
             ],
             [
              0.3333333333333333,
              "#9c179e"
             ],
             [
              0.4444444444444444,
              "#bd3786"
             ],
             [
              0.5555555555555556,
              "#d8576b"
             ],
             [
              0.6666666666666666,
              "#ed7953"
             ],
             [
              0.7777777777777778,
              "#fb9f3a"
             ],
             [
              0.8888888888888888,
              "#fdca26"
             ],
             [
              1,
              "#f0f921"
             ]
            ],
            "type": "histogram2d"
           }
          ],
          "histogram2dcontour": [
           {
            "colorbar": {
             "outlinewidth": 0,
             "ticks": ""
            },
            "colorscale": [
             [
              0,
              "#0d0887"
             ],
             [
              0.1111111111111111,
              "#46039f"
             ],
             [
              0.2222222222222222,
              "#7201a8"
             ],
             [
              0.3333333333333333,
              "#9c179e"
             ],
             [
              0.4444444444444444,
              "#bd3786"
             ],
             [
              0.5555555555555556,
              "#d8576b"
             ],
             [
              0.6666666666666666,
              "#ed7953"
             ],
             [
              0.7777777777777778,
              "#fb9f3a"
             ],
             [
              0.8888888888888888,
              "#fdca26"
             ],
             [
              1,
              "#f0f921"
             ]
            ],
            "type": "histogram2dcontour"
           }
          ],
          "mesh3d": [
           {
            "colorbar": {
             "outlinewidth": 0,
             "ticks": ""
            },
            "type": "mesh3d"
           }
          ],
          "parcoords": [
           {
            "line": {
             "colorbar": {
              "outlinewidth": 0,
              "ticks": ""
             }
            },
            "type": "parcoords"
           }
          ],
          "pie": [
           {
            "automargin": true,
            "type": "pie"
           }
          ],
          "scatter": [
           {
            "fillpattern": {
             "fillmode": "overlay",
             "size": 10,
             "solidity": 0.2
            },
            "type": "scatter"
           }
          ],
          "scatter3d": [
           {
            "line": {
             "colorbar": {
              "outlinewidth": 0,
              "ticks": ""
             }
            },
            "marker": {
             "colorbar": {
              "outlinewidth": 0,
              "ticks": ""
             }
            },
            "type": "scatter3d"
           }
          ],
          "scattercarpet": [
           {
            "marker": {
             "colorbar": {
              "outlinewidth": 0,
              "ticks": ""
             }
            },
            "type": "scattercarpet"
           }
          ],
          "scattergeo": [
           {
            "marker": {
             "colorbar": {
              "outlinewidth": 0,
              "ticks": ""
             }
            },
            "type": "scattergeo"
           }
          ],
          "scattergl": [
           {
            "marker": {
             "colorbar": {
              "outlinewidth": 0,
              "ticks": ""
             }
            },
            "type": "scattergl"
           }
          ],
          "scattermapbox": [
           {
            "marker": {
             "colorbar": {
              "outlinewidth": 0,
              "ticks": ""
             }
            },
            "type": "scattermapbox"
           }
          ],
          "scatterpolar": [
           {
            "marker": {
             "colorbar": {
              "outlinewidth": 0,
              "ticks": ""
             }
            },
            "type": "scatterpolar"
           }
          ],
          "scatterpolargl": [
           {
            "marker": {
             "colorbar": {
              "outlinewidth": 0,
              "ticks": ""
             }
            },
            "type": "scatterpolargl"
           }
          ],
          "scatterternary": [
           {
            "marker": {
             "colorbar": {
              "outlinewidth": 0,
              "ticks": ""
             }
            },
            "type": "scatterternary"
           }
          ],
          "surface": [
           {
            "colorbar": {
             "outlinewidth": 0,
             "ticks": ""
            },
            "colorscale": [
             [
              0,
              "#0d0887"
             ],
             [
              0.1111111111111111,
              "#46039f"
             ],
             [
              0.2222222222222222,
              "#7201a8"
             ],
             [
              0.3333333333333333,
              "#9c179e"
             ],
             [
              0.4444444444444444,
              "#bd3786"
             ],
             [
              0.5555555555555556,
              "#d8576b"
             ],
             [
              0.6666666666666666,
              "#ed7953"
             ],
             [
              0.7777777777777778,
              "#fb9f3a"
             ],
             [
              0.8888888888888888,
              "#fdca26"
             ],
             [
              1,
              "#f0f921"
             ]
            ],
            "type": "surface"
           }
          ],
          "table": [
           {
            "cells": {
             "fill": {
              "color": "#EBF0F8"
             },
             "line": {
              "color": "white"
             }
            },
            "header": {
             "fill": {
              "color": "#C8D4E3"
             },
             "line": {
              "color": "white"
             }
            },
            "type": "table"
           }
          ]
         },
         "layout": {
          "annotationdefaults": {
           "arrowcolor": "#2a3f5f",
           "arrowhead": 0,
           "arrowwidth": 1
          },
          "autotypenumbers": "strict",
          "coloraxis": {
           "colorbar": {
            "outlinewidth": 0,
            "ticks": ""
           }
          },
          "colorscale": {
           "diverging": [
            [
             0,
             "#8e0152"
            ],
            [
             0.1,
             "#c51b7d"
            ],
            [
             0.2,
             "#de77ae"
            ],
            [
             0.3,
             "#f1b6da"
            ],
            [
             0.4,
             "#fde0ef"
            ],
            [
             0.5,
             "#f7f7f7"
            ],
            [
             0.6,
             "#e6f5d0"
            ],
            [
             0.7,
             "#b8e186"
            ],
            [
             0.8,
             "#7fbc41"
            ],
            [
             0.9,
             "#4d9221"
            ],
            [
             1,
             "#276419"
            ]
           ],
           "sequential": [
            [
             0,
             "#0d0887"
            ],
            [
             0.1111111111111111,
             "#46039f"
            ],
            [
             0.2222222222222222,
             "#7201a8"
            ],
            [
             0.3333333333333333,
             "#9c179e"
            ],
            [
             0.4444444444444444,
             "#bd3786"
            ],
            [
             0.5555555555555556,
             "#d8576b"
            ],
            [
             0.6666666666666666,
             "#ed7953"
            ],
            [
             0.7777777777777778,
             "#fb9f3a"
            ],
            [
             0.8888888888888888,
             "#fdca26"
            ],
            [
             1,
             "#f0f921"
            ]
           ],
           "sequentialminus": [
            [
             0,
             "#0d0887"
            ],
            [
             0.1111111111111111,
             "#46039f"
            ],
            [
             0.2222222222222222,
             "#7201a8"
            ],
            [
             0.3333333333333333,
             "#9c179e"
            ],
            [
             0.4444444444444444,
             "#bd3786"
            ],
            [
             0.5555555555555556,
             "#d8576b"
            ],
            [
             0.6666666666666666,
             "#ed7953"
            ],
            [
             0.7777777777777778,
             "#fb9f3a"
            ],
            [
             0.8888888888888888,
             "#fdca26"
            ],
            [
             1,
             "#f0f921"
            ]
           ]
          },
          "colorway": [
           "#636efa",
           "#EF553B",
           "#00cc96",
           "#ab63fa",
           "#FFA15A",
           "#19d3f3",
           "#FF6692",
           "#B6E880",
           "#FF97FF",
           "#FECB52"
          ],
          "font": {
           "color": "#2a3f5f"
          },
          "geo": {
           "bgcolor": "white",
           "lakecolor": "white",
           "landcolor": "#E5ECF6",
           "showlakes": true,
           "showland": true,
           "subunitcolor": "white"
          },
          "hoverlabel": {
           "align": "left"
          },
          "hovermode": "closest",
          "mapbox": {
           "style": "light"
          },
          "paper_bgcolor": "white",
          "plot_bgcolor": "#E5ECF6",
          "polar": {
           "angularaxis": {
            "gridcolor": "white",
            "linecolor": "white",
            "ticks": ""
           },
           "bgcolor": "#E5ECF6",
           "radialaxis": {
            "gridcolor": "white",
            "linecolor": "white",
            "ticks": ""
           }
          },
          "scene": {
           "xaxis": {
            "backgroundcolor": "#E5ECF6",
            "gridcolor": "white",
            "gridwidth": 2,
            "linecolor": "white",
            "showbackground": true,
            "ticks": "",
            "zerolinecolor": "white"
           },
           "yaxis": {
            "backgroundcolor": "#E5ECF6",
            "gridcolor": "white",
            "gridwidth": 2,
            "linecolor": "white",
            "showbackground": true,
            "ticks": "",
            "zerolinecolor": "white"
           },
           "zaxis": {
            "backgroundcolor": "#E5ECF6",
            "gridcolor": "white",
            "gridwidth": 2,
            "linecolor": "white",
            "showbackground": true,
            "ticks": "",
            "zerolinecolor": "white"
           }
          },
          "shapedefaults": {
           "line": {
            "color": "#2a3f5f"
           }
          },
          "ternary": {
           "aaxis": {
            "gridcolor": "white",
            "linecolor": "white",
            "ticks": ""
           },
           "baxis": {
            "gridcolor": "white",
            "linecolor": "white",
            "ticks": ""
           },
           "bgcolor": "#E5ECF6",
           "caxis": {
            "gridcolor": "white",
            "linecolor": "white",
            "ticks": ""
           }
          },
          "title": {
           "x": 0.05
          },
          "xaxis": {
           "automargin": true,
           "gridcolor": "white",
           "linecolor": "white",
           "ticks": "",
           "title": {
            "standoff": 15
           },
           "zerolinecolor": "white",
           "zerolinewidth": 2
          },
          "yaxis": {
           "automargin": true,
           "gridcolor": "white",
           "linecolor": "white",
           "ticks": "",
           "title": {
            "standoff": 15
           },
           "zerolinecolor": "white",
           "zerolinewidth": 2
          }
         }
        },
        "title": {
         "text": "Trend Analysis: GDP Growth, Inflation, and Unemployment"
        },
        "xaxis": {
         "anchor": "y",
         "domain": [
          0,
          1
         ],
         "matches": "x3",
         "showticklabels": false
        },
        "xaxis2": {
         "anchor": "y2",
         "domain": [
          0,
          1
         ],
         "matches": "x3",
         "showticklabels": false
        },
        "xaxis3": {
         "anchor": "y3",
         "domain": [
          0,
          1
         ],
         "title": {
          "text": "Date"
         }
        },
        "yaxis": {
         "anchor": "x",
         "domain": [
          0.7777777777777778,
          1
         ]
        },
        "yaxis2": {
         "anchor": "x2",
         "domain": [
          0.3888888888888889,
          0.6111111111111112
         ]
        },
        "yaxis3": {
         "anchor": "x3",
         "domain": [
          0,
          0.22222222222222224
         ]
        }
       }
      },
      "image/png": "[encoded data removed]",
      "text/html": [
       "<div>                            <div id=\"d1622a29-9d0f-484e-a689-e5e9c216dfc3\" class=\"plotly-graph-div\" style=\"height:900px; width:100%;\"></div>            <script type=\"text/javascript\">                require([\"plotly\"], function(Plotly) {                    window.PLOTLYENV=window.PLOTLYENV || {};                                    if (document.getElementById(\"d1622a29-9d0f-484e-a689-e5e9c216dfc3\")) {                    Plotly.newPlot(                        \"d1622a29-9d0f-484e-a689-e5e9c216dfc3\",                        [{\"mode\":\"lines+markers\",\"name\":\"GDP Growth QoQ\",\"x\":[\"2015-05-31T00:00:00\",\"2015-06-30T00:00:00\",\"2015-07-31T00:00:00\",\"2015-08-31T00:00:00\",\"2015-09-30T00:00:00\",\"2015-10-31T00:00:00\",\"2015-11-30T00:00:00\",\"2015-12-31T00:00:00\",\"2016-01-31T00:00:00\",\"2016-02-29T00:00:00\",\"2016-03-31T00:00:00\",\"2016-04-30T00:00:00\",\"2016-05-31T00:00:00\",\"2016-06-30T00:00:00\",\"2016-07-31T00:00:00\",\"2016-08-31T00:00:00\",\"2016-09-30T00:00:00\",\"2016-10-31T00:00:00\",\"2016-11-30T00:00:00\",\"2016-12-31T00:00:00\",\"2017-01-31T00:00:00\",\"2017-02-28T00:00:00\",\"2017-03-31T00:00:00\",\"2017-04-30T00:00:00\",\"2017-05-31T00:00:00\",\"2017-06-30T00:00:00\",\"2017-07-31T00:00:00\",\"2017-08-31T00:00:00\",\"2017-09-30T00:00:00\",\"2017-10-31T00:00:00\",\"2017-11-30T00:00:00\",\"2017-12-31T00:00:00\",\"2018-01-31T00:00:00\",\"2018-02-28T00:00:00\",\"2018-03-31T00:00:00\",\"2018-04-30T00:00:00\",\"2018-05-31T00:00:00\",\"2018-06-30T00:00:00\",\"2018-07-31T00:00:00\",\"2018-08-31T00:00:00\",\"2018-09-30T00:00:00\",\"2018-10-31T00:00:00\",\"2018-11-30T00:00:00\",\"2018-12-31T00:00:00\",\"2019-01-31T00:00:00\",\"2019-02-28T00:00:00\",\"2019-03-31T00:00:00\",\"2019-04-30T00:00:00\",\"2019-05-31T00:00:00\",\"2019-06-30T00:00:00\",\"2019-07-31T00:00:00\",\"2019-08-31T00:00:00\",\"2019-09-30T00:00:00\",\"2019-10-31T00:00:00\",\"2019-11-30T00:00:00\",\"2019-12-31T00:00:00\",\"2020-01-31T00:00:00\",\"2020-02-29T00:00:00\",\"2020-03-31T00:00:00\",\"2020-04-30T00:00:00\",\"2020-05-31T00:00:00\",\"2020-06-30T00:00:00\",\"2020-07-31T00:00:00\",\"2020-08-31T00:00:00\",\"2020-09-30T00:00:00\",\"2020-10-31T00:00:00\",\"2020-11-30T00:00:00\",\"2020-12-31T00:00:00\",\"2021-01-31T00:00:00\",\"2021-02-28T00:00:00\",\"2021-03-31T00:00:00\",\"2021-04-30T00:00:00\",\"2021-05-31T00:00:00\",\"2021-06-30T00:00:00\",\"2021-07-31T00:00:00\",\"2021-08-31T00:00:00\",\"2021-09-30T00:00:00\",\"2021-10-31T00:00:00\",\"2021-11-30T00:00:00\",\"2021-12-31T00:00:00\",\"2022-01-31T00:00:00\",\"2022-02-28T00:00:00\",\"2022-03-31T00:00:00\",\"2022-04-30T00:00:00\",\"2022-05-31T00:00:00\",\"2022-06-30T00:00:00\",\"2022-07-31T00:00:00\",\"2022-08-31T00:00:00\",\"2022-09-30T00:00:00\",\"2022-10-31T00:00:00\",\"2022-11-30T00:00:00\",\"2022-12-31T00:00:00\",\"2023-01-31T00:00:00\",\"2023-02-28T00:00:00\",\"2023-03-31T00:00:00\",\"2023-04-30T00:00:00\",\"2023-05-31T00:00:00\",\"2023-06-30T00:00:00\",\"2023-07-31T00:00:00\",\"2023-08-31T00:00:00\",\"2023-09-30T00:00:00\",\"2023-10-31T00:00:00\",\"2023-11-30T00:00:00\",\"2023-12-31T00:00:00\",\"2024-01-31T00:00:00\",\"2024-02-29T00:00:00\",\"2024-03-31T00:00:00\",\"2024-04-30T00:00:00\",\"2024-05-31T00:00:00\",\"2024-06-30T00:00:00\",\"2024-07-31T00:00:00\",\"2024-08-31T00:00:00\",\"2024-09-30T00:00:00\",\"2024-10-31T00:00:00\",\"2024-11-30T00:00:00\",\"2024-12-31T00:00:00\",\"2025-01-31T00:00:00\",\"2025-02-28T00:00:00\",\"2025-03-31T00:00:00\",\"2025-04-30T00:00:00\"],\"y\":[0.0,0.0,0.6665396046255267,0.0,0.0,0.1821089071150528,0.0,0.0,0.4925160035425868,0.0,0.0,1.002751116502476,0.0,0.0,0.9669724325451324,0.0,0.0,1.0413579595735856,0.0,0.0,0.9990110207356516,0.0,0.0,0.8223978692209144,0.0,0.0,1.3064286431928362,0.0,0.0,1.74935299283816,0.0,0.0,1.4546275386922547,0.0,0.0,1.241401687567234,0.0,0.0,1.0583496008340187,0.0,0.0,0.5728090128579888,0.0,0.0,0.9261603967555488,0.0,0.0,1.35630648553402,0.0,0.0,1.4918867416103376,0.0,0.0,0.994816497968376,0.0,0.0,-0.937208618325347,0.0,0.0,-8.248533194352248,0.0,0.0,8.77385524997587,0.0,0.0,1.7718420824115677,0.0,0.0,2.664516780661108,0.0,0.0,3.142845503333147,0.0,0.0,2.3669531861223447,0.0,0.0,3.574313693203868,0.0,0.0,1.7695940894952855,0.0,0.0,2.3410212396815844,0.0,0.0,1.806648747949624,0.0,0.0,1.7595379356380336,0.0,0.0,1.6087287492382971,0.0,0.0,1.0655727234351486,0.0,0.0,1.8718054303199727,0.0,0.0,1.1773225374974494,0.0,0.0,1.1559613438429706,0.0,0.0,1.3717302036967638,0.0,0.0,1.2344609386162777,0.0,0.0,1.187918371437613,0.0,0.0,0.0,0.0,0.0,0.0],\"type\":\"scatter\",\"xaxis\":\"x\",\"yaxis\":\"y\"},{\"line\":{\"color\":\"red\",\"dash\":\"dash\"},\"mode\":\"lines\",\"name\":\"Zero Line\",\"x\":[\"2015-05-31T00:00:00\",\"2025-04-30T00:00:00\"],\"y\":[0,0],\"type\":\"scatter\",\"xaxis\":\"x\",\"yaxis\":\"y\"},{\"line\":{\"color\":\"orange\"},\"mode\":\"lines+markers\",\"name\":\"CPI YoY\",\"x\":[\"2016-04-30T00:00:00\",\"2016-05-31T00:00:00\",\"2016-06-30T00:00:00\",\"2016-07-31T00:00:00\",\"2016-08-31T00:00:00\",\"2016-09-30T00:00:00\",\"2016-10-31T00:00:00\",\"2016-11-30T00:00:00\",\"2016-12-31T00:00:00\",\"2017-01-31T00:00:00\",\"2017-02-28T00:00:00\",\"2017-03-31T00:00:00\",\"2017-04-30T00:00:00\",\"2017-05-31T00:00:00\",\"2017-06-30T00:00:00\",\"2017-07-31T00:00:00\",\"2017-08-31T00:00:00\",\"2017-09-30T00:00:00\",\"2017-10-31T00:00:00\",\"2017-11-30T00:00:00\",\"2017-12-31T00:00:00\",\"2018-01-31T00:00:00\",\"2018-02-28T00:00:00\",\"2018-03-31T00:00:00\",\"2018-04-30T00:00:00\",\"2018-05-31T00:00:00\",\"2018-06-30T00:00:00\",\"2018-07-31T00:00:00\",\"2018-08-31T00:00:00\",\"2018-09-30T00:00:00\",\"2018-10-31T00:00:00\",\"2018-11-30T00:00:00\",\"2018-12-31T00:00:00\",\"2019-01-31T00:00:00\",\"2019-02-28T00:00:00\",\"2019-03-31T00:00:00\",\"2019-04-30T00:00:00\",\"2019-05-31T00:00:00\",\"2019-06-30T00:00:00\",\"2019-07-31T00:00:00\",\"2019-08-31T00:00:00\",\"2019-09-30T00:00:00\",\"2019-10-31T00:00:00\",\"2019-11-30T00:00:00\",\"2019-12-31T00:00:00\",\"2020-01-31T00:00:00\",\"2020-02-29T00:00:00\",\"2020-03-31T00:00:00\",\"2020-04-30T00:00:00\",\"2020-05-31T00:00:00\",\"2020-06-30T00:00:00\",\"2020-07-31T00:00:00\",\"2020-08-31T00:00:00\",\"2020-09-30T00:00:00\",\"2020-10-31T00:00:00\",\"2020-11-30T00:00:00\",\"2020-12-31T00:00:00\",\"2021-01-31T00:00:00\",\"2021-02-28T00:00:00\",\"2021-03-31T00:00:00\",\"2021-04-30T00:00:00\",\"2021-05-31T00:00:00\",\"2021-06-30T00:00:00\",\"2021-07-31T00:00:00\",\"2021-08-31T00:00:00\",\"2021-09-30T00:00:00\",\"2021-10-31T00:00:00\",\"2021-11-30T00:00:00\",\"2021-12-31T00:00:00\",\"2022-01-31T00:00:00\",\"2022-02-28T00:00:00\",\"2022-03-31T00:00:00\",\"2022-04-30T00:00:00\",\"2022-05-31T00:00:00\",\"2022-06-30T00:00:00\",\"2022-07-31T00:00:00\",\"2022-08-31T00:00:00\",\"2022-09-30T00:00:00\",\"2022-10-31T00:00:00\",\"2022-11-30T00:00:00\",\"2022-12-31T00:00:00\",\"2023-01-31T00:00:00\",\"2023-02-28T00:00:00\",\"2023-03-31T00:00:00\",\"2023-04-30T00:00:00\",\"2023-05-31T00:00:00\",\"2023-06-30T00:00:00\",\"2023-07-31T00:00:00\",\"2023-08-31T00:00:00\",\"2023-09-30T00:00:00\",\"2023-10-31T00:00:00\",\"2023-11-30T00:00:00\",\"2023-12-31T00:00:00\",\"2024-01-31T00:00:00\",\"2024-02-29T00:00:00\",\"2024-03-31T00:00:00\",\"2024-04-30T00:00:00\",\"2024-05-31T00:00:00\",\"2024-06-30T00:00:00\",\"2024-07-31T00:00:00\",\"2024-08-31T00:00:00\",\"2024-09-30T00:00:00\",\"2024-10-31T00:00:00\",\"2024-11-30T00:00:00\",\"2024-12-31T00:00:00\",\"2025-01-31T00:00:00\",\"2025-02-28T00:00:00\",\"2025-03-31T00:00:00\",\"2025-04-30T00:00:00\"],\"y\":[1.1726257503534845,1.0784764621246223,1.0792865347959424,0.8683633430518256,1.0553158595656864,1.5486446201652182,1.685924966243646,1.6843334719788938,2.0507989115119862,2.510393348257112,2.8103616813294208,2.44119623655914,2.176223471915395,1.856343166761976,1.640565809959127,1.7251073506566073,1.92812155729698,2.1805652303711787,2.020757753132485,2.172493864295566,2.129930719552253,2.151318868063945,2.263468931091861,2.3309497646499366,2.4709963021052994,2.781921607842497,2.8075506935940187,2.854124785561929,2.642923856874257,2.332055105808828,2.492032470218053,2.147328577667773,2.0023809043401064,1.4875893578291333,1.5188615351321877,1.8831863513063984,2.000583470209061,1.7959105553606136,1.671194894390049,1.826331335037068,1.7376412106666406,1.6844977040391562,1.7339736996186297,2.092290394862917,2.3195274699624457,2.599767976845202,2.34131667975952,1.4940399642909163,0.3130472940411133,0.1982013035848551,0.7166562831830481,0.9968647625897996,1.2810698495523851,1.3910228912373812,1.2303863428671624,1.1757452138405844,1.3204191315779434,1.3553199782346148,1.667502410800381,2.623645747764214,4.137373453318349,4.926466563983079,5.317418943207719,5.269167647240969,5.181323173271246,5.363523425270289,6.226591220771449,6.865559520296194,7.159457345112474,7.578082463000535,7.949220898953979,8.540780148538584,8.235161744022502,8.530051713089225,8.999298141923106,8.447778206754553,8.216255059541266,8.205751582451759,7.757261470809462,7.131380368978291,6.410831677385809,6.340296309929161,5.957648712766894,4.931348641757127,4.946947488062325,4.125314539356473,3.0592533347792994,3.28032820234625,3.718635867760756,3.6950823322234423,3.2465375076767167,3.139855644977696,3.322200208829762,3.1079425939238847,3.16642120765831,3.4690014354717524,3.3540471111874304,3.238866396761142,2.9700853998204435,2.9384633061405374,2.610914032233836,2.432541464144644,2.5714034967967203,2.7141684004842848,2.872366268806581,2.999412512831112,2.814270373156869,2.4568497342257523,2.1593145398318248],\"type\":\"scatter\",\"xaxis\":\"x2\",\"yaxis\":\"y2\"},{\"line\":{\"color\":\"green\"},\"mode\":\"lines+markers\",\"name\":\"Unemployment Rate\",\"x\":[\"2015-04-30T00:00:00\",\"2015-05-31T00:00:00\",\"2015-06-30T00:00:00\",\"2015-07-31T00:00:00\",\"2015-08-31T00:00:00\",\"2015-09-30T00:00:00\",\"2015-10-31T00:00:00\",\"2015-11-30T00:00:00\",\"2015-12-31T00:00:00\",\"2016-01-31T00:00:00\",\"2016-02-29T00:00:00\",\"2016-03-31T00:00:00\",\"2016-04-30T00:00:00\",\"2016-05-31T00:00:00\",\"2016-06-30T00:00:00\",\"2016-07-31T00:00:00\",\"2016-08-31T00:00:00\",\"2016-09-30T00:00:00\",\"2016-10-31T00:00:00\",\"2016-11-30T00:00:00\",\"2016-12-31T00:00:00\",\"2017-01-31T00:00:00\",\"2017-02-28T00:00:00\",\"2017-03-31T00:00:00\",\"2017-04-30T00:00:00\",\"2017-05-31T00:00:00\",\"2017-06-30T00:00:00\",\"2017-07-31T00:00:00\",\"2017-08-31T00:00:00\",\"2017-09-30T00:00:00\",\"2017-10-31T00:00:00\",\"2017-11-30T00:00:00\",\"2017-12-31T00:00:00\",\"2018-01-31T00:00:00\",\"2018-02-28T00:00:00\",\"2018-03-31T00:00:00\",\"2018-04-30T00:00:00\",\"2018-05-31T00:00:00\",\"2018-06-30T00:00:00\",\"2018-07-31T00:00:00\",\"2018-08-31T00:00:00\",\"2018-09-30T00:00:00\",\"2018-10-31T00:00:00\",\"2018-11-30T00:00:00\",\"2018-12-31T00:00:00\",\"2019-01-31T00:00:00\",\"2019-02-28T00:00:00\",\"2019-03-31T00:00:00\",\"2019-04-30T00:00:00\",\"2019-05-31T00:00:00\",\"2019-06-30T00:00:00\",\"2019-07-31T00:00:00\",\"2019-08-31T00:00:00\",\"2019-09-30T00:00:00\",\"2019-10-31T00:00:00\",\"2019-11-30T00:00:00\",\"2019-12-31T00:00:00\",\"2020-01-31T00:00:00\",\"2020-02-29T00:00:00\",\"2020-03-31T00:00:00\",\"2020-04-30T00:00:00\",\"2020-05-31T00:00:00\",\"2020-06-30T00:00:00\",\"2020-07-31T00:00:00\",\"2020-08-31T00:00:00\",\"2020-09-30T00:00:00\",\"2020-10-31T00:00:00\",\"2020-11-30T00:00:00\",\"2020-12-31T00:00:00\",\"2021-01-31T00:00:00\",\"2021-02-28T00:00:00\",\"2021-03-31T00:00:00\",\"2021-04-30T00:00:00\",\"2021-05-31T00:00:00\",\"2021-06-30T00:00:00\",\"2021-07-31T00:00:00\",\"2021-08-31T00:00:00\",\"2021-09-30T00:00:00\",\"2021-10-31T00:00:00\",\"2021-11-30T00:00:00\",\"2021-12-31T00:00:00\",\"2022-01-31T00:00:00\",\"2022-02-28T00:00:00\",\"2022-03-31T00:00:00\",\"2022-04-30T00:00:00\",\"2022-05-31T00:00:00\",\"2022-06-30T00:00:00\",\"2022-07-31T00:00:00\",\"2022-08-31T00:00:00\",\"2022-09-30T00:00:00\",\"2022-10-31T00:00:00\",\"2022-11-30T00:00:00\",\"2022-12-31T00:00:00\",\"2023-01-31T00:00:00\",\"2023-02-28T00:00:00\",\"2023-03-31T00:00:00\",\"2023-04-30T00:00:00\",\"2023-05-31T00:00:00\",\"2023-06-30T00:00:00\",\"2023-07-31T00:00:00\",\"2023-08-31T00:00:00\",\"2023-09-30T00:00:00\",\"2023-10-31T00:00:00\",\"2023-11-30T00:00:00\",\"2023-12-31T00:00:00\",\"2024-01-31T00:00:00\",\"2024-02-29T00:00:00\",\"2024-03-31T00:00:00\",\"2024-04-30T00:00:00\",\"2024-05-31T00:00:00\",\"2024-06-30T00:00:00\",\"2024-07-31T00:00:00\",\"2024-08-31T00:00:00\",\"2024-09-30T00:00:00\",\"2024-10-31T00:00:00\",\"2024-11-30T00:00:00\",\"2024-12-31T00:00:00\",\"2025-01-31T00:00:00\",\"2025-02-28T00:00:00\",\"2025-03-31T00:00:00\",\"2025-04-30T00:00:00\"],\"y\":[5.4,5.6,5.3,5.2,5.1,5.0,5.0,5.1,5.0,4.8,4.9,5.0,5.1,4.8,4.9,4.8,4.9,5.0,4.9,4.7,4.7,4.7,4.6,4.4,4.4,4.4,4.3,4.3,4.4,4.3,4.2,4.2,4.1,4.0,4.1,4.0,4.0,3.8,4.0,3.8,3.8,3.7,3.8,3.8,3.9,4.0,3.8,3.8,3.7,3.6,3.6,3.7,3.6,3.5,3.6,3.6,3.6,3.6,3.5,4.4,14.8,13.2,11.0,10.2,8.4,7.8,6.9,6.7,6.7,6.4,6.2,6.1,6.1,5.8,5.9,5.4,5.1,4.7,4.5,4.2,3.9,4.0,3.8,3.7,3.7,3.6,3.6,3.5,3.6,3.5,3.6,3.6,3.5,3.5,3.6,3.5,3.4,3.6,3.6,3.5,3.7,3.8,3.9,3.7,3.8,3.7,3.9,3.9,3.9,4.0,4.1,4.2,4.2,4.1,4.1,4.2,4.1,4.0,4.1,4.1,4.1],\"type\":\"scatter\",\"xaxis\":\"x3\",\"yaxis\":\"y3\"}],                        {\"template\":{\"data\":{\"histogram2dcontour\":[{\"type\":\"histogram2dcontour\",\"colorbar\":{\"outlinewidth\":0,\"ticks\":\"\"},\"colorscale\":[[0.0,\"#0d0887\"],[0.1111111111111111,\"#46039f\"],[0.2222222222222222,\"#7201a8\"],[0.3333333333333333,\"#9c179e\"],[0.4444444444444444,\"#bd3786\"],[0.5555555555555556,\"#d8576b\"],[0.6666666666666666,\"#ed7953\"],[0.7777777777777778,\"#fb9f3a\"],[0.8888888888888888,\"#fdca26\"],[1.0,\"#f0f921\"]]}],\"choropleth\":[{\"type\":\"choropleth\",\"colorbar\":{\"outlinewidth\":0,\"ticks\":\"\"}}],\"histogram2d\":[{\"type\":\"histogram2d\",\"colorbar\":{\"outlinewidth\":0,\"ticks\":\"\"},\"colorscale\":[[0.0,\"#0d0887\"],[0.1111111111111111,\"#46039f\"],[0.2222222222222222,\"#7201a8\"],[0.3333333333333333,\"#9c179e\"],[0.4444444444444444,\"#bd3786\"],[0.5555555555555556,\"#d8576b\"],[0.6666666666666666,\"#ed7953\"],[0.7777777777777778,\"#fb9f3a\"],[0.8888888888888888,\"#fdca26\"],[1.0,\"#f0f921\"]]}],\"heatmap\":[{\"type\":\"heatmap\",\"colorbar\":{\"outlinewidth\":0,\"ticks\":\"\"},\"colorscale\":[[0.0,\"#0d0887\"],[0.1111111111111111,\"#46039f\"],[0.2222222222222222,\"#7201a8\"],[0.3333333333333333,\"#9c179e\"],[0.4444444444444444,\"#bd3786\"],[0.5555555555555556,\"#d8576b\"],[0.6666666666666666,\"#ed7953\"],[0.7777777777777778,\"#fb9f3a\"],[0.8888888888888888,\"#fdca26\"],[1.0,\"#f0f921\"]]}],\"heatmapgl\":[{\"type\":\"heatmapgl\",\"colorbar\":{\"outlinewidth\":0,\"ticks\":\"\"},\"colorscale\":[[0.0,\"#0d0887\"],[0.1111111111111111,\"#46039f\"],[0.2222222222222222,\"#7201a8\"],[0.3333333333333333,\"#9c179e\"],[0.4444444444444444,\"#bd3786\"],[0.5555555555555556,\"#d8576b\"],[0.6666666666666666,\"#ed7953\"],[0.7777777777777778,\"#fb9f3a\"],[0.8888888888888888,\"#fdca26\"],[1.0,\"#f0f921\"]]}],\"contourcarpet\":[{\"type\":\"contourcarpet\",\"colorbar\":{\"outlinewidth\":0,\"ticks\":\"\"}}],\"contour\":[{\"type\":\"contour\",\"colorbar\":{\"outlinewidth\":0,\"ticks\":\"\"},\"colorscale\":[[0.0,\"#0d0887\"],[0.1111111111111111,\"#46039f\"],[0.2222222222222222,\"#7201a8\"],[0.3333333333333333,\"#9c179e\"],[0.4444444444444444,\"#bd3786\"],[0.5555555555555556,\"#d8576b\"],[0.6666666666666666,\"#ed7953\"],[0.7777777777777778,\"#fb9f3a\"],[0.8888888888888888,\"#fdca26\"],[1.0,\"#f0f921\"]]}],\"surface\":[{\"type\":\"surface\",\"colorbar\":{\"outlinewidth\":0,\"ticks\":\"\"},\"colorscale\":[[0.0,\"#0d0887\"],[0.1111111111111111,\"#46039f\"],[0.2222222222222222,\"#7201a8\"],[0.3333333333333333,\"#9c179e\"],[0.4444444444444444,\"#bd3786\"],[0.5555555555555556,\"#d8576b\"],[0.6666666666666666,\"#ed7953\"],[0.7777777777777778,\"#fb9f3a\"],[0.8888888888888888,\"#fdca26\"],[1.0,\"#f0f921\"]]}],\"mesh3d\":[{\"type\":\"mesh3d\",\"colorbar\":{\"outlinewidth\":0,\"ticks\":\"\"}}],\"scatter\":[{\"fillpattern\":{\"fillmode\":\"overlay\",\"size\":10,\"solidity\":0.2},\"type\":\"scatter\"}],\"parcoords\":[{\"type\":\"parcoords\",\"line\":{\"colorbar\":{\"outlinewidth\":0,\"ticks\":\"\"}}}],\"scatterpolargl\":[{\"type\":\"scatterpolargl\",\"marker\":{\"colorbar\":{\"outlinewidth\":0,\"ticks\":\"\"}}}],\"bar\":[{\"error_x\":{\"color\":\"#2a3f5f\"},\"error_y\":{\"color\":\"#2a3f5f\"},\"marker\":{\"line\":{\"color\":\"#E5ECF6\",\"width\":0.5},\"pattern\":{\"fillmode\":\"overlay\",\"size\":10,\"solidity\":0.2}},\"type\":\"bar\"}],\"scattergeo\":[{\"type\":\"scattergeo\",\"marker\":{\"colorbar\":{\"outlinewidth\":0,\"ticks\":\"\"}}}],\"scatterpolar\":[{\"type\":\"scatterpolar\",\"marker\":{\"colorbar\":{\"outlinewidth\":0,\"ticks\":\"\"}}}],\"histogram\":[{\"marker\":{\"pattern\":{\"fillmode\":\"overlay\",\"size\":10,\"solidity\":0.2}},\"type\":\"histogram\"}],\"scattergl\":[{\"type\":\"scattergl\",\"marker\":{\"colorbar\":{\"outlinewidth\":0,\"ticks\":\"\"}}}],\"scatter3d\":[{\"type\":\"scatter3d\",\"line\":{\"colorbar\":{\"outlinewidth\":0,\"ticks\":\"\"}},\"marker\":{\"colorbar\":{\"outlinewidth\":0,\"ticks\":\"\"}}}],\"scattermapbox\":[{\"type\":\"scattermapbox\",\"marker\":{\"colorbar\":{\"outlinewidth\":0,\"ticks\":\"\"}}}],\"scatterternary\":[{\"type\":\"scatterternary\",\"marker\":{\"colorbar\":{\"outlinewidth\":0,\"ticks\":\"\"}}}],\"scattercarpet\":[{\"type\":\"scattercarpet\",\"marker\":{\"colorbar\":{\"outlinewidth\":0,\"ticks\":\"\"}}}],\"carpet\":[{\"aaxis\":{\"endlinecolor\":\"#2a3f5f\",\"gridcolor\":\"white\",\"linecolor\":\"white\",\"minorgridcolor\":\"white\",\"startlinecolor\":\"#2a3f5f\"},\"baxis\":{\"endlinecolor\":\"#2a3f5f\",\"gridcolor\":\"white\",\"linecolor\":\"white\",\"minorgridcolor\":\"white\",\"startlinecolor\":\"#2a3f5f\"},\"type\":\"carpet\"}],\"table\":[{\"cells\":{\"fill\":{\"color\":\"#EBF0F8\"},\"line\":{\"color\":\"white\"}},\"header\":{\"fill\":{\"color\":\"#C8D4E3\"},\"line\":{\"color\":\"white\"}},\"type\":\"table\"}],\"barpolar\":[{\"marker\":{\"line\":{\"color\":\"#E5ECF6\",\"width\":0.5},\"pattern\":{\"fillmode\":\"overlay\",\"size\":10,\"solidity\":0.2}},\"type\":\"barpolar\"}],\"pie\":[{\"automargin\":true,\"type\":\"pie\"}]},\"layout\":{\"autotypenumbers\":\"strict\",\"colorway\":[\"#636efa\",\"#EF553B\",\"#00cc96\",\"#ab63fa\",\"#FFA15A\",\"#19d3f3\",\"#FF6692\",\"#B6E880\",\"#FF97FF\",\"#FECB52\"],\"font\":{\"color\":\"#2a3f5f\"},\"hovermode\":\"closest\",\"hoverlabel\":{\"align\":\"left\"},\"paper_bgcolor\":\"white\",\"plot_bgcolor\":\"#E5ECF6\",\"polar\":{\"bgcolor\":\"#E5ECF6\",\"angularaxis\":{\"gridcolor\":\"white\",\"linecolor\":\"white\",\"ticks\":\"\"},\"radialaxis\":{\"gridcolor\":\"white\",\"linecolor\":\"white\",\"ticks\":\"\"}},\"ternary\":{\"bgcolor\":\"#E5ECF6\",\"aaxis\":{\"gridcolor\":\"white\",\"linecolor\":\"white\",\"ticks\":\"\"},\"baxis\":{\"gridcolor\":\"white\",\"linecolor\":\"white\",\"ticks\":\"\"},\"caxis\":{\"gridcolor\":\"white\",\"linecolor\":\"white\",\"ticks\":\"\"}},\"coloraxis\":{\"colorbar\":{\"outlinewidth\":0,\"ticks\":\"\"}},\"colorscale\":{\"sequential\":[[0.0,\"#0d0887\"],[0.1111111111111111,\"#46039f\"],[0.2222222222222222,\"#7201a8\"],[0.3333333333333333,\"#9c179e\"],[0.4444444444444444,\"#bd3786\"],[0.5555555555555556,\"#d8576b\"],[0.6666666666666666,\"#ed7953\"],[0.7777777777777778,\"#fb9f3a\"],[0.8888888888888888,\"#fdca26\"],[1.0,\"#f0f921\"]],\"sequentialminus\":[[0.0,\"#0d0887\"],[0.1111111111111111,\"#46039f\"],[0.2222222222222222,\"#7201a8\"],[0.3333333333333333,\"#9c179e\"],[0.4444444444444444,\"#bd3786\"],[0.5555555555555556,\"#d8576b\"],[0.6666666666666666,\"#ed7953\"],[0.7777777777777778,\"#fb9f3a\"],[0.8888888888888888,\"#fdca26\"],[1.0,\"#f0f921\"]],\"diverging\":[[0,\"#8e0152\"],[0.1,\"#c51b7d\"],[0.2,\"#de77ae\"],[0.3,\"#f1b6da\"],[0.4,\"#fde0ef\"],[0.5,\"#f7f7f7\"],[0.6,\"#e6f5d0\"],[0.7,\"#b8e186\"],[0.8,\"#7fbc41\"],[0.9,\"#4d9221\"],[1,\"#276419\"]]},\"xaxis\":{\"gridcolor\":\"white\",\"linecolor\":\"white\",\"ticks\":\"\",\"title\":{\"standoff\":15},\"zerolinecolor\":\"white\",\"automargin\":true,\"zerolinewidth\":2},\"yaxis\":{\"gridcolor\":\"white\",\"linecolor\":\"white\",\"ticks\":\"\",\"title\":{\"standoff\":15},\"zerolinecolor\":\"white\",\"automargin\":true,\"zerolinewidth\":2},\"scene\":{\"xaxis\":{\"backgroundcolor\":\"#E5ECF6\",\"gridcolor\":\"white\",\"linecolor\":\"white\",\"showbackground\":true,\"ticks\":\"\",\"zerolinecolor\":\"white\",\"gridwidth\":2},\"yaxis\":{\"backgroundcolor\":\"#E5ECF6\",\"gridcolor\":\"white\",\"linecolor\":\"white\",\"showbackground\":true,\"ticks\":\"\",\"zerolinecolor\":\"white\",\"gridwidth\":2},\"zaxis\":{\"backgroundcolor\":\"#E5ECF6\",\"gridcolor\":\"white\",\"linecolor\":\"white\",\"showbackground\":true,\"ticks\":\"\",\"zerolinecolor\":\"white\",\"gridwidth\":2}},\"shapedefaults\":{\"line\":{\"color\":\"#2a3f5f\"}},\"annotationdefaults\":{\"arrowcolor\":\"#2a3f5f\",\"arrowhead\":0,\"arrowwidth\":1},\"geo\":{\"bgcolor\":\"white\",\"landcolor\":\"#E5ECF6\",\"subunitcolor\":\"white\",\"showland\":true,\"showlakes\":true,\"lakecolor\":\"white\"},\"title\":{\"x\":0.05},\"mapbox\":{\"style\":\"light\"}}},\"xaxis\":{\"anchor\":\"y\",\"domain\":[0.0,1.0],\"matches\":\"x3\",\"showticklabels\":false},\"yaxis\":{\"anchor\":\"x\",\"domain\":[0.7777777777777778,1.0]},\"xaxis2\":{\"anchor\":\"y2\",\"domain\":[0.0,1.0],\"matches\":\"x3\",\"showticklabels\":false},\"yaxis2\":{\"anchor\":\"x2\",\"domain\":[0.3888888888888889,0.6111111111111112]},\"xaxis3\":{\"anchor\":\"y3\",\"domain\":[0.0,1.0],\"title\":{\"text\":\"Date\"}},\"yaxis3\":{\"anchor\":\"x3\",\"domain\":[0.0,0.22222222222222224]},\"annotations\":[{\"font\":{\"size\":16},\"showarrow\":false,\"text\":\"GDP Growth Rate (QoQ)\",\"x\":0.5,\"xanchor\":\"center\",\"xref\":\"paper\",\"y\":1.0,\"yanchor\":\"bottom\",\"yref\":\"paper\"},{\"font\":{\"size\":16},\"showarrow\":false,\"text\":\"CPI Inflation Rate (YoY)\",\"x\":0.5,\"xanchor\":\"center\",\"xref\":\"paper\",\"y\":0.6111111111111112,\"yanchor\":\"bottom\",\"yref\":\"paper\"},{\"font\":{\"size\":16},\"showarrow\":false,\"text\":\"Unemployment Rate\",\"x\":0.5,\"xanchor\":\"center\",\"xref\":\"paper\",\"y\":0.22222222222222224,\"yanchor\":\"bottom\",\"yref\":\"paper\"}],\"title\":{\"text\":\"Trend Analysis: GDP Growth, Inflation, and Unemployment\"},\"height\":900},                        {\"responsive\": true}                    ).then(function(){\n",
       "                            \n",
       "var gd = document.getElementById('d1622a29-9d0f-484e-a689-e5e9c216dfc3');\n",
       "var x = new MutationObserver(function (mutations, observer) {{\n",
       "        var display = window.getComputedStyle(gd).display;\n",
       "        if (!display || display === 'none') {{\n",
       "            console.log([gd, 'removed!']);\n",
       "            Plotly.purge(gd);\n",
       "            observer.disconnect();\n",
       "        }}\n",
       "}});\n",
       "\n",
       "// Listen for the removal of the full notebook cells\n",
       "var notebookContainer = gd.closest('#notebook-container');\n",
       "if (notebookContainer) {{\n",
       "    x.observe(notebookContainer, {childList: true});\n",
       "}}\n",
       "\n",
       "// Listen for the clearing of the current output cell\n",
       "var outputEl = gd.closest('.output');\n",
       "if (outputEl) {{\n",
       "    x.observe(outputEl, {childList: true});\n",
       "}}\n",
       "\n",
       "                        })                };                });            </script>        </div>"
      ]
     },
     "metadata": {},
     "output_type": "display_data"
    },
    {
     "data": {
      "application/vnd.plotly.v1+json": {
       "config": {
        "plotlyServerURL": "https://plot.ly"
       },
       "data": [
        {
         "colorscale": [
          [
           0,
           "rgb(103,0,31)"
          ],
          [
           0.1,
           "rgb(178,24,43)"
          ],
          [
           0.2,
           "rgb(214,96,77)"
          ],
          [
           0.3,
           "rgb(244,165,130)"
          ],
          [
           0.4,
           "rgb(253,219,199)"
          ],
          [
           0.5,
           "rgb(247,247,247)"
          ],
          [
           0.6,
           "rgb(209,229,240)"
          ],
          [
           0.7,
           "rgb(146,197,222)"
          ],
          [
           0.8,
           "rgb(67,147,195)"
          ],
          [
           0.9,
           "rgb(33,102,172)"
          ],
          [
           1,
           "rgb(5,48,97)"
          ]
         ],
         "hoverinfo": "text",
         "text": [
          [
           1,
           0.11,
           -0.15,
           -0.05,
           -0.02,
           -0.03,
           0.05,
           0.05,
           -0.05,
           0.04,
           0.09
          ],
          [
           0.11,
           1,
           -0.36,
           0.08,
           0.26,
           0.3,
           -0.29,
           0.42,
           0.22,
           0.46,
           0.64
          ],
          [
           -0.15,
           -0.36,
           1,
           -0.44,
           -0.55,
           -0.52,
           0.34,
           -0.14,
           0.35,
           -0.07,
           -0.02
          ],
          [
           -0.05,
           0.08,
           -0.44,
           1,
           0.89,
           0.94,
           -0.81,
           0.6,
           -0.25,
           0.65,
           0.43
          ],
          [
           -0.02,
           0.26,
           -0.55,
           0.89,
           1,
           0.96,
           -0.66,
           0.56,
           -0.32,
           0.59,
           0.4
          ],
          [
           -0.03,
           0.3,
           -0.52,
           0.94,
           0.96,
           1,
           -0.84,
           0.55,
           -0.22,
           0.62,
           0.45
          ],
          [
           0.05,
           -0.29,
           0.34,
           -0.81,
           -0.66,
           -0.84,
           1,
           -0.41,
           -0.01,
           -0.54,
           -0.44
          ],
          [
           0.05,
           0.42,
           -0.14,
           0.6,
           0.56,
           0.55,
           -0.41,
           1,
           0.08,
           0.96,
           0.9
          ],
          [
           -0.05,
           0.22,
           0.35,
           -0.25,
           -0.32,
           -0.22,
           -0.01,
           0.08,
           1,
           0.2,
           0.33
          ],
          [
           0.04,
           0.46,
           -0.07,
           0.65,
           0.59,
           0.62,
           -0.54,
           0.96,
           0.2,
           1,
           0.95
          ],
          [
           0.09,
           0.64,
           -0.02,
           0.43,
           0.4,
           0.45,
           -0.44,
           0.9,
           0.33,
           0.95,
           1
          ]
         ],
         "type": "heatmap",
         "x": [
          "GDP_Growth_QoQ",
          "CPI_YoY",
          "UNRATE_UNRATE",
          "FEDFUNDS_FEDFUNDS",
          "DGS10_DGS10",
          "DGS2_DGS2",
          "T10Y2Y_T10Y2Y",
          "SP500_SP500",
          "VIXCLS_VIXCLS",
          "GFDEBTN_GFDEBTN",
          "M2SL_M2SL"
         ],
         "y": [
          "GDP_Growth_QoQ",
          "CPI_YoY",
          "UNRATE_UNRATE",
          "FEDFUNDS_FEDFUNDS",
          "DGS10_DGS10",
          "DGS2_DGS2",
          "T10Y2Y_T10Y2Y",
          "SP500_SP500",
          "VIXCLS_VIXCLS",
          "GFDEBTN_GFDEBTN",
          "M2SL_M2SL"
         ],
         "z": [
          [
           1,
           0.10948721413108636,
           -0.15180713692518844,
           -0.048262137785029025,
           -0.023471816813447306,
           -0.03495804011216942,
           0.0493048690986617,
           0.047185732669230346,
           -0.04738718144265878,
           0.04028635006218222,
           0.08509779005915881
          ],
          [
           0.10948721413108636,
           1,
           -0.3640895985694348,
           0.07923571310536727,
           0.26377777951409886,
           0.2964802107960437,
           -0.2915226142619842,
           0.4152166647161118,
           0.21668247448911093,
           0.4614355528280847,
           0.6369298980659478
          ],
          [
           -0.15180713692518844,
           -0.3640895985694348,
           1,
           -0.43545744897904876,
           -0.5538217094087617,
           -0.5233263139913595,
           0.34279210952060024,
           -0.13764640084890795,
           0.34643754657362524,
           -0.06851017029990185,
           -0.01706781993225704
          ],
          [
           -0.048262137785029025,
           0.07923571310536727,
           -0.43545744897904876,
           1,
           0.8921023504317492,
           0.9374125247257334,
           -0.8089328658476851,
           0.6012811695179262,
           -0.2517680754588131,
           0.6463672022348956,
           0.43266286318587427
          ],
          [
           -0.023471816813447306,
           0.26377777951409886,
           -0.5538217094087617,
           0.8921023504317492,
           1,
           0.9613659833694013,
           -0.6637430837590509,
           0.5590159925376846,
           -0.31607349042919847,
           0.5853625478233027,
           0.4009236557754266
          ],
          [
           -0.03495804011216942,
           0.2964802107960437,
           -0.5233263139913595,
           0.9374125247257334,
           0.9613659833694013,
           1,
           -0.8439932312749411,
           0.5528564077796816,
           -0.22232174942457125,
           0.6195634146895362,
           0.4480832211800309
          ],
          [
           0.0493048690986617,
           -0.2915226142619842,
           0.34279210952060024,
           -0.8089328658476851,
           -0.6637430837590509,
           -0.8439932312749411,
           1,
           -0.41316645348915826,
           -0.011950734721434599,
           -0.5430730447688173,
           -0.4364684465785206
          ],
          [
           0.047185732669230346,
           0.4152166647161118,
           -0.13764640084890795,
           0.6012811695179262,
           0.5590159925376846,
           0.5528564077796816,
           -0.41316645348915826,
           1,
           0.08366896416252423,
           0.955447473374816,
           0.8963753896881788
          ],
          [
           -0.04738718144265878,
           0.21668247448911093,
           0.34643754657362524,
           -0.2517680754588131,
           -0.31607349042919847,
           -0.22232174942457125,
           -0.011950734721434599,
           0.08366896416252423,
           1,
           0.20385417006539883,
           0.32597421041071867
          ],
          [
           0.04028635006218222,
           0.4614355528280847,
           -0.06851017029990185,
           0.6463672022348956,
           0.5853625478233027,
           0.6195634146895362,
           -0.5430730447688173,
           0.955447473374816,
           0.20385417006539883,
           1,
           0.9505907688483397
          ],
          [
           0.08509779005915881,
           0.6369298980659478,
           -0.01706781993225704,
           0.43266286318587427,
           0.4009236557754266,
           0.4480832211800309,
           -0.4364684465785206,
           0.8963753896881788,
           0.32597421041071867,
           0.9505907688483397,
           1
          ]
         ],
         "zmid": 0
        }
       ],
       "layout": {
        "height": 600,
        "template": {
         "data": {
          "bar": [
           {
            "error_x": {
             "color": "#2a3f5f"
            },
            "error_y": {
             "color": "#2a3f5f"
            },
            "marker": {
             "line": {
              "color": "#E5ECF6",
              "width": 0.5
             },
             "pattern": {
              "fillmode": "overlay",
              "size": 10,
              "solidity": 0.2
             }
            },
            "type": "bar"
           }
          ],
          "barpolar": [
           {
            "marker": {
             "line": {
              "color": "#E5ECF6",
              "width": 0.5
             },
             "pattern": {
              "fillmode": "overlay",
              "size": 10,
              "solidity": 0.2
             }
            },
            "type": "barpolar"
           }
          ],
          "carpet": [
           {
            "aaxis": {
             "endlinecolor": "#2a3f5f",
             "gridcolor": "white",
             "linecolor": "white",
             "minorgridcolor": "white",
             "startlinecolor": "#2a3f5f"
            },
            "baxis": {
             "endlinecolor": "#2a3f5f",
             "gridcolor": "white",
             "linecolor": "white",
             "minorgridcolor": "white",
             "startlinecolor": "#2a3f5f"
            },
            "type": "carpet"
           }
          ],
          "choropleth": [
           {
            "colorbar": {
             "outlinewidth": 0,
             "ticks": ""
            },
            "type": "choropleth"
           }
          ],
          "contour": [
           {
            "colorbar": {
             "outlinewidth": 0,
             "ticks": ""
            },
            "colorscale": [
             [
              0,
              "#0d0887"
             ],
             [
              0.1111111111111111,
              "#46039f"
             ],
             [
              0.2222222222222222,
              "#7201a8"
             ],
             [
              0.3333333333333333,
              "#9c179e"
             ],
             [
              0.4444444444444444,
              "#bd3786"
             ],
             [
              0.5555555555555556,
              "#d8576b"
             ],
             [
              0.6666666666666666,
              "#ed7953"
             ],
             [
              0.7777777777777778,
              "#fb9f3a"
             ],
             [
              0.8888888888888888,
              "#fdca26"
             ],
             [
              1,
              "#f0f921"
             ]
            ],
            "type": "contour"
           }
          ],
          "contourcarpet": [
           {
            "colorbar": {
             "outlinewidth": 0,
             "ticks": ""
            },
            "type": "contourcarpet"
           }
          ],
          "heatmap": [
           {
            "colorbar": {
             "outlinewidth": 0,
             "ticks": ""
            },
            "colorscale": [
             [
              0,
              "#0d0887"
             ],
             [
              0.1111111111111111,
              "#46039f"
             ],
             [
              0.2222222222222222,
              "#7201a8"
             ],
             [
              0.3333333333333333,
              "#9c179e"
             ],
             [
              0.4444444444444444,
              "#bd3786"
             ],
             [
              0.5555555555555556,
              "#d8576b"
             ],
             [
              0.6666666666666666,
              "#ed7953"
             ],
             [
              0.7777777777777778,
              "#fb9f3a"
             ],
             [
              0.8888888888888888,
              "#fdca26"
             ],
             [
              1,
              "#f0f921"
             ]
            ],
            "type": "heatmap"
           }
          ],
          "heatmapgl": [
           {
            "colorbar": {
             "outlinewidth": 0,
             "ticks": ""
            },
            "colorscale": [
             [
              0,
              "#0d0887"
             ],
             [
              0.1111111111111111,
              "#46039f"
             ],
             [
              0.2222222222222222,
              "#7201a8"
             ],
             [
              0.3333333333333333,
              "#9c179e"
             ],
             [
              0.4444444444444444,
              "#bd3786"
             ],
             [
              0.5555555555555556,
              "#d8576b"
             ],
             [
              0.6666666666666666,
              "#ed7953"
             ],
             [
              0.7777777777777778,
              "#fb9f3a"
             ],
             [
              0.8888888888888888,
              "#fdca26"
             ],
             [
              1,
              "#f0f921"
             ]
            ],
            "type": "heatmapgl"
           }
          ],
          "histogram": [
           {
            "marker": {
             "pattern": {
              "fillmode": "overlay",
              "size": 10,
              "solidity": 0.2
             }
            },
            "type": "histogram"
           }
          ],
          "histogram2d": [
           {
            "colorbar": {
             "outlinewidth": 0,
             "ticks": ""
            },
            "colorscale": [
             [
              0,
              "#0d0887"
             ],
             [
              0.1111111111111111,
              "#46039f"
             ],
             [
              0.2222222222222222,
              "#7201a8"
             ],
             [
              0.3333333333333333,
              "#9c179e"
             ],
             [
              0.4444444444444444,
              "#bd3786"
             ],
             [
              0.5555555555555556,
              "#d8576b"
             ],
             [
              0.6666666666666666,
              "#ed7953"
             ],
             [
              0.7777777777777778,
              "#fb9f3a"
             ],
             [
              0.8888888888888888,
              "#fdca26"
             ],
             [
              1,
              "#f0f921"
             ]
            ],
            "type": "histogram2d"
           }
          ],
          "histogram2dcontour": [
           {
            "colorbar": {
             "outlinewidth": 0,
             "ticks": ""
            },
            "colorscale": [
             [
              0,
              "#0d0887"
             ],
             [
              0.1111111111111111,
              "#46039f"
             ],
             [
              0.2222222222222222,
              "#7201a8"
             ],
             [
              0.3333333333333333,
              "#9c179e"
             ],
             [
              0.4444444444444444,
              "#bd3786"
             ],
             [
              0.5555555555555556,
              "#d8576b"
             ],
             [
              0.6666666666666666,
              "#ed7953"
             ],
             [
              0.7777777777777778,
              "#fb9f3a"
             ],
             [
              0.8888888888888888,
              "#fdca26"
             ],
             [
              1,
              "#f0f921"
             ]
            ],
            "type": "histogram2dcontour"
           }
          ],
          "mesh3d": [
           {
            "colorbar": {
             "outlinewidth": 0,
             "ticks": ""
            },
            "type": "mesh3d"
           }
          ],
          "parcoords": [
           {
            "line": {
             "colorbar": {
              "outlinewidth": 0,
              "ticks": ""
             }
            },
            "type": "parcoords"
           }
          ],
          "pie": [
           {
            "automargin": true,
            "type": "pie"
           }
          ],
          "scatter": [
           {
            "fillpattern": {
             "fillmode": "overlay",
             "size": 10,
             "solidity": 0.2
            },
            "type": "scatter"
           }
          ],
          "scatter3d": [
           {
            "line": {
             "colorbar": {
              "outlinewidth": 0,
              "ticks": ""
             }
            },
            "marker": {
             "colorbar": {
              "outlinewidth": 0,
              "ticks": ""
             }
            },
            "type": "scatter3d"
           }
          ],
          "scattercarpet": [
           {
            "marker": {
             "colorbar": {
              "outlinewidth": 0,
              "ticks": ""
             }
            },
            "type": "scattercarpet"
           }
          ],
          "scattergeo": [
           {
            "marker": {
             "colorbar": {
              "outlinewidth": 0,
              "ticks": ""
             }
            },
            "type": "scattergeo"
           }
          ],
          "scattergl": [
           {
            "marker": {
             "colorbar": {
              "outlinewidth": 0,
              "ticks": ""
             }
            },
            "type": "scattergl"
           }
          ],
          "scattermapbox": [
           {
            "marker": {
             "colorbar": {
              "outlinewidth": 0,
              "ticks": ""
             }
            },
            "type": "scattermapbox"
           }
          ],
          "scatterpolar": [
           {
            "marker": {
             "colorbar": {
              "outlinewidth": 0,
              "ticks": ""
             }
            },
            "type": "scatterpolar"
           }
          ],
          "scatterpolargl": [
           {
            "marker": {
             "colorbar": {
              "outlinewidth": 0,
              "ticks": ""
             }
            },
            "type": "scatterpolargl"
           }
          ],
          "scatterternary": [
           {
            "marker": {
             "colorbar": {
              "outlinewidth": 0,
              "ticks": ""
             }
            },
            "type": "scatterternary"
           }
          ],
          "surface": [
           {
            "colorbar": {
             "outlinewidth": 0,
             "ticks": ""
            },
            "colorscale": [
             [
              0,
              "#0d0887"
             ],
             [
              0.1111111111111111,
              "#46039f"
             ],
             [
              0.2222222222222222,
              "#7201a8"
             ],
             [
              0.3333333333333333,
              "#9c179e"
             ],
             [
              0.4444444444444444,
              "#bd3786"
             ],
             [
              0.5555555555555556,
              "#d8576b"
             ],
             [
              0.6666666666666666,
              "#ed7953"
             ],
             [
              0.7777777777777778,
              "#fb9f3a"
             ],
             [
              0.8888888888888888,
              "#fdca26"
             ],
             [
              1,
              "#f0f921"
             ]
            ],
            "type": "surface"
           }
          ],
          "table": [
           {
            "cells": {
             "fill": {
              "color": "#EBF0F8"
             },
             "line": {
              "color": "white"
             }
            },
            "header": {
             "fill": {
              "color": "#C8D4E3"
             },
             "line": {
              "color": "white"
             }
            },
            "type": "table"
           }
          ]
         },
         "layout": {
          "annotationdefaults": {
           "arrowcolor": "#2a3f5f",
           "arrowhead": 0,
           "arrowwidth": 1
          },
          "autotypenumbers": "strict",
          "coloraxis": {
           "colorbar": {
            "outlinewidth": 0,
            "ticks": ""
           }
          },
          "colorscale": {
           "diverging": [
            [
             0,
             "#8e0152"
            ],
            [
             0.1,
             "#c51b7d"
            ],
            [
             0.2,
             "#de77ae"
            ],
            [
             0.3,
             "#f1b6da"
            ],
            [
             0.4,
             "#fde0ef"
            ],
            [
             0.5,
             "#f7f7f7"
            ],
            [
             0.6,
             "#e6f5d0"
            ],
            [
             0.7,
             "#b8e186"
            ],
            [
             0.8,
             "#7fbc41"
            ],
            [
             0.9,
             "#4d9221"
            ],
            [
             1,
             "#276419"
            ]
           ],
           "sequential": [
            [
             0,
             "#0d0887"
            ],
            [
             0.1111111111111111,
             "#46039f"
            ],
            [
             0.2222222222222222,
             "#7201a8"
            ],
            [
             0.3333333333333333,
             "#9c179e"
            ],
            [
             0.4444444444444444,
             "#bd3786"
            ],
            [
             0.5555555555555556,
             "#d8576b"
            ],
            [
             0.6666666666666666,
             "#ed7953"
            ],
            [
             0.7777777777777778,
             "#fb9f3a"
            ],
            [
             0.8888888888888888,
             "#fdca26"
            ],
            [
             1,
             "#f0f921"
            ]
           ],
           "sequentialminus": [
            [
             0,
             "#0d0887"
            ],
            [
             0.1111111111111111,
             "#46039f"
            ],
            [
             0.2222222222222222,
             "#7201a8"
            ],
            [
             0.3333333333333333,
             "#9c179e"
            ],
            [
             0.4444444444444444,
             "#bd3786"
            ],
            [
             0.5555555555555556,
             "#d8576b"
            ],
            [
             0.6666666666666666,
             "#ed7953"
            ],
            [
             0.7777777777777778,
             "#fb9f3a"
            ],
            [
             0.8888888888888888,
             "#fdca26"
            ],
            [
             1,
             "#f0f921"
            ]
           ]
          },
          "colorway": [
           "#636efa",
           "#EF553B",
           "#00cc96",
           "#ab63fa",
           "#FFA15A",
           "#19d3f3",
           "#FF6692",
           "#B6E880",
           "#FF97FF",
           "#FECB52"
          ],
          "font": {
           "color": "#2a3f5f"
          },
          "geo": {
           "bgcolor": "white",
           "lakecolor": "white",
           "landcolor": "#E5ECF6",
           "showlakes": true,
           "showland": true,
           "subunitcolor": "white"
          },
          "hoverlabel": {
           "align": "left"
          },
          "hovermode": "closest",
          "mapbox": {
           "style": "light"
          },
          "paper_bgcolor": "white",
          "plot_bgcolor": "#E5ECF6",
          "polar": {
           "angularaxis": {
            "gridcolor": "white",
            "linecolor": "white",
            "ticks": ""
           },
           "bgcolor": "#E5ECF6",
           "radialaxis": {
            "gridcolor": "white",
            "linecolor": "white",
            "ticks": ""
           }
          },
          "scene": {
           "xaxis": {
            "backgroundcolor": "#E5ECF6",
            "gridcolor": "white",
            "gridwidth": 2,
            "linecolor": "white",
            "showbackground": true,
            "ticks": "",
            "zerolinecolor": "white"
           },
           "yaxis": {
            "backgroundcolor": "#E5ECF6",
            "gridcolor": "white",
            "gridwidth": 2,
            "linecolor": "white",
            "showbackground": true,
            "ticks": "",
            "zerolinecolor": "white"
           },
           "zaxis": {
            "backgroundcolor": "#E5ECF6",
            "gridcolor": "white",
            "gridwidth": 2,
            "linecolor": "white",
            "showbackground": true,
            "ticks": "",
            "zerolinecolor": "white"
           }
          },
          "shapedefaults": {
           "line": {
            "color": "#2a3f5f"
           }
          },
          "ternary": {
           "aaxis": {
            "gridcolor": "white",
            "linecolor": "white",
            "ticks": ""
           },
           "baxis": {
            "gridcolor": "white",
            "linecolor": "white",
            "ticks": ""
           },
           "bgcolor": "#E5ECF6",
           "caxis": {
            "gridcolor": "white",
            "linecolor": "white",
            "ticks": ""
           }
          },
          "title": {
           "x": 0.05
          },
          "xaxis": {
           "automargin": true,
           "gridcolor": "white",
           "linecolor": "white",
           "ticks": "",
           "title": {
            "standoff": 15
           },
           "zerolinecolor": "white",
           "zerolinewidth": 2
          },
          "yaxis": {
           "automargin": true,
           "gridcolor": "white",
           "linecolor": "white",
           "ticks": "",
           "title": {
            "standoff": 15
           },
           "zerolinecolor": "white",
           "zerolinewidth": 2
          }
         }
        },
        "title": {
         "text": "Correlation Matrix of Key Macroeconomic Indicators"
        },
        "xaxis": {
         "nticks": 36
        }
       }
      },
      "image/png": "[encoded data removed]",
      "text/html": [
       "<div>                            <div id=\"794534c1-d2a3-4dbb-9472-aeea7be2567f\" class=\"plotly-graph-div\" style=\"height:600px; width:100%;\"></div>            <script type=\"text/javascript\">                require([\"plotly\"], function(Plotly) {                    window.PLOTLYENV=window.PLOTLYENV || {};                                    if (document.getElementById(\"794534c1-d2a3-4dbb-9472-aeea7be2567f\")) {                    Plotly.newPlot(                        \"794534c1-d2a3-4dbb-9472-aeea7be2567f\",                        [{\"colorscale\":[[0.0,\"rgb(103,0,31)\"],[0.1,\"rgb(178,24,43)\"],[0.2,\"rgb(214,96,77)\"],[0.3,\"rgb(244,165,130)\"],[0.4,\"rgb(253,219,199)\"],[0.5,\"rgb(247,247,247)\"],[0.6,\"rgb(209,229,240)\"],[0.7,\"rgb(146,197,222)\"],[0.8,\"rgb(67,147,195)\"],[0.9,\"rgb(33,102,172)\"],[1.0,\"rgb(5,48,97)\"]],\"hoverinfo\":\"text\",\"text\":[[1.0,0.11,-0.15,-0.05,-0.02,-0.03,0.05,0.05,-0.05,0.04,0.09],[0.11,1.0,-0.36,0.08,0.26,0.3,-0.29,0.42,0.22,0.46,0.64],[-0.15,-0.36,1.0,-0.44,-0.55,-0.52,0.34,-0.14,0.35,-0.07,-0.02],[-0.05,0.08,-0.44,1.0,0.89,0.94,-0.81,0.6,-0.25,0.65,0.43],[-0.02,0.26,-0.55,0.89,1.0,0.96,-0.66,0.56,-0.32,0.59,0.4],[-0.03,0.3,-0.52,0.94,0.96,1.0,-0.84,0.55,-0.22,0.62,0.45],[0.05,-0.29,0.34,-0.81,-0.66,-0.84,1.0,-0.41,-0.01,-0.54,-0.44],[0.05,0.42,-0.14,0.6,0.56,0.55,-0.41,1.0,0.08,0.96,0.9],[-0.05,0.22,0.35,-0.25,-0.32,-0.22,-0.01,0.08,1.0,0.2,0.33],[0.04,0.46,-0.07,0.65,0.59,0.62,-0.54,0.96,0.2,1.0,0.95],[0.09,0.64,-0.02,0.43,0.4,0.45,-0.44,0.9,0.33,0.95,1.0]],\"x\":[\"GDP_Growth_QoQ\",\"CPI_YoY\",\"UNRATE_UNRATE\",\"FEDFUNDS_FEDFUNDS\",\"DGS10_DGS10\",\"DGS2_DGS2\",\"T10Y2Y_T10Y2Y\",\"SP500_SP500\",\"VIXCLS_VIXCLS\",\"GFDEBTN_GFDEBTN\",\"M2SL_M2SL\"],\"y\":[\"GDP_Growth_QoQ\",\"CPI_YoY\",\"UNRATE_UNRATE\",\"FEDFUNDS_FEDFUNDS\",\"DGS10_DGS10\",\"DGS2_DGS2\",\"T10Y2Y_T10Y2Y\",\"SP500_SP500\",\"VIXCLS_VIXCLS\",\"GFDEBTN_GFDEBTN\",\"M2SL_M2SL\"],\"z\":[[1.0,0.10948721413108636,-0.15180713692518844,-0.048262137785029025,-0.023471816813447306,-0.03495804011216942,0.0493048690986617,0.047185732669230346,-0.04738718144265878,0.04028635006218222,0.08509779005915881],[0.10948721413108636,1.0,-0.3640895985694348,0.07923571310536727,0.26377777951409886,0.2964802107960437,-0.2915226142619842,0.4152166647161118,0.21668247448911093,0.4614355528280847,0.6369298980659478],[-0.15180713692518844,-0.3640895985694348,1.0,-0.43545744897904876,-0.5538217094087617,-0.5233263139913595,0.34279210952060024,-0.13764640084890795,0.34643754657362524,-0.06851017029990185,-0.01706781993225704],[-0.048262137785029025,0.07923571310536727,-0.43545744897904876,1.0,0.8921023504317492,0.9374125247257334,-0.8089328658476851,0.6012811695179262,-0.2517680754588131,0.6463672022348956,0.43266286318587427],[-0.023471816813447306,0.26377777951409886,-0.5538217094087617,0.8921023504317492,1.0,0.9613659833694013,-0.6637430837590509,0.5590159925376846,-0.31607349042919847,0.5853625478233027,0.4009236557754266],[-0.03495804011216942,0.2964802107960437,-0.5233263139913595,0.9374125247257334,0.9613659833694013,1.0,-0.8439932312749411,0.5528564077796816,-0.22232174942457125,0.6195634146895362,0.4480832211800309],[0.0493048690986617,-0.2915226142619842,0.34279210952060024,-0.8089328658476851,-0.6637430837590509,-0.8439932312749411,1.0,-0.41316645348915826,-0.011950734721434599,-0.5430730447688173,-0.4364684465785206],[0.047185732669230346,0.4152166647161118,-0.13764640084890795,0.6012811695179262,0.5590159925376846,0.5528564077796816,-0.41316645348915826,1.0,0.08366896416252423,0.955447473374816,0.8963753896881788],[-0.04738718144265878,0.21668247448911093,0.34643754657362524,-0.2517680754588131,-0.31607349042919847,-0.22232174942457125,-0.011950734721434599,0.08366896416252423,1.0,0.20385417006539883,0.32597421041071867],[0.04028635006218222,0.4614355528280847,-0.06851017029990185,0.6463672022348956,0.5853625478233027,0.6195634146895362,-0.5430730447688173,0.955447473374816,0.20385417006539883,1.0,0.9505907688483397],[0.08509779005915881,0.6369298980659478,-0.01706781993225704,0.43266286318587427,0.4009236557754266,0.4480832211800309,-0.4364684465785206,0.8963753896881788,0.32597421041071867,0.9505907688483397,1.0]],\"zmid\":0,\"type\":\"heatmap\"}],                        {\"template\":{\"data\":{\"histogram2dcontour\":[{\"type\":\"histogram2dcontour\",\"colorbar\":{\"outlinewidth\":0,\"ticks\":\"\"},\"colorscale\":[[0.0,\"#0d0887\"],[0.1111111111111111,\"#46039f\"],[0.2222222222222222,\"#7201a8\"],[0.3333333333333333,\"#9c179e\"],[0.4444444444444444,\"#bd3786\"],[0.5555555555555556,\"#d8576b\"],[0.6666666666666666,\"#ed7953\"],[0.7777777777777778,\"#fb9f3a\"],[0.8888888888888888,\"#fdca26\"],[1.0,\"#f0f921\"]]}],\"choropleth\":[{\"type\":\"choropleth\",\"colorbar\":{\"outlinewidth\":0,\"ticks\":\"\"}}],\"histogram2d\":[{\"type\":\"histogram2d\",\"colorbar\":{\"outlinewidth\":0,\"ticks\":\"\"},\"colorscale\":[[0.0,\"#0d0887\"],[0.1111111111111111,\"#46039f\"],[0.2222222222222222,\"#7201a8\"],[0.3333333333333333,\"#9c179e\"],[0.4444444444444444,\"#bd3786\"],[0.5555555555555556,\"#d8576b\"],[0.6666666666666666,\"#ed7953\"],[0.7777777777777778,\"#fb9f3a\"],[0.8888888888888888,\"#fdca26\"],[1.0,\"#f0f921\"]]}],\"heatmap\":[{\"type\":\"heatmap\",\"colorbar\":{\"outlinewidth\":0,\"ticks\":\"\"},\"colorscale\":[[0.0,\"#0d0887\"],[0.1111111111111111,\"#46039f\"],[0.2222222222222222,\"#7201a8\"],[0.3333333333333333,\"#9c179e\"],[0.4444444444444444,\"#bd3786\"],[0.5555555555555556,\"#d8576b\"],[0.6666666666666666,\"#ed7953\"],[0.7777777777777778,\"#fb9f3a\"],[0.8888888888888888,\"#fdca26\"],[1.0,\"#f0f921\"]]}],\"heatmapgl\":[{\"type\":\"heatmapgl\",\"colorbar\":{\"outlinewidth\":0,\"ticks\":\"\"},\"colorscale\":[[0.0,\"#0d0887\"],[0.1111111111111111,\"#46039f\"],[0.2222222222222222,\"#7201a8\"],[0.3333333333333333,\"#9c179e\"],[0.4444444444444444,\"#bd3786\"],[0.5555555555555556,\"#d8576b\"],[0.6666666666666666,\"#ed7953\"],[0.7777777777777778,\"#fb9f3a\"],[0.8888888888888888,\"#fdca26\"],[1.0,\"#f0f921\"]]}],\"contourcarpet\":[{\"type\":\"contourcarpet\",\"colorbar\":{\"outlinewidth\":0,\"ticks\":\"\"}}],\"contour\":[{\"type\":\"contour\",\"colorbar\":{\"outlinewidth\":0,\"ticks\":\"\"},\"colorscale\":[[0.0,\"#0d0887\"],[0.1111111111111111,\"#46039f\"],[0.2222222222222222,\"#7201a8\"],[0.3333333333333333,\"#9c179e\"],[0.4444444444444444,\"#bd3786\"],[0.5555555555555556,\"#d8576b\"],[0.6666666666666666,\"#ed7953\"],[0.7777777777777778,\"#fb9f3a\"],[0.8888888888888888,\"#fdca26\"],[1.0,\"#f0f921\"]]}],\"surface\":[{\"type\":\"surface\",\"colorbar\":{\"outlinewidth\":0,\"ticks\":\"\"},\"colorscale\":[[0.0,\"#0d0887\"],[0.1111111111111111,\"#46039f\"],[0.2222222222222222,\"#7201a8\"],[0.3333333333333333,\"#9c179e\"],[0.4444444444444444,\"#bd3786\"],[0.5555555555555556,\"#d8576b\"],[0.6666666666666666,\"#ed7953\"],[0.7777777777777778,\"#fb9f3a\"],[0.8888888888888888,\"#fdca26\"],[1.0,\"#f0f921\"]]}],\"mesh3d\":[{\"type\":\"mesh3d\",\"colorbar\":{\"outlinewidth\":0,\"ticks\":\"\"}}],\"scatter\":[{\"fillpattern\":{\"fillmode\":\"overlay\",\"size\":10,\"solidity\":0.2},\"type\":\"scatter\"}],\"parcoords\":[{\"type\":\"parcoords\",\"line\":{\"colorbar\":{\"outlinewidth\":0,\"ticks\":\"\"}}}],\"scatterpolargl\":[{\"type\":\"scatterpolargl\",\"marker\":{\"colorbar\":{\"outlinewidth\":0,\"ticks\":\"\"}}}],\"bar\":[{\"error_x\":{\"color\":\"#2a3f5f\"},\"error_y\":{\"color\":\"#2a3f5f\"},\"marker\":{\"line\":{\"color\":\"#E5ECF6\",\"width\":0.5},\"pattern\":{\"fillmode\":\"overlay\",\"size\":10,\"solidity\":0.2}},\"type\":\"bar\"}],\"scattergeo\":[{\"type\":\"scattergeo\",\"marker\":{\"colorbar\":{\"outlinewidth\":0,\"ticks\":\"\"}}}],\"scatterpolar\":[{\"type\":\"scatterpolar\",\"marker\":{\"colorbar\":{\"outlinewidth\":0,\"ticks\":\"\"}}}],\"histogram\":[{\"marker\":{\"pattern\":{\"fillmode\":\"overlay\",\"size\":10,\"solidity\":0.2}},\"type\":\"histogram\"}],\"scattergl\":[{\"type\":\"scattergl\",\"marker\":{\"colorbar\":{\"outlinewidth\":0,\"ticks\":\"\"}}}],\"scatter3d\":[{\"type\":\"scatter3d\",\"line\":{\"colorbar\":{\"outlinewidth\":0,\"ticks\":\"\"}},\"marker\":{\"colorbar\":{\"outlinewidth\":0,\"ticks\":\"\"}}}],\"scattermapbox\":[{\"type\":\"scattermapbox\",\"marker\":{\"colorbar\":{\"outlinewidth\":0,\"ticks\":\"\"}}}],\"scatterternary\":[{\"type\":\"scatterternary\",\"marker\":{\"colorbar\":{\"outlinewidth\":0,\"ticks\":\"\"}}}],\"scattercarpet\":[{\"type\":\"scattercarpet\",\"marker\":{\"colorbar\":{\"outlinewidth\":0,\"ticks\":\"\"}}}],\"carpet\":[{\"aaxis\":{\"endlinecolor\":\"#2a3f5f\",\"gridcolor\":\"white\",\"linecolor\":\"white\",\"minorgridcolor\":\"white\",\"startlinecolor\":\"#2a3f5f\"},\"baxis\":{\"endlinecolor\":\"#2a3f5f\",\"gridcolor\":\"white\",\"linecolor\":\"white\",\"minorgridcolor\":\"white\",\"startlinecolor\":\"#2a3f5f\"},\"type\":\"carpet\"}],\"table\":[{\"cells\":{\"fill\":{\"color\":\"#EBF0F8\"},\"line\":{\"color\":\"white\"}},\"header\":{\"fill\":{\"color\":\"#C8D4E3\"},\"line\":{\"color\":\"white\"}},\"type\":\"table\"}],\"barpolar\":[{\"marker\":{\"line\":{\"color\":\"#E5ECF6\",\"width\":0.5},\"pattern\":{\"fillmode\":\"overlay\",\"size\":10,\"solidity\":0.2}},\"type\":\"barpolar\"}],\"pie\":[{\"automargin\":true,\"type\":\"pie\"}]},\"layout\":{\"autotypenumbers\":\"strict\",\"colorway\":[\"#636efa\",\"#EF553B\",\"#00cc96\",\"#ab63fa\",\"#FFA15A\",\"#19d3f3\",\"#FF6692\",\"#B6E880\",\"#FF97FF\",\"#FECB52\"],\"font\":{\"color\":\"#2a3f5f\"},\"hovermode\":\"closest\",\"hoverlabel\":{\"align\":\"left\"},\"paper_bgcolor\":\"white\",\"plot_bgcolor\":\"#E5ECF6\",\"polar\":{\"bgcolor\":\"#E5ECF6\",\"angularaxis\":{\"gridcolor\":\"white\",\"linecolor\":\"white\",\"ticks\":\"\"},\"radialaxis\":{\"gridcolor\":\"white\",\"linecolor\":\"white\",\"ticks\":\"\"}},\"ternary\":{\"bgcolor\":\"#E5ECF6\",\"aaxis\":{\"gridcolor\":\"white\",\"linecolor\":\"white\",\"ticks\":\"\"},\"baxis\":{\"gridcolor\":\"white\",\"linecolor\":\"white\",\"ticks\":\"\"},\"caxis\":{\"gridcolor\":\"white\",\"linecolor\":\"white\",\"ticks\":\"\"}},\"coloraxis\":{\"colorbar\":{\"outlinewidth\":0,\"ticks\":\"\"}},\"colorscale\":{\"sequential\":[[0.0,\"#0d0887\"],[0.1111111111111111,\"#46039f\"],[0.2222222222222222,\"#7201a8\"],[0.3333333333333333,\"#9c179e\"],[0.4444444444444444,\"#bd3786\"],[0.5555555555555556,\"#d8576b\"],[0.6666666666666666,\"#ed7953\"],[0.7777777777777778,\"#fb9f3a\"],[0.8888888888888888,\"#fdca26\"],[1.0,\"#f0f921\"]],\"sequentialminus\":[[0.0,\"#0d0887\"],[0.1111111111111111,\"#46039f\"],[0.2222222222222222,\"#7201a8\"],[0.3333333333333333,\"#9c179e\"],[0.4444444444444444,\"#bd3786\"],[0.5555555555555556,\"#d8576b\"],[0.6666666666666666,\"#ed7953\"],[0.7777777777777778,\"#fb9f3a\"],[0.8888888888888888,\"#fdca26\"],[1.0,\"#f0f921\"]],\"diverging\":[[0,\"#8e0152\"],[0.1,\"#c51b7d\"],[0.2,\"#de77ae\"],[0.3,\"#f1b6da\"],[0.4,\"#fde0ef\"],[0.5,\"#f7f7f7\"],[0.6,\"#e6f5d0\"],[0.7,\"#b8e186\"],[0.8,\"#7fbc41\"],[0.9,\"#4d9221\"],[1,\"#276419\"]]},\"xaxis\":{\"gridcolor\":\"white\",\"linecolor\":\"white\",\"ticks\":\"\",\"title\":{\"standoff\":15},\"zerolinecolor\":\"white\",\"automargin\":true,\"zerolinewidth\":2},\"yaxis\":{\"gridcolor\":\"white\",\"linecolor\":\"white\",\"ticks\":\"\",\"title\":{\"standoff\":15},\"zerolinecolor\":\"white\",\"automargin\":true,\"zerolinewidth\":2},\"scene\":{\"xaxis\":{\"backgroundcolor\":\"#E5ECF6\",\"gridcolor\":\"white\",\"linecolor\":\"white\",\"showbackground\":true,\"ticks\":\"\",\"zerolinecolor\":\"white\",\"gridwidth\":2},\"yaxis\":{\"backgroundcolor\":\"#E5ECF6\",\"gridcolor\":\"white\",\"linecolor\":\"white\",\"showbackground\":true,\"ticks\":\"\",\"zerolinecolor\":\"white\",\"gridwidth\":2},\"zaxis\":{\"backgroundcolor\":\"#E5ECF6\",\"gridcolor\":\"white\",\"linecolor\":\"white\",\"showbackground\":true,\"ticks\":\"\",\"zerolinecolor\":\"white\",\"gridwidth\":2}},\"shapedefaults\":{\"line\":{\"color\":\"#2a3f5f\"}},\"annotationdefaults\":{\"arrowcolor\":\"#2a3f5f\",\"arrowhead\":0,\"arrowwidth\":1},\"geo\":{\"bgcolor\":\"white\",\"landcolor\":\"#E5ECF6\",\"subunitcolor\":\"white\",\"showland\":true,\"showlakes\":true,\"lakecolor\":\"white\"},\"title\":{\"x\":0.05},\"mapbox\":{\"style\":\"light\"}}},\"xaxis\":{\"nticks\":36},\"title\":{\"text\":\"Correlation Matrix of Key Macroeconomic Indicators\"},\"height\":600},                        {\"responsive\": true}                    ).then(function(){\n",
       "                            \n",
       "var gd = document.getElementById('794534c1-d2a3-4dbb-9472-aeea7be2567f');\n",
       "var x = new MutationObserver(function (mutations, observer) {{\n",
       "        var display = window.getComputedStyle(gd).display;\n",
       "        if (!display || display === 'none') {{\n",
       "            console.log([gd, 'removed!']);\n",
       "            Plotly.purge(gd);\n",
       "            observer.disconnect();\n",
       "        }}\n",
       "}});\n",
       "\n",
       "// Listen for the removal of the full notebook cells\n",
       "var notebookContainer = gd.closest('#notebook-container');\n",
       "if (notebookContainer) {{\n",
       "    x.observe(notebookContainer, {childList: true});\n",
       "}}\n",
       "\n",
       "// Listen for the clearing of the current output cell\n",
       "var outputEl = gd.closest('.output');\n",
       "if (outputEl) {{\n",
       "    x.observe(outputEl, {childList: true});\n",
       "}}\n",
       "\n",
       "                        })                };                });            </script>        </div>"
      ]
     },
     "metadata": {},
     "output_type": "display_data"
    },
    {
     "data": {
      "application/vnd.plotly.v1+json": {
       "config": {
        "plotlyServerURL": "https://plot.ly"
       },
       "data": [
        {
         "line": {
          "color": "purple"
         },
         "mode": "lines+markers",
         "name": "10Y-2Y Yield Spread",
         "type": "scatter",
         "x": [
          "2015-04-30T00:00:00",
          "2015-05-31T00:00:00",
          "2015-06-30T00:00:00",
          "2015-07-31T00:00:00",
          "2015-08-31T00:00:00",
          "2015-09-30T00:00:00",
          "2015-10-31T00:00:00",
          "2015-11-30T00:00:00",
          "2015-12-31T00:00:00",
          "2016-01-31T00:00:00",
          "2016-02-29T00:00:00",
          "2016-03-31T00:00:00",
          "2016-04-30T00:00:00",
          "2016-05-31T00:00:00",
          "2016-06-30T00:00:00",
          "2016-07-31T00:00:00",
          "2016-08-31T00:00:00",
          "2016-09-30T00:00:00",
          "2016-10-31T00:00:00",
          "2016-11-30T00:00:00",
          "2016-12-31T00:00:00",
          "2017-01-31T00:00:00",
          "2017-02-28T00:00:00",
          "2017-03-31T00:00:00",
          "2017-04-30T00:00:00",
          "2017-05-31T00:00:00",
          "2017-06-30T00:00:00",
          "2017-07-31T00:00:00",
          "2017-08-31T00:00:00",
          "2017-09-30T00:00:00",
          "2017-10-31T00:00:00",
          "2017-11-30T00:00:00",
          "2017-12-31T00:00:00",
          "2018-01-31T00:00:00",
          "2018-02-28T00:00:00",
          "2018-03-31T00:00:00",
          "2018-04-30T00:00:00",
          "2018-05-31T00:00:00",
          "2018-06-30T00:00:00",
          "2018-07-31T00:00:00",
          "2018-08-31T00:00:00",
          "2018-09-30T00:00:00",
          "2018-10-31T00:00:00",
          "2018-11-30T00:00:00",
          "2018-12-31T00:00:00",
          "2019-01-31T00:00:00",
          "2019-02-28T00:00:00",
          "2019-03-31T00:00:00",
          "2019-04-30T00:00:00",
          "2019-05-31T00:00:00",
          "2019-06-30T00:00:00",
          "2019-07-31T00:00:00",
          "2019-08-31T00:00:00",
          "2019-09-30T00:00:00",
          "2019-10-31T00:00:00",
          "2019-11-30T00:00:00",
          "2019-12-31T00:00:00",
          "2020-01-31T00:00:00",
          "2020-02-29T00:00:00",
          "2020-03-31T00:00:00",
          "2020-04-30T00:00:00",
          "2020-05-31T00:00:00",
          "2020-06-30T00:00:00",
          "2020-07-31T00:00:00",
          "2020-08-31T00:00:00",
          "2020-09-30T00:00:00",
          "2020-10-31T00:00:00",
          "2020-11-30T00:00:00",
          "2020-12-31T00:00:00",
          "2021-01-31T00:00:00",
          "2021-02-28T00:00:00",
          "2021-03-31T00:00:00",
          "2021-04-30T00:00:00",
          "2021-05-31T00:00:00",
          "2021-06-30T00:00:00",
          "2021-07-31T00:00:00",
          "2021-08-31T00:00:00",
          "2021-09-30T00:00:00",
          "2021-10-31T00:00:00",
          "2021-11-30T00:00:00",
          "2021-12-31T00:00:00",
          "2022-01-31T00:00:00",
          "2022-02-28T00:00:00",
          "2022-03-31T00:00:00",
          "2022-04-30T00:00:00",
          "2022-05-31T00:00:00",
          "2022-06-30T00:00:00",
          "2022-07-31T00:00:00",
          "2022-08-31T00:00:00",
          "2022-09-30T00:00:00",
          "2022-10-31T00:00:00",
          "2022-11-30T00:00:00",
          "2022-12-31T00:00:00",
          "2023-01-31T00:00:00",
          "2023-02-28T00:00:00",
          "2023-03-31T00:00:00",
          "2023-04-30T00:00:00",
          "2023-05-31T00:00:00",
          "2023-06-30T00:00:00",
          "2023-07-31T00:00:00",
          "2023-08-31T00:00:00",
          "2023-09-30T00:00:00",
          "2023-10-31T00:00:00",
          "2023-11-30T00:00:00",
          "2023-12-31T00:00:00",
          "2024-01-31T00:00:00",
          "2024-02-29T00:00:00",
          "2024-03-31T00:00:00",
          "2024-04-30T00:00:00",
          "2024-05-31T00:00:00",
          "2024-06-30T00:00:00",
          "2024-07-31T00:00:00",
          "2024-08-31T00:00:00",
          "2024-09-30T00:00:00",
          "2024-10-31T00:00:00",
          "2024-11-30T00:00:00",
          "2024-12-31T00:00:00",
          "2025-01-31T00:00:00",
          "2025-02-28T00:00:00",
          "2025-03-31T00:00:00",
          "2025-04-30T00:00:00"
         ],
         "xaxis": "x",
         "y": [
          1.47,
          1.51,
          1.71,
          1.53,
          1.47,
          1.42,
          1.41,
          1.27,
          1.21,
          1.18,
          0.96,
          1.05,
          1.06,
          0.97,
          0.91,
          0.79,
          0.78,
          0.83,
          0.98,
          1.26,
          1.25,
          1.26,
          1.14,
          1.13,
          1.01,
          0.93,
          0.93,
          0.96,
          0.79,
          0.86,
          0.78,
          0.64,
          0.51,
          0.58,
          0.62,
          0.47,
          0.46,
          0.43,
          0.33,
          0.29,
          0.24,
          0.24,
          0.28,
          0.21,
          0.21,
          0.18,
          0.21,
          0.14,
          0.24,
          0.19,
          0.25,
          0.13,
          0,
          0.05,
          0.17,
          0.17,
          0.34,
          0.18,
          0.27,
          0.47,
          0.44,
          0.49,
          0.5,
          0.44,
          0.58,
          0.56,
          0.74,
          0.68,
          0.8,
          1,
          1.3,
          1.58,
          1.49,
          1.44,
          1.2,
          1.05,
          1.1,
          1.24,
          1.07,
          0.91,
          0.79,
          0.61,
          0.39,
          0.04,
          0.19,
          0.32,
          0.06,
          -0.22,
          -0.3,
          -0.39,
          -0.41,
          -0.7,
          -0.53,
          -0.69,
          -0.89,
          -0.58,
          -0.6,
          -0.76,
          -1.06,
          -0.91,
          -0.76,
          -0.44,
          -0.19,
          -0.36,
          -0.35,
          -0.28,
          -0.39,
          -0.39,
          -0.35,
          -0.38,
          -0.35,
          -0.2,
          0,
          0.15,
          0.12,
          0.05,
          0.33,
          0.36,
          0.25,
          0.34,
          0.29
         ],
         "yaxis": "y"
        },
        {
         "line": {
          "color": "red",
          "dash": "dash"
         },
         "mode": "lines",
         "name": "Inversion Threshold",
         "type": "scatter",
         "x": [
          "2015-04-30T00:00:00",
          "2025-04-30T00:00:00"
         ],
         "xaxis": "x",
         "y": [
          0,
          0
         ],
         "yaxis": "y"
        },
        {
         "line": {
          "color": "blue"
         },
         "mode": "lines+markers",
         "name": "Consumer Sentiment",
         "type": "scatter",
         "x": [
          "2015-04-30T00:00:00",
          "2015-05-31T00:00:00",
          "2015-06-30T00:00:00",
          "2015-07-31T00:00:00",
          "2015-08-31T00:00:00",
          "2015-09-30T00:00:00",
          "2015-10-31T00:00:00",
          "2015-11-30T00:00:00",
          "2015-12-31T00:00:00",
          "2016-01-31T00:00:00",
          "2016-02-29T00:00:00",
          "2016-03-31T00:00:00",
          "2016-04-30T00:00:00",
          "2016-05-31T00:00:00",
          "2016-06-30T00:00:00",
          "2016-07-31T00:00:00",
          "2016-08-31T00:00:00",
          "2016-09-30T00:00:00",
          "2016-10-31T00:00:00",
          "2016-11-30T00:00:00",
          "2016-12-31T00:00:00",
          "2017-01-31T00:00:00",
          "2017-02-28T00:00:00",
          "2017-03-31T00:00:00",
          "2017-04-30T00:00:00",
          "2017-05-31T00:00:00",
          "2017-06-30T00:00:00",
          "2017-07-31T00:00:00",
          "2017-08-31T00:00:00",
          "2017-09-30T00:00:00",
          "2017-10-31T00:00:00",
          "2017-11-30T00:00:00",
          "2017-12-31T00:00:00",
          "2018-01-31T00:00:00",
          "2018-02-28T00:00:00",
          "2018-03-31T00:00:00",
          "2018-04-30T00:00:00",
          "2018-05-31T00:00:00",
          "2018-06-30T00:00:00",
          "2018-07-31T00:00:00",
          "2018-08-31T00:00:00",
          "2018-09-30T00:00:00",
          "2018-10-31T00:00:00",
          "2018-11-30T00:00:00",
          "2018-12-31T00:00:00",
          "2019-01-31T00:00:00",
          "2019-02-28T00:00:00",
          "2019-03-31T00:00:00",
          "2019-04-30T00:00:00",
          "2019-05-31T00:00:00",
          "2019-06-30T00:00:00",
          "2019-07-31T00:00:00",
          "2019-08-31T00:00:00",
          "2019-09-30T00:00:00",
          "2019-10-31T00:00:00",
          "2019-11-30T00:00:00",
          "2019-12-31T00:00:00",
          "2020-01-31T00:00:00",
          "2020-02-29T00:00:00",
          "2020-03-31T00:00:00",
          "2020-04-30T00:00:00",
          "2020-05-31T00:00:00",
          "2020-06-30T00:00:00",
          "2020-07-31T00:00:00",
          "2020-08-31T00:00:00",
          "2020-09-30T00:00:00",
          "2020-10-31T00:00:00",
          "2020-11-30T00:00:00",
          "2020-12-31T00:00:00",
          "2021-01-31T00:00:00",
          "2021-02-28T00:00:00",
          "2021-03-31T00:00:00",
          "2021-04-30T00:00:00",
          "2021-05-31T00:00:00",
          "2021-06-30T00:00:00",
          "2021-07-31T00:00:00",
          "2021-08-31T00:00:00",
          "2021-09-30T00:00:00",
          "2021-10-31T00:00:00",
          "2021-11-30T00:00:00",
          "2021-12-31T00:00:00",
          "2022-01-31T00:00:00",
          "2022-02-28T00:00:00",
          "2022-03-31T00:00:00",
          "2022-04-30T00:00:00",
          "2022-05-31T00:00:00",
          "2022-06-30T00:00:00",
          "2022-07-31T00:00:00",
          "2022-08-31T00:00:00",
          "2022-09-30T00:00:00",
          "2022-10-31T00:00:00",
          "2022-11-30T00:00:00",
          "2022-12-31T00:00:00",
          "2023-01-31T00:00:00",
          "2023-02-28T00:00:00",
          "2023-03-31T00:00:00",
          "2023-04-30T00:00:00",
          "2023-05-31T00:00:00",
          "2023-06-30T00:00:00",
          "2023-07-31T00:00:00",
          "2023-08-31T00:00:00",
          "2023-09-30T00:00:00",
          "2023-10-31T00:00:00",
          "2023-11-30T00:00:00",
          "2023-12-31T00:00:00",
          "2024-01-31T00:00:00",
          "2024-02-29T00:00:00",
          "2024-03-31T00:00:00",
          "2024-04-30T00:00:00",
          "2024-05-31T00:00:00",
          "2024-06-30T00:00:00",
          "2024-07-31T00:00:00",
          "2024-08-31T00:00:00",
          "2024-09-30T00:00:00",
          "2024-10-31T00:00:00",
          "2024-11-30T00:00:00",
          "2024-12-31T00:00:00",
          "2025-01-31T00:00:00",
          "2025-02-28T00:00:00",
          "2025-03-31T00:00:00",
          "2025-04-30T00:00:00"
         ],
         "xaxis": "x2",
         "y": [
          95.9,
          90.7,
          96.1,
          93.1,
          91.9,
          87.2,
          90,
          91.3,
          92.6,
          92,
          91.7,
          91,
          89,
          94.7,
          93.5,
          90,
          89.8,
          91.2,
          87.2,
          93.8,
          98.2,
          98.5,
          96.3,
          96.9,
          97,
          97.1,
          95,
          93.4,
          96.8,
          95.1,
          100.7,
          98.5,
          95.9,
          95.7,
          99.7,
          101.4,
          98.8,
          98,
          98.2,
          97.9,
          96.2,
          100.1,
          98.6,
          97.5,
          98.3,
          91.2,
          93.8,
          98.4,
          97.2,
          100,
          98.2,
          98.4,
          89.8,
          93.2,
          95.5,
          96.8,
          99.3,
          99.8,
          101,
          89.1,
          71.8,
          72.3,
          78.1,
          72.5,
          74.1,
          80.4,
          81.8,
          76.9,
          80.7,
          79,
          76.8,
          84.9,
          88.3,
          82.9,
          85.5,
          81.2,
          70.3,
          72.8,
          71.7,
          67.4,
          70.6,
          67.2,
          62.8,
          59.4,
          65.2,
          58.4,
          50,
          51.5,
          58.2,
          58.6,
          59.9,
          56.7,
          59.8,
          64.9,
          66.9,
          62,
          63.7,
          59,
          64.2,
          71.5,
          69.4,
          67.8,
          63.8,
          61.3,
          69.7,
          79,
          76.9,
          79.4,
          77.2,
          69.1,
          68.2,
          66.4,
          67.9,
          70.1,
          70.5,
          71.8,
          74,
          71.7,
          64.7,
          64.7,
          64.7
         ],
         "yaxis": "y2"
        }
       ],
       "layout": {
        "annotations": [
         {
          "font": {
           "size": 16
          },
          "showarrow": false,
          "text": "Yield Curve Spread (10Y-2Y)",
          "x": 0.5,
          "xanchor": "center",
          "xref": "paper",
          "y": 1,
          "yanchor": "bottom",
          "yref": "paper"
         },
         {
          "font": {
           "size": 16
          },
          "showarrow": false,
          "text": "Consumer Sentiment Index",
          "x": 0.5,
          "xanchor": "center",
          "xref": "paper",
          "y": 0.6111111111111112,
          "yanchor": "bottom",
          "yref": "paper"
         }
        ],
        "height": 900,
        "template": {
         "data": {
          "bar": [
           {
            "error_x": {
             "color": "#2a3f5f"
            },
            "error_y": {
             "color": "#2a3f5f"
            },
            "marker": {
             "line": {
              "color": "#E5ECF6",
              "width": 0.5
             },
             "pattern": {
              "fillmode": "overlay",
              "size": 10,
              "solidity": 0.2
             }
            },
            "type": "bar"
           }
          ],
          "barpolar": [
           {
            "marker": {
             "line": {
              "color": "#E5ECF6",
              "width": 0.5
             },
             "pattern": {
              "fillmode": "overlay",
              "size": 10,
              "solidity": 0.2
             }
            },
            "type": "barpolar"
           }
          ],
          "carpet": [
           {
            "aaxis": {
             "endlinecolor": "#2a3f5f",
             "gridcolor": "white",
             "linecolor": "white",
             "minorgridcolor": "white",
             "startlinecolor": "#2a3f5f"
            },
            "baxis": {
             "endlinecolor": "#2a3f5f",
             "gridcolor": "white",
             "linecolor": "white",
             "minorgridcolor": "white",
             "startlinecolor": "#2a3f5f"
            },
            "type": "carpet"
           }
          ],
          "choropleth": [
           {
            "colorbar": {
             "outlinewidth": 0,
             "ticks": ""
            },
            "type": "choropleth"
           }
          ],
          "contour": [
           {
            "colorbar": {
             "outlinewidth": 0,
             "ticks": ""
            },
            "colorscale": [
             [
              0,
              "#0d0887"
             ],
             [
              0.1111111111111111,
              "#46039f"
             ],
             [
              0.2222222222222222,
              "#7201a8"
             ],
             [
              0.3333333333333333,
              "#9c179e"
             ],
             [
              0.4444444444444444,
              "#bd3786"
             ],
             [
              0.5555555555555556,
              "#d8576b"
             ],
             [
              0.6666666666666666,
              "#ed7953"
             ],
             [
              0.7777777777777778,
              "#fb9f3a"
             ],
             [
              0.8888888888888888,
              "#fdca26"
             ],
             [
              1,
              "#f0f921"
             ]
            ],
            "type": "contour"
           }
          ],
          "contourcarpet": [
           {
            "colorbar": {
             "outlinewidth": 0,
             "ticks": ""
            },
            "type": "contourcarpet"
           }
          ],
          "heatmap": [
           {
            "colorbar": {
             "outlinewidth": 0,
             "ticks": ""
            },
            "colorscale": [
             [
              0,
              "#0d0887"
             ],
             [
              0.1111111111111111,
              "#46039f"
             ],
             [
              0.2222222222222222,
              "#7201a8"
             ],
             [
              0.3333333333333333,
              "#9c179e"
             ],
             [
              0.4444444444444444,
              "#bd3786"
             ],
             [
              0.5555555555555556,
              "#d8576b"
             ],
             [
              0.6666666666666666,
              "#ed7953"
             ],
             [
              0.7777777777777778,
              "#fb9f3a"
             ],
             [
              0.8888888888888888,
              "#fdca26"
             ],
             [
              1,
              "#f0f921"
             ]
            ],
            "type": "heatmap"
           }
          ],
          "heatmapgl": [
           {
            "colorbar": {
             "outlinewidth": 0,
             "ticks": ""
            },
            "colorscale": [
             [
              0,
              "#0d0887"
             ],
             [
              0.1111111111111111,
              "#46039f"
             ],
             [
              0.2222222222222222,
              "#7201a8"
             ],
             [
              0.3333333333333333,
              "#9c179e"
             ],
             [
              0.4444444444444444,
              "#bd3786"
             ],
             [
              0.5555555555555556,
              "#d8576b"
             ],
             [
              0.6666666666666666,
              "#ed7953"
             ],
             [
              0.7777777777777778,
              "#fb9f3a"
             ],
             [
              0.8888888888888888,
              "#fdca26"
             ],
             [
              1,
              "#f0f921"
             ]
            ],
            "type": "heatmapgl"
           }
          ],
          "histogram": [
           {
            "marker": {
             "pattern": {
              "fillmode": "overlay",
              "size": 10,
              "solidity": 0.2
             }
            },
            "type": "histogram"
           }
          ],
          "histogram2d": [
           {
            "colorbar": {
             "outlinewidth": 0,
             "ticks": ""
            },
            "colorscale": [
             [
              0,
              "#0d0887"
             ],
             [
              0.1111111111111111,
              "#46039f"
             ],
             [
              0.2222222222222222,
              "#7201a8"
             ],
             [
              0.3333333333333333,
              "#9c179e"
             ],
             [
              0.4444444444444444,
              "#bd3786"
             ],
             [
              0.5555555555555556,
              "#d8576b"
             ],
             [
              0.6666666666666666,
              "#ed7953"
             ],
             [
              0.7777777777777778,
              "#fb9f3a"
             ],
             [
              0.8888888888888888,
              "#fdca26"
             ],
             [
              1,
              "#f0f921"
             ]
            ],
            "type": "histogram2d"
           }
          ],
          "histogram2dcontour": [
           {
            "colorbar": {
             "outlinewidth": 0,
             "ticks": ""
            },
            "colorscale": [
             [
              0,
              "#0d0887"
             ],
             [
              0.1111111111111111,
              "#46039f"
             ],
             [
              0.2222222222222222,
              "#7201a8"
             ],
             [
              0.3333333333333333,
              "#9c179e"
             ],
             [
              0.4444444444444444,
              "#bd3786"
             ],
             [
              0.5555555555555556,
              "#d8576b"
             ],
             [
              0.6666666666666666,
              "#ed7953"
             ],
             [
              0.7777777777777778,
              "#fb9f3a"
             ],
             [
              0.8888888888888888,
              "#fdca26"
             ],
             [
              1,
              "#f0f921"
             ]
            ],
            "type": "histogram2dcontour"
           }
          ],
          "mesh3d": [
           {
            "colorbar": {
             "outlinewidth": 0,
             "ticks": ""
            },
            "type": "mesh3d"
           }
          ],
          "parcoords": [
           {
            "line": {
             "colorbar": {
              "outlinewidth": 0,
              "ticks": ""
             }
            },
            "type": "parcoords"
           }
          ],
          "pie": [
           {
            "automargin": true,
            "type": "pie"
           }
          ],
          "scatter": [
           {
            "fillpattern": {
             "fillmode": "overlay",
             "size": 10,
             "solidity": 0.2
            },
            "type": "scatter"
           }
          ],
          "scatter3d": [
           {
            "line": {
             "colorbar": {
              "outlinewidth": 0,
              "ticks": ""
             }
            },
            "marker": {
             "colorbar": {
              "outlinewidth": 0,
              "ticks": ""
             }
            },
            "type": "scatter3d"
           }
          ],
          "scattercarpet": [
           {
            "marker": {
             "colorbar": {
              "outlinewidth": 0,
              "ticks": ""
             }
            },
            "type": "scattercarpet"
           }
          ],
          "scattergeo": [
           {
            "marker": {
             "colorbar": {
              "outlinewidth": 0,
              "ticks": ""
             }
            },
            "type": "scattergeo"
           }
          ],
          "scattergl": [
           {
            "marker": {
             "colorbar": {
              "outlinewidth": 0,
              "ticks": ""
             }
            },
            "type": "scattergl"
           }
          ],
          "scattermapbox": [
           {
            "marker": {
             "colorbar": {
              "outlinewidth": 0,
              "ticks": ""
             }
            },
            "type": "scattermapbox"
           }
          ],
          "scatterpolar": [
           {
            "marker": {
             "colorbar": {
              "outlinewidth": 0,
              "ticks": ""
             }
            },
            "type": "scatterpolar"
           }
          ],
          "scatterpolargl": [
           {
            "marker": {
             "colorbar": {
              "outlinewidth": 0,
              "ticks": ""
             }
            },
            "type": "scatterpolargl"
           }
          ],
          "scatterternary": [
           {
            "marker": {
             "colorbar": {
              "outlinewidth": 0,
              "ticks": ""
             }
            },
            "type": "scatterternary"
           }
          ],
          "surface": [
           {
            "colorbar": {
             "outlinewidth": 0,
             "ticks": ""
            },
            "colorscale": [
             [
              0,
              "#0d0887"
             ],
             [
              0.1111111111111111,
              "#46039f"
             ],
             [
              0.2222222222222222,
              "#7201a8"
             ],
             [
              0.3333333333333333,
              "#9c179e"
             ],
             [
              0.4444444444444444,
              "#bd3786"
             ],
             [
              0.5555555555555556,
              "#d8576b"
             ],
             [
              0.6666666666666666,
              "#ed7953"
             ],
             [
              0.7777777777777778,
              "#fb9f3a"
             ],
             [
              0.8888888888888888,
              "#fdca26"
             ],
             [
              1,
              "#f0f921"
             ]
            ],
            "type": "surface"
           }
          ],
          "table": [
           {
            "cells": {
             "fill": {
              "color": "#EBF0F8"
             },
             "line": {
              "color": "white"
             }
            },
            "header": {
             "fill": {
              "color": "#C8D4E3"
             },
             "line": {
              "color": "white"
             }
            },
            "type": "table"
           }
          ]
         },
         "layout": {
          "annotationdefaults": {
           "arrowcolor": "#2a3f5f",
           "arrowhead": 0,
           "arrowwidth": 1
          },
          "autotypenumbers": "strict",
          "coloraxis": {
           "colorbar": {
            "outlinewidth": 0,
            "ticks": ""
           }
          },
          "colorscale": {
           "diverging": [
            [
             0,
             "#8e0152"
            ],
            [
             0.1,
             "#c51b7d"
            ],
            [
             0.2,
             "#de77ae"
            ],
            [
             0.3,
             "#f1b6da"
            ],
            [
             0.4,
             "#fde0ef"
            ],
            [
             0.5,
             "#f7f7f7"
            ],
            [
             0.6,
             "#e6f5d0"
            ],
            [
             0.7,
             "#b8e186"
            ],
            [
             0.8,
             "#7fbc41"
            ],
            [
             0.9,
             "#4d9221"
            ],
            [
             1,
             "#276419"
            ]
           ],
           "sequential": [
            [
             0,
             "#0d0887"
            ],
            [
             0.1111111111111111,
             "#46039f"
            ],
            [
             0.2222222222222222,
             "#7201a8"
            ],
            [
             0.3333333333333333,
             "#9c179e"
            ],
            [
             0.4444444444444444,
             "#bd3786"
            ],
            [
             0.5555555555555556,
             "#d8576b"
            ],
            [
             0.6666666666666666,
             "#ed7953"
            ],
            [
             0.7777777777777778,
             "#fb9f3a"
            ],
            [
             0.8888888888888888,
             "#fdca26"
            ],
            [
             1,
             "#f0f921"
            ]
           ],
           "sequentialminus": [
            [
             0,
             "#0d0887"
            ],
            [
             0.1111111111111111,
             "#46039f"
            ],
            [
             0.2222222222222222,
             "#7201a8"
            ],
            [
             0.3333333333333333,
             "#9c179e"
            ],
            [
             0.4444444444444444,
             "#bd3786"
            ],
            [
             0.5555555555555556,
             "#d8576b"
            ],
            [
             0.6666666666666666,
             "#ed7953"
            ],
            [
             0.7777777777777778,
             "#fb9f3a"
            ],
            [
             0.8888888888888888,
             "#fdca26"
            ],
            [
             1,
             "#f0f921"
            ]
           ]
          },
          "colorway": [
           "#636efa",
           "#EF553B",
           "#00cc96",
           "#ab63fa",
           "#FFA15A",
           "#19d3f3",
           "#FF6692",
           "#B6E880",
           "#FF97FF",
           "#FECB52"
          ],
          "font": {
           "color": "#2a3f5f"
          },
          "geo": {
           "bgcolor": "white",
           "lakecolor": "white",
           "landcolor": "#E5ECF6",
           "showlakes": true,
           "showland": true,
           "subunitcolor": "white"
          },
          "hoverlabel": {
           "align": "left"
          },
          "hovermode": "closest",
          "mapbox": {
           "style": "light"
          },
          "paper_bgcolor": "white",
          "plot_bgcolor": "#E5ECF6",
          "polar": {
           "angularaxis": {
            "gridcolor": "white",
            "linecolor": "white",
            "ticks": ""
           },
           "bgcolor": "#E5ECF6",
           "radialaxis": {
            "gridcolor": "white",
            "linecolor": "white",
            "ticks": ""
           }
          },
          "scene": {
           "xaxis": {
            "backgroundcolor": "#E5ECF6",
            "gridcolor": "white",
            "gridwidth": 2,
            "linecolor": "white",
            "showbackground": true,
            "ticks": "",
            "zerolinecolor": "white"
           },
           "yaxis": {
            "backgroundcolor": "#E5ECF6",
            "gridcolor": "white",
            "gridwidth": 2,
            "linecolor": "white",
            "showbackground": true,
            "ticks": "",
            "zerolinecolor": "white"
           },
           "zaxis": {
            "backgroundcolor": "#E5ECF6",
            "gridcolor": "white",
            "gridwidth": 2,
            "linecolor": "white",
            "showbackground": true,
            "ticks": "",
            "zerolinecolor": "white"
           }
          },
          "shapedefaults": {
           "line": {
            "color": "#2a3f5f"
           }
          },
          "ternary": {
           "aaxis": {
            "gridcolor": "white",
            "linecolor": "white",
            "ticks": ""
           },
           "baxis": {
            "gridcolor": "white",
            "linecolor": "white",
            "ticks": ""
           },
           "bgcolor": "#E5ECF6",
           "caxis": {
            "gridcolor": "white",
            "linecolor": "white",
            "ticks": ""
           }
          },
          "title": {
           "x": 0.05
          },
          "xaxis": {
           "automargin": true,
           "gridcolor": "white",
           "linecolor": "white",
           "ticks": "",
           "title": {
            "standoff": 15
           },
           "zerolinecolor": "white",
           "zerolinewidth": 2
          },
          "yaxis": {
           "automargin": true,
           "gridcolor": "white",
           "linecolor": "white",
           "ticks": "",
           "title": {
            "standoff": 15
           },
           "zerolinecolor": "white",
           "zerolinewidth": 2
          }
         }
        },
        "title": {
         "text": "Recession Signals: Yield Curve, Consumer Sentiment, and Unemployment(made earlier)"
        },
        "xaxis": {
         "anchor": "y",
         "domain": [
          0,
          1
         ],
         "matches": "x3",
         "showticklabels": false
        },
        "xaxis2": {
         "anchor": "y2",
         "domain": [
          0,
          1
         ],
         "matches": "x3",
         "showticklabels": false
        },
        "xaxis3": {
         "anchor": "y3",
         "domain": [
          0,
          1
         ],
         "title": {
          "text": "Date"
         }
        },
        "yaxis": {
         "anchor": "x",
         "domain": [
          0.7777777777777778,
          1
         ]
        },
        "yaxis2": {
         "anchor": "x2",
         "domain": [
          0.3888888888888889,
          0.6111111111111112
         ]
        },
        "yaxis3": {
         "anchor": "x3",
         "domain": [
          0,
          0.22222222222222224
         ]
        }
       }
      },
      "image/png": "[encoded data removed]",
      "text/html": [
       "<div>                            <div id=\"61300ae3-b313-4b53-86fe-d014e4d7793f\" class=\"plotly-graph-div\" style=\"height:900px; width:100%;\"></div>            <script type=\"text/javascript\">                require([\"plotly\"], function(Plotly) {                    window.PLOTLYENV=window.PLOTLYENV || {};                                    if (document.getElementById(\"61300ae3-b313-4b53-86fe-d014e4d7793f\")) {                    Plotly.newPlot(                        \"61300ae3-b313-4b53-86fe-d014e4d7793f\",                        [{\"line\":{\"color\":\"purple\"},\"mode\":\"lines+markers\",\"name\":\"10Y-2Y Yield Spread\",\"x\":[\"2015-04-30T00:00:00\",\"2015-05-31T00:00:00\",\"2015-06-30T00:00:00\",\"2015-07-31T00:00:00\",\"2015-08-31T00:00:00\",\"2015-09-30T00:00:00\",\"2015-10-31T00:00:00\",\"2015-11-30T00:00:00\",\"2015-12-31T00:00:00\",\"2016-01-31T00:00:00\",\"2016-02-29T00:00:00\",\"2016-03-31T00:00:00\",\"2016-04-30T00:00:00\",\"2016-05-31T00:00:00\",\"2016-06-30T00:00:00\",\"2016-07-31T00:00:00\",\"2016-08-31T00:00:00\",\"2016-09-30T00:00:00\",\"2016-10-31T00:00:00\",\"2016-11-30T00:00:00\",\"2016-12-31T00:00:00\",\"2017-01-31T00:00:00\",\"2017-02-28T00:00:00\",\"2017-03-31T00:00:00\",\"2017-04-30T00:00:00\",\"2017-05-31T00:00:00\",\"2017-06-30T00:00:00\",\"2017-07-31T00:00:00\",\"2017-08-31T00:00:00\",\"2017-09-30T00:00:00\",\"2017-10-31T00:00:00\",\"2017-11-30T00:00:00\",\"2017-12-31T00:00:00\",\"2018-01-31T00:00:00\",\"2018-02-28T00:00:00\",\"2018-03-31T00:00:00\",\"2018-04-30T00:00:00\",\"2018-05-31T00:00:00\",\"2018-06-30T00:00:00\",\"2018-07-31T00:00:00\",\"2018-08-31T00:00:00\",\"2018-09-30T00:00:00\",\"2018-10-31T00:00:00\",\"2018-11-30T00:00:00\",\"2018-12-31T00:00:00\",\"2019-01-31T00:00:00\",\"2019-02-28T00:00:00\",\"2019-03-31T00:00:00\",\"2019-04-30T00:00:00\",\"2019-05-31T00:00:00\",\"2019-06-30T00:00:00\",\"2019-07-31T00:00:00\",\"2019-08-31T00:00:00\",\"2019-09-30T00:00:00\",\"2019-10-31T00:00:00\",\"2019-11-30T00:00:00\",\"2019-12-31T00:00:00\",\"2020-01-31T00:00:00\",\"2020-02-29T00:00:00\",\"2020-03-31T00:00:00\",\"2020-04-30T00:00:00\",\"2020-05-31T00:00:00\",\"2020-06-30T00:00:00\",\"2020-07-31T00:00:00\",\"2020-08-31T00:00:00\",\"2020-09-30T00:00:00\",\"2020-10-31T00:00:00\",\"2020-11-30T00:00:00\",\"2020-12-31T00:00:00\",\"2021-01-31T00:00:00\",\"2021-02-28T00:00:00\",\"2021-03-31T00:00:00\",\"2021-04-30T00:00:00\",\"2021-05-31T00:00:00\",\"2021-06-30T00:00:00\",\"2021-07-31T00:00:00\",\"2021-08-31T00:00:00\",\"2021-09-30T00:00:00\",\"2021-10-31T00:00:00\",\"2021-11-30T00:00:00\",\"2021-12-31T00:00:00\",\"2022-01-31T00:00:00\",\"2022-02-28T00:00:00\",\"2022-03-31T00:00:00\",\"2022-04-30T00:00:00\",\"2022-05-31T00:00:00\",\"2022-06-30T00:00:00\",\"2022-07-31T00:00:00\",\"2022-08-31T00:00:00\",\"2022-09-30T00:00:00\",\"2022-10-31T00:00:00\",\"2022-11-30T00:00:00\",\"2022-12-31T00:00:00\",\"2023-01-31T00:00:00\",\"2023-02-28T00:00:00\",\"2023-03-31T00:00:00\",\"2023-04-30T00:00:00\",\"2023-05-31T00:00:00\",\"2023-06-30T00:00:00\",\"2023-07-31T00:00:00\",\"2023-08-31T00:00:00\",\"2023-09-30T00:00:00\",\"2023-10-31T00:00:00\",\"2023-11-30T00:00:00\",\"2023-12-31T00:00:00\",\"2024-01-31T00:00:00\",\"2024-02-29T00:00:00\",\"2024-03-31T00:00:00\",\"2024-04-30T00:00:00\",\"2024-05-31T00:00:00\",\"2024-06-30T00:00:00\",\"2024-07-31T00:00:00\",\"2024-08-31T00:00:00\",\"2024-09-30T00:00:00\",\"2024-10-31T00:00:00\",\"2024-11-30T00:00:00\",\"2024-12-31T00:00:00\",\"2025-01-31T00:00:00\",\"2025-02-28T00:00:00\",\"2025-03-31T00:00:00\",\"2025-04-30T00:00:00\"],\"y\":[1.47,1.51,1.71,1.53,1.47,1.42,1.41,1.27,1.21,1.18,0.96,1.05,1.06,0.97,0.91,0.79,0.78,0.83,0.98,1.26,1.25,1.26,1.14,1.13,1.01,0.93,0.93,0.96,0.79,0.86,0.78,0.64,0.51,0.58,0.62,0.47,0.46,0.43,0.33,0.29,0.24,0.24,0.28,0.21,0.21,0.18,0.21,0.14,0.24,0.19,0.25,0.13,0.0,0.05,0.17,0.17,0.34,0.18,0.27,0.47,0.44,0.49,0.5,0.44,0.58,0.56,0.74,0.68,0.8,1.0,1.3,1.58,1.49,1.44,1.2,1.05,1.1,1.24,1.07,0.91,0.79,0.61,0.39,0.04,0.19,0.32,0.06,-0.22,-0.3,-0.39,-0.41,-0.7,-0.53,-0.69,-0.89,-0.58,-0.6,-0.76,-1.06,-0.91,-0.76,-0.44,-0.19,-0.36,-0.35,-0.28,-0.39,-0.39,-0.35,-0.38,-0.35,-0.2,0.0,0.15,0.12,0.05,0.33,0.36,0.25,0.34,0.29],\"type\":\"scatter\",\"xaxis\":\"x\",\"yaxis\":\"y\"},{\"line\":{\"color\":\"red\",\"dash\":\"dash\"},\"mode\":\"lines\",\"name\":\"Inversion Threshold\",\"x\":[\"2015-04-30T00:00:00\",\"2025-04-30T00:00:00\"],\"y\":[0,0],\"type\":\"scatter\",\"xaxis\":\"x\",\"yaxis\":\"y\"},{\"line\":{\"color\":\"blue\"},\"mode\":\"lines+markers\",\"name\":\"Consumer Sentiment\",\"x\":[\"2015-04-30T00:00:00\",\"2015-05-31T00:00:00\",\"2015-06-30T00:00:00\",\"2015-07-31T00:00:00\",\"2015-08-31T00:00:00\",\"2015-09-30T00:00:00\",\"2015-10-31T00:00:00\",\"2015-11-30T00:00:00\",\"2015-12-31T00:00:00\",\"2016-01-31T00:00:00\",\"2016-02-29T00:00:00\",\"2016-03-31T00:00:00\",\"2016-04-30T00:00:00\",\"2016-05-31T00:00:00\",\"2016-06-30T00:00:00\",\"2016-07-31T00:00:00\",\"2016-08-31T00:00:00\",\"2016-09-30T00:00:00\",\"2016-10-31T00:00:00\",\"2016-11-30T00:00:00\",\"2016-12-31T00:00:00\",\"2017-01-31T00:00:00\",\"2017-02-28T00:00:00\",\"2017-03-31T00:00:00\",\"2017-04-30T00:00:00\",\"2017-05-31T00:00:00\",\"2017-06-30T00:00:00\",\"2017-07-31T00:00:00\",\"2017-08-31T00:00:00\",\"2017-09-30T00:00:00\",\"2017-10-31T00:00:00\",\"2017-11-30T00:00:00\",\"2017-12-31T00:00:00\",\"2018-01-31T00:00:00\",\"2018-02-28T00:00:00\",\"2018-03-31T00:00:00\",\"2018-04-30T00:00:00\",\"2018-05-31T00:00:00\",\"2018-06-30T00:00:00\",\"2018-07-31T00:00:00\",\"2018-08-31T00:00:00\",\"2018-09-30T00:00:00\",\"2018-10-31T00:00:00\",\"2018-11-30T00:00:00\",\"2018-12-31T00:00:00\",\"2019-01-31T00:00:00\",\"2019-02-28T00:00:00\",\"2019-03-31T00:00:00\",\"2019-04-30T00:00:00\",\"2019-05-31T00:00:00\",\"2019-06-30T00:00:00\",\"2019-07-31T00:00:00\",\"2019-08-31T00:00:00\",\"2019-09-30T00:00:00\",\"2019-10-31T00:00:00\",\"2019-11-30T00:00:00\",\"2019-12-31T00:00:00\",\"2020-01-31T00:00:00\",\"2020-02-29T00:00:00\",\"2020-03-31T00:00:00\",\"2020-04-30T00:00:00\",\"2020-05-31T00:00:00\",\"2020-06-30T00:00:00\",\"2020-07-31T00:00:00\",\"2020-08-31T00:00:00\",\"2020-09-30T00:00:00\",\"2020-10-31T00:00:00\",\"2020-11-30T00:00:00\",\"2020-12-31T00:00:00\",\"2021-01-31T00:00:00\",\"2021-02-28T00:00:00\",\"2021-03-31T00:00:00\",\"2021-04-30T00:00:00\",\"2021-05-31T00:00:00\",\"2021-06-30T00:00:00\",\"2021-07-31T00:00:00\",\"2021-08-31T00:00:00\",\"2021-09-30T00:00:00\",\"2021-10-31T00:00:00\",\"2021-11-30T00:00:00\",\"2021-12-31T00:00:00\",\"2022-01-31T00:00:00\",\"2022-02-28T00:00:00\",\"2022-03-31T00:00:00\",\"2022-04-30T00:00:00\",\"2022-05-31T00:00:00\",\"2022-06-30T00:00:00\",\"2022-07-31T00:00:00\",\"2022-08-31T00:00:00\",\"2022-09-30T00:00:00\",\"2022-10-31T00:00:00\",\"2022-11-30T00:00:00\",\"2022-12-31T00:00:00\",\"2023-01-31T00:00:00\",\"2023-02-28T00:00:00\",\"2023-03-31T00:00:00\",\"2023-04-30T00:00:00\",\"2023-05-31T00:00:00\",\"2023-06-30T00:00:00\",\"2023-07-31T00:00:00\",\"2023-08-31T00:00:00\",\"2023-09-30T00:00:00\",\"2023-10-31T00:00:00\",\"2023-11-30T00:00:00\",\"2023-12-31T00:00:00\",\"2024-01-31T00:00:00\",\"2024-02-29T00:00:00\",\"2024-03-31T00:00:00\",\"2024-04-30T00:00:00\",\"2024-05-31T00:00:00\",\"2024-06-30T00:00:00\",\"2024-07-31T00:00:00\",\"2024-08-31T00:00:00\",\"2024-09-30T00:00:00\",\"2024-10-31T00:00:00\",\"2024-11-30T00:00:00\",\"2024-12-31T00:00:00\",\"2025-01-31T00:00:00\",\"2025-02-28T00:00:00\",\"2025-03-31T00:00:00\",\"2025-04-30T00:00:00\"],\"y\":[95.9,90.7,96.1,93.1,91.9,87.2,90.0,91.3,92.6,92.0,91.7,91.0,89.0,94.7,93.5,90.0,89.8,91.2,87.2,93.8,98.2,98.5,96.3,96.9,97.0,97.1,95.0,93.4,96.8,95.1,100.7,98.5,95.9,95.7,99.7,101.4,98.8,98.0,98.2,97.9,96.2,100.1,98.6,97.5,98.3,91.2,93.8,98.4,97.2,100.0,98.2,98.4,89.8,93.2,95.5,96.8,99.3,99.8,101.0,89.1,71.8,72.3,78.1,72.5,74.1,80.4,81.8,76.9,80.7,79.0,76.8,84.9,88.3,82.9,85.5,81.2,70.3,72.8,71.7,67.4,70.6,67.2,62.8,59.4,65.2,58.4,50.0,51.5,58.2,58.6,59.9,56.7,59.8,64.9,66.9,62.0,63.7,59.0,64.2,71.5,69.4,67.8,63.8,61.3,69.7,79.0,76.9,79.4,77.2,69.1,68.2,66.4,67.9,70.1,70.5,71.8,74.0,71.7,64.7,64.7,64.7],\"type\":\"scatter\",\"xaxis\":\"x2\",\"yaxis\":\"y2\"}],                        {\"template\":{\"data\":{\"histogram2dcontour\":[{\"type\":\"histogram2dcontour\",\"colorbar\":{\"outlinewidth\":0,\"ticks\":\"\"},\"colorscale\":[[0.0,\"#0d0887\"],[0.1111111111111111,\"#46039f\"],[0.2222222222222222,\"#7201a8\"],[0.3333333333333333,\"#9c179e\"],[0.4444444444444444,\"#bd3786\"],[0.5555555555555556,\"#d8576b\"],[0.6666666666666666,\"#ed7953\"],[0.7777777777777778,\"#fb9f3a\"],[0.8888888888888888,\"#fdca26\"],[1.0,\"#f0f921\"]]}],\"choropleth\":[{\"type\":\"choropleth\",\"colorbar\":{\"outlinewidth\":0,\"ticks\":\"\"}}],\"histogram2d\":[{\"type\":\"histogram2d\",\"colorbar\":{\"outlinewidth\":0,\"ticks\":\"\"},\"colorscale\":[[0.0,\"#0d0887\"],[0.1111111111111111,\"#46039f\"],[0.2222222222222222,\"#7201a8\"],[0.3333333333333333,\"#9c179e\"],[0.4444444444444444,\"#bd3786\"],[0.5555555555555556,\"#d8576b\"],[0.6666666666666666,\"#ed7953\"],[0.7777777777777778,\"#fb9f3a\"],[0.8888888888888888,\"#fdca26\"],[1.0,\"#f0f921\"]]}],\"heatmap\":[{\"type\":\"heatmap\",\"colorbar\":{\"outlinewidth\":0,\"ticks\":\"\"},\"colorscale\":[[0.0,\"#0d0887\"],[0.1111111111111111,\"#46039f\"],[0.2222222222222222,\"#7201a8\"],[0.3333333333333333,\"#9c179e\"],[0.4444444444444444,\"#bd3786\"],[0.5555555555555556,\"#d8576b\"],[0.6666666666666666,\"#ed7953\"],[0.7777777777777778,\"#fb9f3a\"],[0.8888888888888888,\"#fdca26\"],[1.0,\"#f0f921\"]]}],\"heatmapgl\":[{\"type\":\"heatmapgl\",\"colorbar\":{\"outlinewidth\":0,\"ticks\":\"\"},\"colorscale\":[[0.0,\"#0d0887\"],[0.1111111111111111,\"#46039f\"],[0.2222222222222222,\"#7201a8\"],[0.3333333333333333,\"#9c179e\"],[0.4444444444444444,\"#bd3786\"],[0.5555555555555556,\"#d8576b\"],[0.6666666666666666,\"#ed7953\"],[0.7777777777777778,\"#fb9f3a\"],[0.8888888888888888,\"#fdca26\"],[1.0,\"#f0f921\"]]}],\"contourcarpet\":[{\"type\":\"contourcarpet\",\"colorbar\":{\"outlinewidth\":0,\"ticks\":\"\"}}],\"contour\":[{\"type\":\"contour\",\"colorbar\":{\"outlinewidth\":0,\"ticks\":\"\"},\"colorscale\":[[0.0,\"#0d0887\"],[0.1111111111111111,\"#46039f\"],[0.2222222222222222,\"#7201a8\"],[0.3333333333333333,\"#9c179e\"],[0.4444444444444444,\"#bd3786\"],[0.5555555555555556,\"#d8576b\"],[0.6666666666666666,\"#ed7953\"],[0.7777777777777778,\"#fb9f3a\"],[0.8888888888888888,\"#fdca26\"],[1.0,\"#f0f921\"]]}],\"surface\":[{\"type\":\"surface\",\"colorbar\":{\"outlinewidth\":0,\"ticks\":\"\"},\"colorscale\":[[0.0,\"#0d0887\"],[0.1111111111111111,\"#46039f\"],[0.2222222222222222,\"#7201a8\"],[0.3333333333333333,\"#9c179e\"],[0.4444444444444444,\"#bd3786\"],[0.5555555555555556,\"#d8576b\"],[0.6666666666666666,\"#ed7953\"],[0.7777777777777778,\"#fb9f3a\"],[0.8888888888888888,\"#fdca26\"],[1.0,\"#f0f921\"]]}],\"mesh3d\":[{\"type\":\"mesh3d\",\"colorbar\":{\"outlinewidth\":0,\"ticks\":\"\"}}],\"scatter\":[{\"fillpattern\":{\"fillmode\":\"overlay\",\"size\":10,\"solidity\":0.2},\"type\":\"scatter\"}],\"parcoords\":[{\"type\":\"parcoords\",\"line\":{\"colorbar\":{\"outlinewidth\":0,\"ticks\":\"\"}}}],\"scatterpolargl\":[{\"type\":\"scatterpolargl\",\"marker\":{\"colorbar\":{\"outlinewidth\":0,\"ticks\":\"\"}}}],\"bar\":[{\"error_x\":{\"color\":\"#2a3f5f\"},\"error_y\":{\"color\":\"#2a3f5f\"},\"marker\":{\"line\":{\"color\":\"#E5ECF6\",\"width\":0.5},\"pattern\":{\"fillmode\":\"overlay\",\"size\":10,\"solidity\":0.2}},\"type\":\"bar\"}],\"scattergeo\":[{\"type\":\"scattergeo\",\"marker\":{\"colorbar\":{\"outlinewidth\":0,\"ticks\":\"\"}}}],\"scatterpolar\":[{\"type\":\"scatterpolar\",\"marker\":{\"colorbar\":{\"outlinewidth\":0,\"ticks\":\"\"}}}],\"histogram\":[{\"marker\":{\"pattern\":{\"fillmode\":\"overlay\",\"size\":10,\"solidity\":0.2}},\"type\":\"histogram\"}],\"scattergl\":[{\"type\":\"scattergl\",\"marker\":{\"colorbar\":{\"outlinewidth\":0,\"ticks\":\"\"}}}],\"scatter3d\":[{\"type\":\"scatter3d\",\"line\":{\"colorbar\":{\"outlinewidth\":0,\"ticks\":\"\"}},\"marker\":{\"colorbar\":{\"outlinewidth\":0,\"ticks\":\"\"}}}],\"scattermapbox\":[{\"type\":\"scattermapbox\",\"marker\":{\"colorbar\":{\"outlinewidth\":0,\"ticks\":\"\"}}}],\"scatterternary\":[{\"type\":\"scatterternary\",\"marker\":{\"colorbar\":{\"outlinewidth\":0,\"ticks\":\"\"}}}],\"scattercarpet\":[{\"type\":\"scattercarpet\",\"marker\":{\"colorbar\":{\"outlinewidth\":0,\"ticks\":\"\"}}}],\"carpet\":[{\"aaxis\":{\"endlinecolor\":\"#2a3f5f\",\"gridcolor\":\"white\",\"linecolor\":\"white\",\"minorgridcolor\":\"white\",\"startlinecolor\":\"#2a3f5f\"},\"baxis\":{\"endlinecolor\":\"#2a3f5f\",\"gridcolor\":\"white\",\"linecolor\":\"white\",\"minorgridcolor\":\"white\",\"startlinecolor\":\"#2a3f5f\"},\"type\":\"carpet\"}],\"table\":[{\"cells\":{\"fill\":{\"color\":\"#EBF0F8\"},\"line\":{\"color\":\"white\"}},\"header\":{\"fill\":{\"color\":\"#C8D4E3\"},\"line\":{\"color\":\"white\"}},\"type\":\"table\"}],\"barpolar\":[{\"marker\":{\"line\":{\"color\":\"#E5ECF6\",\"width\":0.5},\"pattern\":{\"fillmode\":\"overlay\",\"size\":10,\"solidity\":0.2}},\"type\":\"barpolar\"}],\"pie\":[{\"automargin\":true,\"type\":\"pie\"}]},\"layout\":{\"autotypenumbers\":\"strict\",\"colorway\":[\"#636efa\",\"#EF553B\",\"#00cc96\",\"#ab63fa\",\"#FFA15A\",\"#19d3f3\",\"#FF6692\",\"#B6E880\",\"#FF97FF\",\"#FECB52\"],\"font\":{\"color\":\"#2a3f5f\"},\"hovermode\":\"closest\",\"hoverlabel\":{\"align\":\"left\"},\"paper_bgcolor\":\"white\",\"plot_bgcolor\":\"#E5ECF6\",\"polar\":{\"bgcolor\":\"#E5ECF6\",\"angularaxis\":{\"gridcolor\":\"white\",\"linecolor\":\"white\",\"ticks\":\"\"},\"radialaxis\":{\"gridcolor\":\"white\",\"linecolor\":\"white\",\"ticks\":\"\"}},\"ternary\":{\"bgcolor\":\"#E5ECF6\",\"aaxis\":{\"gridcolor\":\"white\",\"linecolor\":\"white\",\"ticks\":\"\"},\"baxis\":{\"gridcolor\":\"white\",\"linecolor\":\"white\",\"ticks\":\"\"},\"caxis\":{\"gridcolor\":\"white\",\"linecolor\":\"white\",\"ticks\":\"\"}},\"coloraxis\":{\"colorbar\":{\"outlinewidth\":0,\"ticks\":\"\"}},\"colorscale\":{\"sequential\":[[0.0,\"#0d0887\"],[0.1111111111111111,\"#46039f\"],[0.2222222222222222,\"#7201a8\"],[0.3333333333333333,\"#9c179e\"],[0.4444444444444444,\"#bd3786\"],[0.5555555555555556,\"#d8576b\"],[0.6666666666666666,\"#ed7953\"],[0.7777777777777778,\"#fb9f3a\"],[0.8888888888888888,\"#fdca26\"],[1.0,\"#f0f921\"]],\"sequentialminus\":[[0.0,\"#0d0887\"],[0.1111111111111111,\"#46039f\"],[0.2222222222222222,\"#7201a8\"],[0.3333333333333333,\"#9c179e\"],[0.4444444444444444,\"#bd3786\"],[0.5555555555555556,\"#d8576b\"],[0.6666666666666666,\"#ed7953\"],[0.7777777777777778,\"#fb9f3a\"],[0.8888888888888888,\"#fdca26\"],[1.0,\"#f0f921\"]],\"diverging\":[[0,\"#8e0152\"],[0.1,\"#c51b7d\"],[0.2,\"#de77ae\"],[0.3,\"#f1b6da\"],[0.4,\"#fde0ef\"],[0.5,\"#f7f7f7\"],[0.6,\"#e6f5d0\"],[0.7,\"#b8e186\"],[0.8,\"#7fbc41\"],[0.9,\"#4d9221\"],[1,\"#276419\"]]},\"xaxis\":{\"gridcolor\":\"white\",\"linecolor\":\"white\",\"ticks\":\"\",\"title\":{\"standoff\":15},\"zerolinecolor\":\"white\",\"automargin\":true,\"zerolinewidth\":2},\"yaxis\":{\"gridcolor\":\"white\",\"linecolor\":\"white\",\"ticks\":\"\",\"title\":{\"standoff\":15},\"zerolinecolor\":\"white\",\"automargin\":true,\"zerolinewidth\":2},\"scene\":{\"xaxis\":{\"backgroundcolor\":\"#E5ECF6\",\"gridcolor\":\"white\",\"linecolor\":\"white\",\"showbackground\":true,\"ticks\":\"\",\"zerolinecolor\":\"white\",\"gridwidth\":2},\"yaxis\":{\"backgroundcolor\":\"#E5ECF6\",\"gridcolor\":\"white\",\"linecolor\":\"white\",\"showbackground\":true,\"ticks\":\"\",\"zerolinecolor\":\"white\",\"gridwidth\":2},\"zaxis\":{\"backgroundcolor\":\"#E5ECF6\",\"gridcolor\":\"white\",\"linecolor\":\"white\",\"showbackground\":true,\"ticks\":\"\",\"zerolinecolor\":\"white\",\"gridwidth\":2}},\"shapedefaults\":{\"line\":{\"color\":\"#2a3f5f\"}},\"annotationdefaults\":{\"arrowcolor\":\"#2a3f5f\",\"arrowhead\":0,\"arrowwidth\":1},\"geo\":{\"bgcolor\":\"white\",\"landcolor\":\"#E5ECF6\",\"subunitcolor\":\"white\",\"showland\":true,\"showlakes\":true,\"lakecolor\":\"white\"},\"title\":{\"x\":0.05},\"mapbox\":{\"style\":\"light\"}}},\"xaxis\":{\"anchor\":\"y\",\"domain\":[0.0,1.0],\"matches\":\"x3\",\"showticklabels\":false},\"yaxis\":{\"anchor\":\"x\",\"domain\":[0.7777777777777778,1.0]},\"xaxis2\":{\"anchor\":\"y2\",\"domain\":[0.0,1.0],\"matches\":\"x3\",\"showticklabels\":false},\"yaxis2\":{\"anchor\":\"x2\",\"domain\":[0.3888888888888889,0.6111111111111112]},\"xaxis3\":{\"anchor\":\"y3\",\"domain\":[0.0,1.0],\"title\":{\"text\":\"Date\"}},\"yaxis3\":{\"anchor\":\"x3\",\"domain\":[0.0,0.22222222222222224]},\"annotations\":[{\"font\":{\"size\":16},\"showarrow\":false,\"text\":\"Yield Curve Spread (10Y-2Y)\",\"x\":0.5,\"xanchor\":\"center\",\"xref\":\"paper\",\"y\":1.0,\"yanchor\":\"bottom\",\"yref\":\"paper\"},{\"font\":{\"size\":16},\"showarrow\":false,\"text\":\"Consumer Sentiment Index\",\"x\":0.5,\"xanchor\":\"center\",\"xref\":\"paper\",\"y\":0.6111111111111112,\"yanchor\":\"bottom\",\"yref\":\"paper\"}],\"title\":{\"text\":\"Recession Signals: Yield Curve, Consumer Sentiment, and Unemployment(made earlier)\"},\"height\":900},                        {\"responsive\": true}                    ).then(function(){\n",
       "                            \n",
       "var gd = document.getElementById('61300ae3-b313-4b53-86fe-d014e4d7793f');\n",
       "var x = new MutationObserver(function (mutations, observer) {{\n",
       "        var display = window.getComputedStyle(gd).display;\n",
       "        if (!display || display === 'none') {{\n",
       "            console.log([gd, 'removed!']);\n",
       "            Plotly.purge(gd);\n",
       "            observer.disconnect();\n",
       "        }}\n",
       "}});\n",
       "\n",
       "// Listen for the removal of the full notebook cells\n",
       "var notebookContainer = gd.closest('#notebook-container');\n",
       "if (notebookContainer) {{\n",
       "    x.observe(notebookContainer, {childList: true});\n",
       "}}\n",
       "\n",
       "// Listen for the clearing of the current output cell\n",
       "var outputEl = gd.closest('.output');\n",
       "if (outputEl) {{\n",
       "    x.observe(outputEl, {childList: true});\n",
       "}}\n",
       "\n",
       "                        })                };                });            </script>        </div>"
      ]
     },
     "metadata": {},
     "output_type": "display_data"
    }
   ],
   "source": [
    "import pandas as pd\n",
    "import plotly.express as px\n",
    "import plotly.graph_objects as go\n",
    "from plotly.subplots import make_subplots\n",
    "\n",
    "# Load the dataset\n",
    "file_path = \"macro_data.csv\"\n",
    "macro_data = pd.read_csv(file_path)\n",
    "\n",
    "# Convert DATE column to datetime\n",
    "macro_data[\"DATE\"] = pd.to_datetime(macro_data[\"DATE\"])\n",
    "\n",
    "\n",
    "#  Trend Analysis: GDP Growth, Inflation, Unemployment\n",
    "\n",
    "\n",
    "# Prepare data for each indicator\n",
    "gdp_growth = macro_data[[\"DATE\", \"GDP_Growth_QoQ\"]].dropna()\n",
    "cpi_inflation = macro_data[[\"DATE\", \"CPI_YoY\"]].dropna()\n",
    "unemployment = macro_data[[\"DATE\", \"UNRATE_UNRATE\"]]\n",
    "\n",
    "# Create subplots for trend analysis\n",
    "fig_trends = make_subplots(rows=3, cols=1, shared_xaxes=True,\n",
    "                           subplot_titles=(\"GDP Growth Rate (QoQ)\",\n",
    "                                           \"CPI Inflation Rate (YoY)\",\n",
    "                                           \"Unemployment Rate\"))\n",
    "\n",
    "# GDP Growth\n",
    "fig_trends.add_trace(\n",
    "    go.Scatter(x=gdp_growth[\"DATE\"], y=gdp_growth[\"GDP_Growth_QoQ\"],\n",
    "               mode='lines+markers', name='GDP Growth QoQ'),\n",
    "    row=1, col=1\n",
    ")\n",
    "# Zero line for GDP Growth (reference)\n",
    "fig_trends.add_trace(\n",
    "    go.Scatter(x=[gdp_growth[\"DATE\"].min(), gdp_growth[\"DATE\"].max()],\n",
    "               y=[0, 0], mode=\"lines\", line=dict(color=\"red\", dash=\"dash\"),\n",
    "               name=\"Zero Line\"),\n",
    "    row=1, col=1\n",
    ")\n",
    "\n",
    "# CPI Inflation\n",
    "fig_trends.add_trace(\n",
    "    go.Scatter(x=cpi_inflation[\"DATE\"], y=cpi_inflation[\"CPI_YoY\"],\n",
    "               mode='lines+markers', name='CPI YoY', line=dict(color=\"orange\")),\n",
    "    row=2, col=1\n",
    ")\n",
    "\n",
    "# Unemployment Rate\n",
    "fig_trends.add_trace(\n",
    "    go.Scatter(x=unemployment[\"DATE\"], y=unemployment[\"UNRATE_UNRATE\"],\n",
    "               mode='lines+markers', name='Unemployment Rate', line=dict(color=\"green\")),\n",
    "    row=3, col=1\n",
    ")\n",
    "\n",
    "fig_trends.update_layout(title_text=\"Trend Analysis: GDP Growth, Inflation, and Unemployment\",\n",
    "                           height=900)\n",
    "fig_trends.update_xaxes(title_text=\"Date\", row=3, col=1)\n",
    "fig_trends.show()\n",
    "\n",
    "\n",
    "# Correlation Analysis: Heatmap of Key Indicators\n",
    "\n",
    "\n",
    "#key macroeconomic indicators for correlation analysis\n",
    "corr_columns = [\n",
    "    \"GDP_Growth_QoQ\", \"CPI_YoY\", \"UNRATE_UNRATE\", \"FEDFUNDS_FEDFUNDS\", \n",
    "    \"DGS10_DGS10\", \"DGS2_DGS2\", \"T10Y2Y_T10Y2Y\", \"SP500_SP500\", \"VIXCLS_VIXCLS\", \n",
    "    \"GFDEBTN_GFDEBTN\", \"M2SL_M2SL\"\n",
    "]\n",
    "corr_data = macro_data[corr_columns].dropna()\n",
    "\n",
    "#correlation matrix\n",
    "corr_matrix = corr_data.corr()\n",
    "\n",
    "#correlation heatmap\n",
    "fig_corr = go.Figure(data=go.Heatmap(\n",
    "    z=corr_matrix.values,\n",
    "    x=corr_matrix.columns,\n",
    "    y=corr_matrix.columns,\n",
    "    colorscale=\"RdBu\",\n",
    "    zmid=0,\n",
    "    text=corr_matrix.round(2).values,\n",
    "    hoverinfo=\"text\"\n",
    "))\n",
    "fig_corr.update_layout(title=\"Correlation Matrix of Key Macroeconomic Indicators\",\n",
    "                       xaxis_nticks=36, height=600)\n",
    "fig_corr.show()\n",
    "\n",
    "#-----------------------------------------------------------------------------------------\n",
    "# Recession Signals: Yield Spread, Consumer Sentiment, Unemployment, we made unemployment earlier\n",
    "\n",
    "\n",
    "# Prepare data for recession signals\n",
    "yield_spread = macro_data[[\"DATE\", \"T10Y2Y_T10Y2Y\"]]\n",
    "consumer_sentiment = macro_data[[\"DATE\", \"UMCSENT_UMCSENT\"]]\n",
    "unemployment = macro_data[[\"DATE\", \"UNRATE_UNRATE\"]]\n",
    "\n",
    "# Create subplots for recession signals\n",
    "fig_recession = make_subplots(rows=3, cols=1, shared_xaxes=True,\n",
    "                              subplot_titles=(\"Yield Curve Spread (10Y-2Y)\",\n",
    "                                              \"Consumer Sentiment Index\",\n",
    "                                              ))\n",
    "\n",
    "# Yield Curve Spread\n",
    "fig_recession.add_trace(\n",
    "    go.Scatter(x=yield_spread[\"DATE\"], y=yield_spread[\"T10Y2Y_T10Y2Y\"],\n",
    "               mode=\"lines+markers\", name=\"10Y-2Y Yield Spread\", line=dict(color=\"purple\")),\n",
    "    row=1, col=1\n",
    ")\n",
    "# Zero line for yield spread\n",
    "fig_recession.add_trace(\n",
    "    go.Scatter(x=[yield_spread[\"DATE\"].min(), yield_spread[\"DATE\"].max()],\n",
    "               y=[0, 0], mode=\"lines\", line=dict(color=\"red\", dash=\"dash\"),\n",
    "               name=\"Inversion Threshold\"),\n",
    "    row=1, col=1\n",
    ")\n",
    "\n",
    "# Consumer Sentiment\n",
    "fig_recession.add_trace(\n",
    "    go.Scatter(x=consumer_sentiment[\"DATE\"], y=consumer_sentiment[\"UMCSENT_UMCSENT\"],\n",
    "               mode=\"lines+markers\", name=\"Consumer Sentiment\", line=dict(color=\"blue\")),\n",
    "    row=2, col=1\n",
    ")\n",
    "#-------ignore---------------------------\n",
    "# Unemployment Rate\n",
    "#fig_recession.add_trace(\n",
    " #   go.Scatter(x=unemployment[\"DATE\"], y=unemployment[\"UNRATE_UNRATE\"],\n",
    "  #             mode=\"lines+markers\", name=\"Unemployment Rate\", line=dict(color=\"green\")),\n",
    "   # row=3, col=1\n",
    "#)\n",
    "#-----------------------------------------------------\n",
    "fig_recession.update_layout(title_text=\"Recession Signals: Yield Curve, Consumer Sentiment, and Unemployment(made earlier)\",\n",
    "                              height=900)\n",
    "fig_recession.update_xaxes(title_text=\"Date\", row=3, col=1)\n",
    "fig_recession.show()"
   ]
  },
  {
   "cell_type": "code",
   "execution_count": null,
   "id": "46258ecc-7913-442c-aa20-f1edf61c9e14",
   "metadata": {},
   "outputs": [],
   "source": [
    "#arima"
   ]
  },
  {
   "cell_type": "code",
   "execution_count": 8,
   "id": "e74d5503-3c5a-4980-b188-b71bb028182e",
   "metadata": {},
   "outputs": [
    {
     "name": "stdout",
     "output_type": "stream",
     "text": [
      "First 5 rows of the dataset:\n",
      "         DATE    GDP_GDP  GDPC1_GDPC1  GDPPOT_GDPPOT  PCEC_PCEC  \\\n",
      "0  2015-04-30  18279.784    18782.243    18963.01626  12264.140   \n",
      "1  2015-05-31  18279.784    18782.243    18963.01626  12264.140   \n",
      "2  2015-06-30  18279.784    18782.243    18963.01626  12264.140   \n",
      "3  2015-07-31  18401.626    18857.418    19056.83833  12382.494   \n",
      "4  2015-08-31  18401.626    18857.418    19056.83833  12382.494   \n",
      "\n",
      "   UNRATE_UNRATE  PAYEMS_PAYEMS  CE16OV_CE16OV  U6RATE_U6RATE  \\\n",
      "0            5.4       141196.0       148511.0           10.9   \n",
      "1            5.6       141538.0       148817.0           10.9   \n",
      "2            5.3       141709.0       148816.0           10.4   \n",
      "3            5.2       141991.0       148830.0           10.3   \n",
      "4            5.1       142125.0       149181.0           10.2   \n",
      "\n",
      "   CPIAUCSL_CPIAUCSL  ...  GFDEBTN_GFDEBTN  TOTCI_TOTCI  M2SL_M2SL  \\\n",
      "0            236.222  ...       18151998.0    1852.9063    11937.6   \n",
      "1            237.001  ...       18151998.0    1870.8205    11965.0   \n",
      "2            237.657  ...       18151998.0    1883.0036    12005.6   \n",
      "3            238.034  ...       18150618.0    1887.2229    12049.2   \n",
      "4            238.033  ...       18150618.0    1911.9086    12093.7   \n",
      "\n",
      "   DTWEXBGS_DTWEXBGS  DEXUSEU_DEXUSEU  DEXCHUS_DEXCHUS  USSLIND_USSLIND  \\\n",
      "0           105.3120           1.1162           6.2018             1.71   \n",
      "1           106.7388           1.0994           6.1980             1.89   \n",
      "2           106.5191           1.1154           6.2000             1.68   \n",
      "3           108.7819           1.1028           6.2097             1.84   \n",
      "4           110.5621           1.1194           6.3760             1.76   \n",
      "\n",
      "   T10Y2Y_T10Y2Y  GDP_Growth_QoQ  CPI_YoY  \n",
      "0           1.47             NaN      NaN  \n",
      "1           1.51         0.00000      NaN  \n",
      "2           1.71         0.00000      NaN  \n",
      "3           1.53         0.66654      NaN  \n",
      "4           1.47         0.00000      NaN  \n",
      "\n",
      "[5 rows x 41 columns]\n",
      "\n",
      "Columns in the dataset:\n",
      "['DATE', 'GDP_GDP', 'GDPC1_GDPC1', 'GDPPOT_GDPPOT', 'PCEC_PCEC', 'UNRATE_UNRATE', 'PAYEMS_PAYEMS', 'CE16OV_CE16OV', 'U6RATE_U6RATE', 'CPIAUCSL_CPIAUCSL', 'PCEPI_PCEPI', 'PPIACO_PPIACO', 'FEDFUNDS_FEDFUNDS', 'DGS10_DGS10', 'DGS2_DGS2', 'HOUST_HOUST', 'CSUSHPINSA_CSUSHPINSA', 'MSPUS_MSPUS', 'INDPRO_INDPRO', 'TCU_TCU', 'NEWORDER_NEWORDER', 'RRSFS_RRSFS', 'UMCSENT_UMCSENT', 'BOPGSTB_BOPGSTB', 'EXPGS_EXPGS', 'IMPGS_IMPGS', 'DJIA_DJIA', 'SP500_SP500', 'VIXCLS_VIXCLS', 'DCOILWTICO_DCOILWTICO', 'FYFSD_FYFSD', 'GFDEBTN_GFDEBTN', 'TOTCI_TOTCI', 'M2SL_M2SL', 'DTWEXBGS_DTWEXBGS', 'DEXUSEU_DEXUSEU', 'DEXCHUS_DEXCHUS', 'USSLIND_USSLIND', 'T10Y2Y_T10Y2Y', 'GDP_Growth_QoQ', 'CPI_YoY']\n"
     ]
    },
    {
     "name": "stderr",
     "output_type": "stream",
     "text": [
      "C:\\Users\\chour\\AppData\\Roaming\\Python\\Python313\\site-packages\\statsmodels\\tsa\\base\\tsa_model.py:473: ValueWarning:\n",
      "\n",
      "No frequency information was provided, so inferred frequency ME will be used.\n",
      "\n",
      "C:\\Users\\chour\\AppData\\Roaming\\Python\\Python313\\site-packages\\statsmodels\\tsa\\base\\tsa_model.py:473: ValueWarning:\n",
      "\n",
      "No frequency information was provided, so inferred frequency ME will be used.\n",
      "\n",
      "C:\\Users\\chour\\AppData\\Roaming\\Python\\Python313\\site-packages\\statsmodels\\tsa\\base\\tsa_model.py:473: ValueWarning:\n",
      "\n",
      "No frequency information was provided, so inferred frequency ME will be used.\n",
      "\n"
     ]
    },
    {
     "name": "stdout",
     "output_type": "stream",
     "text": [
      "\n",
      "ARIMA Model Summary:\n",
      "                               SARIMAX Results                                \n",
      "==============================================================================\n",
      "Dep. Variable:                GDP_GDP   No. Observations:                  121\n",
      "Model:                 ARIMA(1, 1, 1)   Log Likelihood                -852.543\n",
      "Date:                Tue, 08 Apr 2025   AIC                           1711.086\n",
      "Time:                        01:22:22   BIC                           1719.449\n",
      "Sample:                    04-30-2015   HQIC                          1714.482\n",
      "                         - 04-30-2025                                         \n",
      "Covariance Type:                  opg                                         \n",
      "==============================================================================\n",
      "                 coef    std err          z      P>|z|      [0.025      0.975]\n",
      "------------------------------------------------------------------------------\n",
      "ar.L1          1.0000      0.001   1139.920      0.000       0.998       1.002\n",
      "ma.L1         -0.9989      0.040    -25.201      0.000      -1.077      -0.921\n",
      "sigma2      8.599e+04   4.73e-07   1.82e+11      0.000     8.6e+04     8.6e+04\n",
      "===================================================================================\n",
      "Ljung-Box (L1) (Q):                   1.60   Jarque-Bera (JB):              2226.71\n",
      "Prob(Q):                              0.21   Prob(JB):                         0.00\n",
      "Heteroskedasticity (H):               3.80   Skew:                            -0.17\n",
      "Prob(H) (two-sided):                  0.00   Kurtosis:                        24.10\n",
      "===================================================================================\n",
      "\n",
      "Warnings:\n",
      "[1] Covariance matrix calculated using the outer product of gradients (complex-step).\n",
      "[2] Covariance matrix is singular or near-singular, with condition number 3.02e+25. Standard errors may be unstable.\n",
      "Forecasted GDP Values for the Next 8 Periods:\n",
      "GDP_GDP             mean  mean_ci_lower  mean_ci_upper\n",
      "2025-05-31  29815.396299   29238.918919   30391.873680\n",
      "2025-06-30  29906.927514   29088.778914   30725.076114\n",
      "2025-07-31  29998.457646   28992.911291   31004.004001\n",
      "2025-08-31  30089.986693   28924.827573   31255.145814\n",
      "2025-09-30  30181.514657   28874.309765   31488.719549\n",
      "2025-10-31  30273.041537   28836.138401   31709.944672\n",
      "2025-11-30  30364.567333   28807.225259   31921.909407\n",
      "2025-12-31  30456.092045   28785.566272   32126.617818\n"
     ]
    }
   ],
   "source": [
    "import pandas as pd\n",
    "import statsmodels.api as sm\n",
    "from statsmodels.tsa.arima.model import ARIMA\n",
    "\n",
    "\n",
    "df = pd.read_csv('macro_data.csv', parse_dates=True)\n",
    "\n",
    "# Display first few rows\n",
    "print(\"First 5 rows of the dataset:\")\n",
    "print(df.head())\n",
    "\n",
    "#print column names for choosing variable\n",
    "print(\"\\nColumns in the dataset:\")\n",
    "print(df.columns.tolist())\n",
    "\n",
    "# dataset contains a date column, settin it as the index.\n",
    "\n",
    "if 'DATE' in df.columns:\n",
    "    df['DATE'] = pd.to_datetime(df['DATE'])\n",
    "    df.set_index('DATE', inplace=True)\n",
    "\n",
    "#our ariable for ARIMA modeling.\n",
    "\n",
    "\n",
    "ts = df['GDP_GDP'].dropna()  #drop missing values if any\n",
    "\n",
    "#use the arima model of required order, we will tho use 1,1,1, we can change and see our results if needed\n",
    "model = ARIMA(ts, order=(1, 1, 1))\n",
    "model_fit = model.fit()\n",
    "\n",
    "# Print tabular summary of arima model results\n",
    "print(\"\\nARIMA Model Summary:\")\n",
    "print(model_fit.summary())\n",
    "\n",
    "\n",
    "# forecast next 8 periods using arima\n",
    "forecast_steps = 8\n",
    "forecast_results = model_fit.get_forecast(steps=forecast_steps)\n",
    "forecast_df = forecast_results.summary_frame(alpha=0.05)\n",
    "\n",
    "#display forecast result\n",
    "print(\"Forecasted GDP Values for the Next 8 Periods:\")\n",
    "print(forecast_df[['mean', 'mean_ci_lower', 'mean_ci_upper']])\n",
    "\n"
   ]
  },
  {
   "cell_type": "code",
   "execution_count": null,
   "id": "2f4fc62a-c8f8-4002-a2b7-1be1ed7b8f66",
   "metadata": {},
   "outputs": [],
   "source": []
  }
 ],
 "metadata": {
  "kernelspec": {
   "display_name": "Python 3 (ipykernel)",
   "language": "python",
   "name": "python3"
  },
  "language_info": {
   "codemirror_mode": {
    "name": "ipython",
    "version": 3
   },
   "file_extension": ".py",
   "mimetype": "text/x-python",
   "name": "python",
   "nbconvert_exporter": "python",
   "pygments_lexer": "ipython3",
   "version": "3.13.2"
  }
 },
 "nbformat": 4,
 "nbformat_minor": 5
}
